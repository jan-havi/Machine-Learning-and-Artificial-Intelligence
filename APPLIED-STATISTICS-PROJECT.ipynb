{
 "cells": [
  {
   "cell_type": "code",
   "execution_count": 67,
   "metadata": {},
   "outputs": [],
   "source": [
    "#Importing the packages \n",
    "import numpy as np\n",
    "import pandas as pd\n",
    "import scipy.stats as stats\n",
    "import matplotlib.pyplot as plt\n",
    "import seaborn as sns"
   ]
  },
  {
   "cell_type": "markdown",
   "metadata": {},
   "source": [
    "# PART 1  "
   ]
  },
  {
   "cell_type": "markdown",
   "metadata": {},
   "source": [
    "# Question 1"
   ]
  },
  {
   "cell_type": "code",
   "execution_count": null,
   "metadata": {},
   "outputs": [],
   "source": [
    "# 1. Refer to the above table and find the joint probability of the people who planned to purchase and actually \n",
    "# placed an order.\n",
    "print('the joint probability of the people who planned to purchase and actually placed an order is 400/500 i.e 0.8.')\n",
    "# 2. Refer to the above table and find the joint probability of the people who planned to purchase and actually \n",
    "# placed an order, given that people planned to purchase.\n",
    "print('the joint probability of the people who planned to purchase and actually placed an order, given that people planned to purchase. 400/200 i.e 2.')\n"
   ]
  },
  {
   "cell_type": "markdown",
   "metadata": {},
   "source": [
    "# Question 2"
   ]
  },
  {
   "cell_type": "code",
   "execution_count": 211,
   "metadata": {},
   "outputs": [
    {
     "name": "stdout",
     "output_type": "stream",
     "text": [
      "[5.98736939e-01 3.15124705e-01 7.46347985e-02 1.04750594e-02\n",
      " 9.64808106e-04 6.09352488e-05 2.67259863e-06 8.03789063e-08\n",
      " 1.58642578e-09 1.85546875e-11 9.76562500e-14]\n",
      "[0.59873694 0.91386164 0.98849644 0.9989715  0.99993631 0.99999725\n",
      " 0.99999992 1.         1.         1.         1.        ]\n"
     ]
    }
   ],
   "source": [
    "#Soultion 1 \n",
    "p = 0.05\n",
    "n=10\n",
    "k=np.arange(0,11)\n",
    "binomial = stats.binom.pmf(k,n,p)\n",
    "print(binomial)\n",
    "\n",
    "cumbinomial = stats.binom.cdf(k,n,p)\n",
    "print(cumbinomial)"
   ]
  },
  {
   "cell_type": "code",
   "execution_count": 212,
   "metadata": {},
   "outputs": [
    {
     "name": "stdout",
     "output_type": "stream",
     "text": [
      "a) none of the items are defective is 0.5987\n",
      "a) exactly one of the items is defective is 0.3151\n",
      "a)two or fewer of the items are defective is 0.9885\n",
      "a) three or more of the items are defective is 0.0115\n"
     ]
    }
   ],
   "source": [
    "# A. Probability that none of the items are defective?\n",
    "print('a) none of the items are defective is %1.4f' %binomial[0])\n",
    "\n",
    "# B. Probability that exactly one of the items is defective?\n",
    "print('b) exactly one of the items is defective is %1.4f' %binomial[1])\n",
    "\n",
    "# C. Probability that two or fewer of the items are defective?\n",
    "print('c)two or fewer of the items are defective is %1.4f' %cumbinomial[2])\n",
    "\n",
    "# D. Probability that three or more of the items are defective?\n",
    "P = 1- cumbinomial[2]\n",
    "print('d) three or more of the items are defective is %1.4f' %P)"
   ]
  },
  {
   "cell_type": "markdown",
   "metadata": {},
   "source": [
    "# Question 3"
   ]
  },
  {
   "cell_type": "code",
   "execution_count": 214,
   "metadata": {},
   "outputs": [
    {
     "name": "stdout",
     "output_type": "stream",
     "text": [
      "[4.97870684e-02 1.49361205e-01 2.24041808e-01 2.24041808e-01\n",
      " 1.68031356e-01 1.00818813e-01 5.04094067e-02 2.16040315e-02\n",
      " 8.10151179e-03 2.70050393e-03 8.10151179e-04 2.20950322e-04\n",
      " 5.52375804e-05 1.27471339e-05 2.73152870e-06 5.46305740e-07\n",
      " 1.02432326e-07 1.80762929e-08 3.01271548e-09 4.75691918e-10]\n"
     ]
    }
   ],
   "source": [
    "rate = 3\n",
    "n=np.arange(0,20)\n",
    "poisson = stats.poisson.pmf(n,rate)\n",
    "print(poisson)"
   ]
  },
  {
   "cell_type": "code",
   "execution_count": 218,
   "metadata": {},
   "outputs": [
    {
     "name": "stdout",
     "output_type": "stream",
     "text": [
      "a)Probability that in a given week he will sell some cars. 0.9502\n",
      "b)Probability that in a given week he will sell 2 or more but less than 5 cars. 0.6161\n"
     ]
    },
    {
     "data": {
      "image/png": "[encoded data removed]",
      "text/plain": [
       "<Figure size 432x288 with 1 Axes>"
      ]
     },
     "metadata": {
      "needs_background": "light"
     },
     "output_type": "display_data"
    }
   ],
   "source": [
    "# A. Probability that in a given week he will sell some cars.\n",
    "a = 1-poisson[0]\n",
    "print('a)Probability that in a given week he will sell some cars. %1.4f' %a)\n",
    "\n",
    "# B. Probability that in a given week he will sell 2 or more but less than 5 cars.\n",
    "b= poisson[2]+poisson[3]+poisson[4]\n",
    "print('b)Probability that in a given week he will sell 2 or more but less than 5 cars. %1.4f' %b)\n",
    "\n",
    "# C. Plot the poisson distribution function for cumulative probability of cars sold per-week vs number of cars sold per-week.\n",
    "plt.plot(n,poisson,'o-')\n",
    "plt.title('Poisson: $\\lambda$ = %i ' % rate)\n",
    "plt.xlabel('number of cars sold per week')\n",
    "plt.ylabel('cumulative probability of cars sold per-week')\n",
    "plt.show()"
   ]
  },
  {
   "cell_type": "markdown",
   "metadata": {},
   "source": [
    "# Question 4"
   ]
  },
  {
   "cell_type": "code",
   "execution_count": 220,
   "metadata": {},
   "outputs": [
    {
     "name": "stdout",
     "output_type": "stream",
     "text": [
      "[0.65397203 0.2983559  0.0453721  0.00229997 0.         0.\n",
      " 0.         0.         0.         0.         0.        ]\n",
      "[0.00229997 0.04767206 0.34602797 1.         1.         1.\n",
      " 1.         1.         1.         1.         1.        ]\n"
     ]
    }
   ],
   "source": [
    "p=0.868\n",
    "q=1-p\n",
    "n=3\n",
    "k=np.arange(0,11)\n",
    "binomial = stats.binom.pmf(k,n,q)\n",
    "print(binomial)\n",
    "\n",
    "cumbinomial = stats.binom.cdf(k,n,p)\n",
    "print(cumbinomial)"
   ]
  },
  {
   "cell_type": "code",
   "execution_count": 221,
   "metadata": {},
   "outputs": [
    {
     "name": "stdout",
     "output_type": "stream",
     "text": [
      "a)probability that all three orders will be recognised correctly. 0.0454\n",
      "a)Probability that none of the three orders will be recognised correctly. 0.6540\n",
      "a)probability that at least two of the three orders will be recognised correctly. 0.9523\n"
     ]
    }
   ],
   "source": [
    "# A. What is the probability that all three orders will be recognised correctly?\n",
    "print('a)probability that all three orders will be recognised correctly. %1.4f' %binomial[2])\n",
    "\n",
    "# B. What is the probability that none of the three orders will be recognised correctly?\n",
    "print('b)Probability that none of the three orders will be recognised correctly. %1.4f' %binomial[0])\n",
    "\n",
    "# C. What is the probability that at least two of the three orders will be recognised correctly?\n",
    "P = 1 - cumbinomial[1]\n",
    "print('c)probability that at least two of the three orders will be recognised correctly. %1.4f' %P)"
   ]
  },
  {
   "cell_type": "markdown",
   "metadata": {},
   "source": [
    "# Question 5"
   ]
  },
  {
   "cell_type": "code",
   "execution_count": null,
   "metadata": {},
   "outputs": [],
   "source": [
    "# mean = 60\n",
    "std = 12\n",
    "n=300\n",
    "# A. What is the percentage of students who score more than 80.\n",
    "a = 1-stats.norm.cdf(80,mean,std)\n",
    "percentage_80 = (a*100)/n\n",
    "print('a)percentage of students who score more than 80:',percentage_80)\n",
    "\n",
    "# B. What is the percentage of students who score less than 50.\n",
    "b= stats.norm.cdf(50,mean,std)\n",
    "percentage_50 = (b*100)/n\n",
    "print('b)percentage of students who score less than 50.: %1.4f' %percentage_50)"
   ]
  },
  {
   "cell_type": "markdown",
   "metadata": {},
   "source": [
    "# Question 6"
   ]
  },
  {
   "cell_type": "raw",
   "metadata": {},
   "source": [
    "# Statistics are used in the field of medicine.\n",
    "# They can be used to calculate the probability of average consultations a doctor attends, the number of births and deaths. \n",
    "# Especially during this pandemic scenario, statistics help in identifying the number of people tested positive, \n",
    "# discharged patients and future predictions like the percentage of increase in cases, the number of oxygen cylinders needed and\n",
    "# the number of beds available, the number of beds needed more., the effectiveness of vaccination and medicines provided .etc."
   ]
  },
  {
   "cell_type": "markdown",
   "metadata": {},
   "source": [
    "# PART 2"
   ]
  },
  {
   "cell_type": "code",
   "execution_count": 163,
   "metadata": {},
   "outputs": [
    {
     "data": {
      "text/html": [
       "<div>\n",
       "<style scoped>\n",
       "    .dataframe tbody tr th:only-of-type {\n",
       "        vertical-align: middle;\n",
       "    }\n",
       "\n",
       "    .dataframe tbody tr th {\n",
       "        vertical-align: top;\n",
       "    }\n",
       "\n",
       "    .dataframe thead th {\n",
       "        text-align: right;\n",
       "    }\n",
       "</style>\n",
       "<table border=\"1\" class=\"dataframe\">\n",
       "  <thead>\n",
       "    <tr style=\"text-align: right;\">\n",
       "      <th></th>\n",
       "      <th>Team</th>\n",
       "      <th>Tournament</th>\n",
       "      <th>Score</th>\n",
       "      <th>PlayedGames</th>\n",
       "      <th>WonGames</th>\n",
       "      <th>DrawnGames</th>\n",
       "      <th>LostGames</th>\n",
       "      <th>BasketScored</th>\n",
       "      <th>BasketGiven</th>\n",
       "      <th>TournamentChampion</th>\n",
       "      <th>Runner-up</th>\n",
       "      <th>TeamLaunch</th>\n",
       "      <th>HighestPositionHeld</th>\n",
       "    </tr>\n",
       "  </thead>\n",
       "  <tbody>\n",
       "    <tr>\n",
       "      <td>0</td>\n",
       "      <td>Team 1</td>\n",
       "      <td>86</td>\n",
       "      <td>4385</td>\n",
       "      <td>2762</td>\n",
       "      <td>1647</td>\n",
       "      <td>552</td>\n",
       "      <td>563</td>\n",
       "      <td>5947</td>\n",
       "      <td>3140</td>\n",
       "      <td>33</td>\n",
       "      <td>23</td>\n",
       "      <td>1929</td>\n",
       "      <td>1</td>\n",
       "    </tr>\n",
       "    <tr>\n",
       "      <td>1</td>\n",
       "      <td>Team 2</td>\n",
       "      <td>86</td>\n",
       "      <td>4262</td>\n",
       "      <td>2762</td>\n",
       "      <td>1581</td>\n",
       "      <td>573</td>\n",
       "      <td>608</td>\n",
       "      <td>5900</td>\n",
       "      <td>3114</td>\n",
       "      <td>25</td>\n",
       "      <td>25</td>\n",
       "      <td>1929</td>\n",
       "      <td>1</td>\n",
       "    </tr>\n",
       "    <tr>\n",
       "      <td>2</td>\n",
       "      <td>Team 3</td>\n",
       "      <td>80</td>\n",
       "      <td>3442</td>\n",
       "      <td>2614</td>\n",
       "      <td>1241</td>\n",
       "      <td>598</td>\n",
       "      <td>775</td>\n",
       "      <td>4534</td>\n",
       "      <td>3309</td>\n",
       "      <td>10</td>\n",
       "      <td>8</td>\n",
       "      <td>1929</td>\n",
       "      <td>1</td>\n",
       "    </tr>\n",
       "    <tr>\n",
       "      <td>3</td>\n",
       "      <td>Team 4</td>\n",
       "      <td>82</td>\n",
       "      <td>3386</td>\n",
       "      <td>2664</td>\n",
       "      <td>1187</td>\n",
       "      <td>616</td>\n",
       "      <td>861</td>\n",
       "      <td>4398</td>\n",
       "      <td>3469</td>\n",
       "      <td>6</td>\n",
       "      <td>6</td>\n",
       "      <td>1931to32</td>\n",
       "      <td>1</td>\n",
       "    </tr>\n",
       "    <tr>\n",
       "      <td>4</td>\n",
       "      <td>Team 5</td>\n",
       "      <td>86</td>\n",
       "      <td>3368</td>\n",
       "      <td>2762</td>\n",
       "      <td>1209</td>\n",
       "      <td>633</td>\n",
       "      <td>920</td>\n",
       "      <td>4631</td>\n",
       "      <td>3700</td>\n",
       "      <td>8</td>\n",
       "      <td>7</td>\n",
       "      <td>1929</td>\n",
       "      <td>1</td>\n",
       "    </tr>\n",
       "  </tbody>\n",
       "</table>\n",
       "</div>"
      ],
      "text/plain": [
       "     Team  Tournament Score PlayedGames WonGames DrawnGames LostGames  \\\n",
       "0  Team 1          86  4385        2762     1647        552       563   \n",
       "1  Team 2          86  4262        2762     1581        573       608   \n",
       "2  Team 3          80  3442        2614     1241        598       775   \n",
       "3  Team 4          82  3386        2664     1187        616       861   \n",
       "4  Team 5          86  3368        2762     1209        633       920   \n",
       "\n",
       "  BasketScored BasketGiven TournamentChampion Runner-up TeamLaunch  \\\n",
       "0         5947        3140                 33        23       1929   \n",
       "1         5900        3114                 25        25       1929   \n",
       "2         4534        3309                 10         8       1929   \n",
       "3         4398        3469                  6         6   1931to32   \n",
       "4         4631        3700                  8         7       1929   \n",
       "\n",
       "   HighestPositionHeld  \n",
       "0                    1  \n",
       "1                    1  \n",
       "2                    1  \n",
       "3                    1  \n",
       "4                    1  "
      ]
     },
     "execution_count": 163,
     "metadata": {},
     "output_type": "execute_result"
    }
   ],
   "source": [
    "#Read the csv file.\n",
    "basketball = pd.read_csv('DS - Part2 - Basketball.csv')\n",
    "basketball.head()"
   ]
  },
  {
   "cell_type": "code",
   "execution_count": 164,
   "metadata": {},
   "outputs": [
    {
     "data": {
      "text/html": [
       "<div>\n",
       "<style scoped>\n",
       "    .dataframe tbody tr th:only-of-type {\n",
       "        vertical-align: middle;\n",
       "    }\n",
       "\n",
       "    .dataframe tbody tr th {\n",
       "        vertical-align: top;\n",
       "    }\n",
       "\n",
       "    .dataframe thead th {\n",
       "        text-align: right;\n",
       "    }\n",
       "</style>\n",
       "<table border=\"1\" class=\"dataframe\">\n",
       "  <thead>\n",
       "    <tr style=\"text-align: right;\">\n",
       "      <th></th>\n",
       "      <th>Team</th>\n",
       "      <th>Tournament</th>\n",
       "      <th>Score</th>\n",
       "      <th>PlayedGames</th>\n",
       "      <th>WonGames</th>\n",
       "      <th>DrawnGames</th>\n",
       "      <th>LostGames</th>\n",
       "      <th>BasketScored</th>\n",
       "      <th>BasketGiven</th>\n",
       "      <th>TournamentChampion</th>\n",
       "      <th>Runner-up</th>\n",
       "      <th>TeamLaunch</th>\n",
       "      <th>HighestPositionHeld</th>\n",
       "    </tr>\n",
       "  </thead>\n",
       "  <tbody>\n",
       "    <tr>\n",
       "      <td>56</td>\n",
       "      <td>Team 57</td>\n",
       "      <td>1</td>\n",
       "      <td>34</td>\n",
       "      <td>38</td>\n",
       "      <td>8</td>\n",
       "      <td>10</td>\n",
       "      <td>20</td>\n",
       "      <td>38</td>\n",
       "      <td>66</td>\n",
       "      <td>-</td>\n",
       "      <td>-</td>\n",
       "      <td>2009-10</td>\n",
       "      <td>20</td>\n",
       "    </tr>\n",
       "    <tr>\n",
       "      <td>57</td>\n",
       "      <td>Team 58</td>\n",
       "      <td>1</td>\n",
       "      <td>22</td>\n",
       "      <td>30</td>\n",
       "      <td>7</td>\n",
       "      <td>8</td>\n",
       "      <td>15</td>\n",
       "      <td>37</td>\n",
       "      <td>57</td>\n",
       "      <td>-</td>\n",
       "      <td>-</td>\n",
       "      <td>1956-57</td>\n",
       "      <td>16</td>\n",
       "    </tr>\n",
       "    <tr>\n",
       "      <td>58</td>\n",
       "      <td>Team 59</td>\n",
       "      <td>1</td>\n",
       "      <td>19</td>\n",
       "      <td>30</td>\n",
       "      <td>7</td>\n",
       "      <td>5</td>\n",
       "      <td>18</td>\n",
       "      <td>51</td>\n",
       "      <td>85</td>\n",
       "      <td>-</td>\n",
       "      <td>-</td>\n",
       "      <td>1951~52</td>\n",
       "      <td>16</td>\n",
       "    </tr>\n",
       "    <tr>\n",
       "      <td>59</td>\n",
       "      <td>Team 60</td>\n",
       "      <td>1</td>\n",
       "      <td>14</td>\n",
       "      <td>30</td>\n",
       "      <td>5</td>\n",
       "      <td>4</td>\n",
       "      <td>21</td>\n",
       "      <td>34</td>\n",
       "      <td>65</td>\n",
       "      <td>-</td>\n",
       "      <td>-</td>\n",
       "      <td>1955-56</td>\n",
       "      <td>15</td>\n",
       "    </tr>\n",
       "    <tr>\n",
       "      <td>60</td>\n",
       "      <td>Team 61</td>\n",
       "      <td>1</td>\n",
       "      <td>-</td>\n",
       "      <td>-</td>\n",
       "      <td>-</td>\n",
       "      <td>-</td>\n",
       "      <td>-</td>\n",
       "      <td>-</td>\n",
       "      <td>-</td>\n",
       "      <td>-</td>\n",
       "      <td>-</td>\n",
       "      <td>2017~18</td>\n",
       "      <td>9</td>\n",
       "    </tr>\n",
       "  </tbody>\n",
       "</table>\n",
       "</div>"
      ],
      "text/plain": [
       "       Team  Tournament Score PlayedGames WonGames DrawnGames LostGames  \\\n",
       "56  Team 57           1    34          38        8         10        20   \n",
       "57  Team 58           1    22          30        7          8        15   \n",
       "58  Team 59           1    19          30        7          5        18   \n",
       "59  Team 60           1    14          30        5          4        21   \n",
       "60  Team 61           1     -           -        -          -         -   \n",
       "\n",
       "   BasketScored BasketGiven TournamentChampion Runner-up TeamLaunch  \\\n",
       "56           38          66                  -         -    2009-10   \n",
       "57           37          57                  -         -    1956-57   \n",
       "58           51          85                  -         -    1951~52   \n",
       "59           34          65                  -         -    1955-56   \n",
       "60            -           -                  -         -    2017~18   \n",
       "\n",
       "    HighestPositionHeld  \n",
       "56                   20  \n",
       "57                   16  \n",
       "58                   16  \n",
       "59                   15  \n",
       "60                    9  "
      ]
     },
     "execution_count": 164,
     "metadata": {},
     "output_type": "execute_result"
    }
   ],
   "source": [
    "#Print the last 5 rows of the dataset. \n",
    "basketball.tail()"
   ]
  },
  {
   "cell_type": "markdown",
   "metadata": {},
   "source": [
    "# We could find there are blanks or '-' in the dataset."
   ]
  },
  {
   "cell_type": "code",
   "execution_count": 165,
   "metadata": {},
   "outputs": [
    {
     "data": {
      "text/plain": [
       "(61, 13)"
      ]
     },
     "execution_count": 165,
     "metadata": {},
     "output_type": "execute_result"
    }
   ],
   "source": [
    "#Printing the row and column of the dataset.\n",
    "basketball.shape"
   ]
  },
  {
   "cell_type": "code",
   "execution_count": 166,
   "metadata": {},
   "outputs": [
    {
     "name": "stdout",
     "output_type": "stream",
     "text": [
      "<class 'pandas.core.frame.DataFrame'>\n",
      "RangeIndex: 61 entries, 0 to 60\n",
      "Data columns (total 13 columns):\n",
      "Team                   61 non-null object\n",
      "Tournament             61 non-null int64\n",
      "Score                  61 non-null object\n",
      "PlayedGames            61 non-null object\n",
      "WonGames               61 non-null object\n",
      "DrawnGames             61 non-null object\n",
      "LostGames              61 non-null object\n",
      "BasketScored           61 non-null object\n",
      "BasketGiven            61 non-null object\n",
      "TournamentChampion     61 non-null object\n",
      "Runner-up              61 non-null object\n",
      "TeamLaunch             61 non-null object\n",
      "HighestPositionHeld    61 non-null int64\n",
      "dtypes: int64(2), object(11)\n",
      "memory usage: 6.3+ KB\n"
     ]
    }
   ],
   "source": [
    "basketball.info()"
   ]
  },
  {
   "cell_type": "code",
   "execution_count": 167,
   "metadata": {},
   "outputs": [
    {
     "data": {
      "text/html": [
       "<div>\n",
       "<style scoped>\n",
       "    .dataframe tbody tr th:only-of-type {\n",
       "        vertical-align: middle;\n",
       "    }\n",
       "\n",
       "    .dataframe tbody tr th {\n",
       "        vertical-align: top;\n",
       "    }\n",
       "\n",
       "    .dataframe thead th {\n",
       "        text-align: right;\n",
       "    }\n",
       "</style>\n",
       "<table border=\"1\" class=\"dataframe\">\n",
       "  <thead>\n",
       "    <tr style=\"text-align: right;\">\n",
       "      <th></th>\n",
       "      <th>Tournament</th>\n",
       "      <th>HighestPositionHeld</th>\n",
       "    </tr>\n",
       "  </thead>\n",
       "  <tbody>\n",
       "    <tr>\n",
       "      <td>count</td>\n",
       "      <td>61.000000</td>\n",
       "      <td>61.000000</td>\n",
       "    </tr>\n",
       "    <tr>\n",
       "      <td>mean</td>\n",
       "      <td>24.000000</td>\n",
       "      <td>7.081967</td>\n",
       "    </tr>\n",
       "    <tr>\n",
       "      <td>std</td>\n",
       "      <td>26.827225</td>\n",
       "      <td>5.276663</td>\n",
       "    </tr>\n",
       "    <tr>\n",
       "      <td>min</td>\n",
       "      <td>1.000000</td>\n",
       "      <td>1.000000</td>\n",
       "    </tr>\n",
       "    <tr>\n",
       "      <td>25%</td>\n",
       "      <td>4.000000</td>\n",
       "      <td>3.000000</td>\n",
       "    </tr>\n",
       "    <tr>\n",
       "      <td>50%</td>\n",
       "      <td>12.000000</td>\n",
       "      <td>6.000000</td>\n",
       "    </tr>\n",
       "    <tr>\n",
       "      <td>75%</td>\n",
       "      <td>38.000000</td>\n",
       "      <td>10.000000</td>\n",
       "    </tr>\n",
       "    <tr>\n",
       "      <td>max</td>\n",
       "      <td>86.000000</td>\n",
       "      <td>20.000000</td>\n",
       "    </tr>\n",
       "  </tbody>\n",
       "</table>\n",
       "</div>"
      ],
      "text/plain": [
       "       Tournament  HighestPositionHeld\n",
       "count   61.000000            61.000000\n",
       "mean    24.000000             7.081967\n",
       "std     26.827225             5.276663\n",
       "min      1.000000             1.000000\n",
       "25%      4.000000             3.000000\n",
       "50%     12.000000             6.000000\n",
       "75%     38.000000            10.000000\n",
       "max     86.000000            20.000000"
      ]
     },
     "execution_count": 167,
     "metadata": {},
     "output_type": "execute_result"
    }
   ],
   "source": [
    "basketball.describe()"
   ]
  },
  {
   "cell_type": "markdown",
   "metadata": {},
   "source": [
    "# We can infer that : The maximum tournament held is 86 and minimum number of tournament held is 1. The maximum position held is 20 (which is the lowest position ranging from 0-20) while the minimum position is 1."
   ]
  },
  {
   "cell_type": "code",
   "execution_count": 168,
   "metadata": {},
   "outputs": [
    {
     "data": {
      "text/plain": [
       "Team                   0\n",
       "Tournament             0\n",
       "Score                  0\n",
       "PlayedGames            0\n",
       "WonGames               0\n",
       "DrawnGames             0\n",
       "LostGames              0\n",
       "BasketScored           0\n",
       "BasketGiven            0\n",
       "TournamentChampion     0\n",
       "Runner-up              0\n",
       "TeamLaunch             0\n",
       "HighestPositionHeld    0\n",
       "dtype: int64"
      ]
     },
     "execution_count": 168,
     "metadata": {},
     "output_type": "execute_result"
    }
   ],
   "source": [
    "# Summarize null values(missing values) in dataset\n",
    "basketball.isna().sum()"
   ]
  },
  {
   "cell_type": "code",
   "execution_count": 169,
   "metadata": {},
   "outputs": [
    {
     "data": {
      "text/html": [
       "<div>\n",
       "<style scoped>\n",
       "    .dataframe tbody tr th:only-of-type {\n",
       "        vertical-align: middle;\n",
       "    }\n",
       "\n",
       "    .dataframe tbody tr th {\n",
       "        vertical-align: top;\n",
       "    }\n",
       "\n",
       "    .dataframe thead th {\n",
       "        text-align: right;\n",
       "    }\n",
       "</style>\n",
       "<table border=\"1\" class=\"dataframe\">\n",
       "  <thead>\n",
       "    <tr style=\"text-align: right;\">\n",
       "      <th></th>\n",
       "      <th>Team</th>\n",
       "      <th>Tournament</th>\n",
       "      <th>Score</th>\n",
       "      <th>PlayedGames</th>\n",
       "      <th>WonGames</th>\n",
       "      <th>DrawnGames</th>\n",
       "      <th>LostGames</th>\n",
       "      <th>BasketScored</th>\n",
       "      <th>BasketGiven</th>\n",
       "      <th>TournamentChampion</th>\n",
       "      <th>Runner-up</th>\n",
       "      <th>TeamLaunch</th>\n",
       "      <th>HighestPositionHeld</th>\n",
       "    </tr>\n",
       "  </thead>\n",
       "  <tbody>\n",
       "    <tr>\n",
       "      <td>56</td>\n",
       "      <td>Team 57</td>\n",
       "      <td>1</td>\n",
       "      <td>34</td>\n",
       "      <td>38</td>\n",
       "      <td>8</td>\n",
       "      <td>10</td>\n",
       "      <td>20</td>\n",
       "      <td>38</td>\n",
       "      <td>66</td>\n",
       "      <td>0</td>\n",
       "      <td>0</td>\n",
       "      <td>2009-10</td>\n",
       "      <td>20</td>\n",
       "    </tr>\n",
       "    <tr>\n",
       "      <td>57</td>\n",
       "      <td>Team 58</td>\n",
       "      <td>1</td>\n",
       "      <td>22</td>\n",
       "      <td>30</td>\n",
       "      <td>7</td>\n",
       "      <td>8</td>\n",
       "      <td>15</td>\n",
       "      <td>37</td>\n",
       "      <td>57</td>\n",
       "      <td>0</td>\n",
       "      <td>0</td>\n",
       "      <td>1956-57</td>\n",
       "      <td>16</td>\n",
       "    </tr>\n",
       "    <tr>\n",
       "      <td>58</td>\n",
       "      <td>Team 59</td>\n",
       "      <td>1</td>\n",
       "      <td>19</td>\n",
       "      <td>30</td>\n",
       "      <td>7</td>\n",
       "      <td>5</td>\n",
       "      <td>18</td>\n",
       "      <td>51</td>\n",
       "      <td>85</td>\n",
       "      <td>0</td>\n",
       "      <td>0</td>\n",
       "      <td>1951~52</td>\n",
       "      <td>16</td>\n",
       "    </tr>\n",
       "    <tr>\n",
       "      <td>59</td>\n",
       "      <td>Team 60</td>\n",
       "      <td>1</td>\n",
       "      <td>14</td>\n",
       "      <td>30</td>\n",
       "      <td>5</td>\n",
       "      <td>4</td>\n",
       "      <td>21</td>\n",
       "      <td>34</td>\n",
       "      <td>65</td>\n",
       "      <td>0</td>\n",
       "      <td>0</td>\n",
       "      <td>1955-56</td>\n",
       "      <td>15</td>\n",
       "    </tr>\n",
       "    <tr>\n",
       "      <td>60</td>\n",
       "      <td>Team 61</td>\n",
       "      <td>1</td>\n",
       "      <td>0</td>\n",
       "      <td>0</td>\n",
       "      <td>0</td>\n",
       "      <td>0</td>\n",
       "      <td>0</td>\n",
       "      <td>0</td>\n",
       "      <td>0</td>\n",
       "      <td>0</td>\n",
       "      <td>0</td>\n",
       "      <td>2017~18</td>\n",
       "      <td>9</td>\n",
       "    </tr>\n",
       "  </tbody>\n",
       "</table>\n",
       "</div>"
      ],
      "text/plain": [
       "       Team  Tournament Score PlayedGames WonGames DrawnGames LostGames  \\\n",
       "56  Team 57           1    34          38        8         10        20   \n",
       "57  Team 58           1    22          30        7          8        15   \n",
       "58  Team 59           1    19          30        7          5        18   \n",
       "59  Team 60           1    14          30        5          4        21   \n",
       "60  Team 61           1     0           0        0          0         0   \n",
       "\n",
       "   BasketScored BasketGiven TournamentChampion Runner-up TeamLaunch  \\\n",
       "56           38          66                  0         0    2009-10   \n",
       "57           37          57                  0         0    1956-57   \n",
       "58           51          85                  0         0    1951~52   \n",
       "59           34          65                  0         0    1955-56   \n",
       "60            0           0                  0         0    2017~18   \n",
       "\n",
       "    HighestPositionHeld  \n",
       "56                   20  \n",
       "57                   16  \n",
       "58                   16  \n",
       "59                   15  \n",
       "60                    9  "
      ]
     },
     "execution_count": 169,
     "metadata": {},
     "output_type": "execute_result"
    }
   ],
   "source": [
    "#Though there are no null values present there were '-' present in the dataset. Let us replace them with '0' first.\n",
    "basketball.replace(to_replace= '-', value= 0, inplace=True)\n",
    "basketball.tail()"
   ]
  },
  {
   "cell_type": "code",
   "execution_count": 170,
   "metadata": {},
   "outputs": [
    {
     "data": {
      "text/html": [
       "<div>\n",
       "<style scoped>\n",
       "    .dataframe tbody tr th:only-of-type {\n",
       "        vertical-align: middle;\n",
       "    }\n",
       "\n",
       "    .dataframe tbody tr th {\n",
       "        vertical-align: top;\n",
       "    }\n",
       "\n",
       "    .dataframe thead th {\n",
       "        text-align: right;\n",
       "    }\n",
       "</style>\n",
       "<table border=\"1\" class=\"dataframe\">\n",
       "  <thead>\n",
       "    <tr style=\"text-align: right;\">\n",
       "      <th></th>\n",
       "      <th>Team</th>\n",
       "      <th>Tournament</th>\n",
       "      <th>Score</th>\n",
       "      <th>PlayedGames</th>\n",
       "      <th>WonGames</th>\n",
       "      <th>DrawnGames</th>\n",
       "      <th>LostGames</th>\n",
       "      <th>BasketScored</th>\n",
       "      <th>BasketGiven</th>\n",
       "      <th>TournamentChampion</th>\n",
       "      <th>Runner-up</th>\n",
       "      <th>TeamLaunch</th>\n",
       "      <th>HighestPositionHeld</th>\n",
       "    </tr>\n",
       "  </thead>\n",
       "  <tbody>\n",
       "    <tr>\n",
       "      <td>0</td>\n",
       "      <td>Team 1</td>\n",
       "      <td>86</td>\n",
       "      <td>4385</td>\n",
       "      <td>2762</td>\n",
       "      <td>1647</td>\n",
       "      <td>552</td>\n",
       "      <td>563</td>\n",
       "      <td>5947</td>\n",
       "      <td>3140</td>\n",
       "      <td>33</td>\n",
       "      <td>23</td>\n",
       "      <td>1929</td>\n",
       "      <td>1</td>\n",
       "    </tr>\n",
       "    <tr>\n",
       "      <td>1</td>\n",
       "      <td>Team 2</td>\n",
       "      <td>86</td>\n",
       "      <td>4262</td>\n",
       "      <td>2762</td>\n",
       "      <td>1581</td>\n",
       "      <td>573</td>\n",
       "      <td>608</td>\n",
       "      <td>5900</td>\n",
       "      <td>3114</td>\n",
       "      <td>25</td>\n",
       "      <td>25</td>\n",
       "      <td>1929</td>\n",
       "      <td>1</td>\n",
       "    </tr>\n",
       "    <tr>\n",
       "      <td>2</td>\n",
       "      <td>Team 3</td>\n",
       "      <td>80</td>\n",
       "      <td>3442</td>\n",
       "      <td>2614</td>\n",
       "      <td>1241</td>\n",
       "      <td>598</td>\n",
       "      <td>775</td>\n",
       "      <td>4534</td>\n",
       "      <td>3309</td>\n",
       "      <td>10</td>\n",
       "      <td>8</td>\n",
       "      <td>1929</td>\n",
       "      <td>1</td>\n",
       "    </tr>\n",
       "    <tr>\n",
       "      <td>3</td>\n",
       "      <td>Team 4</td>\n",
       "      <td>82</td>\n",
       "      <td>3386</td>\n",
       "      <td>2664</td>\n",
       "      <td>1187</td>\n",
       "      <td>616</td>\n",
       "      <td>861</td>\n",
       "      <td>4398</td>\n",
       "      <td>3469</td>\n",
       "      <td>6</td>\n",
       "      <td>6</td>\n",
       "      <td>1931</td>\n",
       "      <td>1</td>\n",
       "    </tr>\n",
       "    <tr>\n",
       "      <td>4</td>\n",
       "      <td>Team 5</td>\n",
       "      <td>86</td>\n",
       "      <td>3368</td>\n",
       "      <td>2762</td>\n",
       "      <td>1209</td>\n",
       "      <td>633</td>\n",
       "      <td>920</td>\n",
       "      <td>4631</td>\n",
       "      <td>3700</td>\n",
       "      <td>8</td>\n",
       "      <td>7</td>\n",
       "      <td>1929</td>\n",
       "      <td>1</td>\n",
       "    </tr>\n",
       "  </tbody>\n",
       "</table>\n",
       "</div>"
      ],
      "text/plain": [
       "     Team  Tournament Score PlayedGames WonGames DrawnGames LostGames  \\\n",
       "0  Team 1          86  4385        2762     1647        552       563   \n",
       "1  Team 2          86  4262        2762     1581        573       608   \n",
       "2  Team 3          80  3442        2614     1241        598       775   \n",
       "3  Team 4          82  3386        2664     1187        616       861   \n",
       "4  Team 5          86  3368        2762     1209        633       920   \n",
       "\n",
       "  BasketScored BasketGiven TournamentChampion Runner-up TeamLaunch  \\\n",
       "0         5947        3140                 33        23       1929   \n",
       "1         5900        3114                 25        25       1929   \n",
       "2         4534        3309                 10         8       1929   \n",
       "3         4398        3469                  6         6       1931   \n",
       "4         4631        3700                  8         7       1929   \n",
       "\n",
       "   HighestPositionHeld  \n",
       "0                    1  \n",
       "1                    1  \n",
       "2                    1  \n",
       "3                    1  \n",
       "4                    1  "
      ]
     },
     "execution_count": 170,
     "metadata": {},
     "output_type": "execute_result"
    }
   ],
   "source": [
    "# Removing '_','-','to','~' from the years in Team Launch. \n",
    "basketball['TeamLaunch'] = basketball['TeamLaunch'].apply(lambda x: x.split('-')[0])\n",
    "basketball['TeamLaunch'] = basketball['TeamLaunch'].apply(lambda x: x.split('to')[0])\n",
    "basketball['TeamLaunch'] = basketball['TeamLaunch'].apply(lambda x: x.split('~')[0])\n",
    "basketball['TeamLaunch'] = basketball['TeamLaunch'].apply(lambda x: x.split('_')[0])\n",
    "basketball.head(5)"
   ]
  },
  {
   "cell_type": "code",
   "execution_count": 171,
   "metadata": {},
   "outputs": [],
   "source": [
    "#We will now convert the data type of the columns having numerical values to integer in order to perform operations.\n",
    "#We can now convert the object except the column Team to integer to perform calculations\n",
    "basketball['Score']=basketball['Score'].astype('int64')\n",
    "basketball['PlayedGames']=basketball['PlayedGames'].astype('int64')\n",
    "basketball['WonGames']=basketball['WonGames'].astype('int64')\n",
    "basketball['DrawnGames']=basketball['DrawnGames'].astype('int64')\n",
    "basketball['LostGames']=basketball['LostGames'].astype('int64')\n",
    "basketball['BasketScored']=basketball['BasketScored'].astype('int64')\n",
    "basketball['BasketGiven']=basketball['BasketGiven'].astype('int64')\n",
    "basketball['TournamentChampion']=basketball['TournamentChampion'].astype('int64')\n",
    "basketball['Runner-up']=basketball['Runner-up'].astype('int64')\n",
    "basketball['TeamLaunch']=basketball['TeamLaunch'].astype('int64')"
   ]
  },
  {
   "cell_type": "code",
   "execution_count": 172,
   "metadata": {},
   "outputs": [
    {
     "data": {
      "text/plain": [
       "Team                   object\n",
       "Tournament              int64\n",
       "Score                   int64\n",
       "PlayedGames             int64\n",
       "WonGames                int64\n",
       "DrawnGames              int64\n",
       "LostGames               int64\n",
       "BasketScored            int64\n",
       "BasketGiven             int64\n",
       "TournamentChampion      int64\n",
       "Runner-up               int64\n",
       "TeamLaunch              int64\n",
       "HighestPositionHeld     int64\n",
       "dtype: object"
      ]
     },
     "execution_count": 172,
     "metadata": {},
     "output_type": "execute_result"
    }
   ],
   "source": [
    "#Checking the data type of the converted columns\n",
    "basketball.dtypes"
   ]
  },
  {
   "cell_type": "code",
   "execution_count": 173,
   "metadata": {},
   "outputs": [
    {
     "data": {
      "text/html": [
       "<div>\n",
       "<style scoped>\n",
       "    .dataframe tbody tr th:only-of-type {\n",
       "        vertical-align: middle;\n",
       "    }\n",
       "\n",
       "    .dataframe tbody tr th {\n",
       "        vertical-align: top;\n",
       "    }\n",
       "\n",
       "    .dataframe thead th {\n",
       "        text-align: right;\n",
       "    }\n",
       "</style>\n",
       "<table border=\"1\" class=\"dataframe\">\n",
       "  <thead>\n",
       "    <tr style=\"text-align: right;\">\n",
       "      <th></th>\n",
       "      <th>Team</th>\n",
       "      <th>Tournament</th>\n",
       "      <th>Score</th>\n",
       "      <th>PlayedGames</th>\n",
       "      <th>WonGames</th>\n",
       "      <th>DrawnGames</th>\n",
       "      <th>LostGames</th>\n",
       "      <th>BasketScored</th>\n",
       "      <th>BasketGiven</th>\n",
       "      <th>TournamentChampion</th>\n",
       "      <th>Runner-up</th>\n",
       "      <th>TeamLaunch</th>\n",
       "      <th>HighestPositionHeld</th>\n",
       "    </tr>\n",
       "  </thead>\n",
       "  <tbody>\n",
       "    <tr>\n",
       "      <td>0</td>\n",
       "      <td>Team 1</td>\n",
       "      <td>86</td>\n",
       "      <td>4385</td>\n",
       "      <td>2762</td>\n",
       "      <td>1647</td>\n",
       "      <td>552</td>\n",
       "      <td>563</td>\n",
       "      <td>5947</td>\n",
       "      <td>3140</td>\n",
       "      <td>33</td>\n",
       "      <td>23</td>\n",
       "      <td>1929</td>\n",
       "      <td>1</td>\n",
       "    </tr>\n",
       "    <tr>\n",
       "      <td>1</td>\n",
       "      <td>Team 2</td>\n",
       "      <td>86</td>\n",
       "      <td>4262</td>\n",
       "      <td>2762</td>\n",
       "      <td>1581</td>\n",
       "      <td>573</td>\n",
       "      <td>608</td>\n",
       "      <td>5900</td>\n",
       "      <td>3114</td>\n",
       "      <td>25</td>\n",
       "      <td>25</td>\n",
       "      <td>1929</td>\n",
       "      <td>1</td>\n",
       "    </tr>\n",
       "    <tr>\n",
       "      <td>2</td>\n",
       "      <td>Team 3</td>\n",
       "      <td>80</td>\n",
       "      <td>3442</td>\n",
       "      <td>2614</td>\n",
       "      <td>1241</td>\n",
       "      <td>598</td>\n",
       "      <td>775</td>\n",
       "      <td>4534</td>\n",
       "      <td>3309</td>\n",
       "      <td>10</td>\n",
       "      <td>8</td>\n",
       "      <td>1929</td>\n",
       "      <td>1</td>\n",
       "    </tr>\n",
       "  </tbody>\n",
       "</table>\n",
       "</div>"
      ],
      "text/plain": [
       "     Team  Tournament  Score  PlayedGames  WonGames  DrawnGames  LostGames  \\\n",
       "0  Team 1          86   4385         2762      1647         552        563   \n",
       "1  Team 2          86   4262         2762      1581         573        608   \n",
       "2  Team 3          80   3442         2614      1241         598        775   \n",
       "\n",
       "   BasketScored  BasketGiven  TournamentChampion  Runner-up  TeamLaunch  \\\n",
       "0          5947         3140                  33         23        1929   \n",
       "1          5900         3114                  25         25        1929   \n",
       "2          4534         3309                  10          8        1929   \n",
       "\n",
       "   HighestPositionHeld  \n",
       "0                    1  \n",
       "1                    1  \n",
       "2                    1  "
      ]
     },
     "execution_count": 173,
     "metadata": {},
     "output_type": "execute_result"
    }
   ],
   "source": [
    "#Lets consider data to be the final cleaned dataset. \n",
    "data=basketball\n",
    "data.head(3)"
   ]
  },
  {
   "cell_type": "code",
   "execution_count": 174,
   "metadata": {},
   "outputs": [
    {
     "data": {
      "text/html": [
       "<div>\n",
       "<style scoped>\n",
       "    .dataframe tbody tr th:only-of-type {\n",
       "        vertical-align: middle;\n",
       "    }\n",
       "\n",
       "    .dataframe tbody tr th {\n",
       "        vertical-align: top;\n",
       "    }\n",
       "\n",
       "    .dataframe thead th {\n",
       "        text-align: right;\n",
       "    }\n",
       "</style>\n",
       "<table border=\"1\" class=\"dataframe\">\n",
       "  <thead>\n",
       "    <tr style=\"text-align: right;\">\n",
       "      <th></th>\n",
       "      <th>Tournament</th>\n",
       "      <th>Score</th>\n",
       "      <th>PlayedGames</th>\n",
       "      <th>WonGames</th>\n",
       "      <th>DrawnGames</th>\n",
       "      <th>LostGames</th>\n",
       "      <th>BasketScored</th>\n",
       "      <th>BasketGiven</th>\n",
       "      <th>TournamentChampion</th>\n",
       "      <th>Runner-up</th>\n",
       "      <th>TeamLaunch</th>\n",
       "      <th>HighestPositionHeld</th>\n",
       "    </tr>\n",
       "  </thead>\n",
       "  <tbody>\n",
       "    <tr>\n",
       "      <td>count</td>\n",
       "      <td>61.000000</td>\n",
       "      <td>61.000000</td>\n",
       "      <td>61.000000</td>\n",
       "      <td>61.000000</td>\n",
       "      <td>61.000000</td>\n",
       "      <td>61.000000</td>\n",
       "      <td>61.000000</td>\n",
       "      <td>61.000000</td>\n",
       "      <td>61.000000</td>\n",
       "      <td>61.000000</td>\n",
       "      <td>61.000000</td>\n",
       "      <td>61.000000</td>\n",
       "    </tr>\n",
       "    <tr>\n",
       "      <td>mean</td>\n",
       "      <td>24.000000</td>\n",
       "      <td>901.426230</td>\n",
       "      <td>796.819672</td>\n",
       "      <td>303.967213</td>\n",
       "      <td>188.934426</td>\n",
       "      <td>303.754098</td>\n",
       "      <td>1140.344262</td>\n",
       "      <td>1140.229508</td>\n",
       "      <td>1.426230</td>\n",
       "      <td>1.409836</td>\n",
       "      <td>1958.918033</td>\n",
       "      <td>7.081967</td>\n",
       "    </tr>\n",
       "    <tr>\n",
       "      <td>std</td>\n",
       "      <td>26.827225</td>\n",
       "      <td>1134.899121</td>\n",
       "      <td>876.282765</td>\n",
       "      <td>406.991030</td>\n",
       "      <td>201.799477</td>\n",
       "      <td>294.708594</td>\n",
       "      <td>1506.740211</td>\n",
       "      <td>1163.710766</td>\n",
       "      <td>5.472535</td>\n",
       "      <td>4.540107</td>\n",
       "      <td>27.484114</td>\n",
       "      <td>5.276663</td>\n",
       "    </tr>\n",
       "    <tr>\n",
       "      <td>min</td>\n",
       "      <td>1.000000</td>\n",
       "      <td>0.000000</td>\n",
       "      <td>0.000000</td>\n",
       "      <td>0.000000</td>\n",
       "      <td>0.000000</td>\n",
       "      <td>0.000000</td>\n",
       "      <td>0.000000</td>\n",
       "      <td>0.000000</td>\n",
       "      <td>0.000000</td>\n",
       "      <td>0.000000</td>\n",
       "      <td>1929.000000</td>\n",
       "      <td>1.000000</td>\n",
       "    </tr>\n",
       "    <tr>\n",
       "      <td>25%</td>\n",
       "      <td>4.000000</td>\n",
       "      <td>96.000000</td>\n",
       "      <td>114.000000</td>\n",
       "      <td>34.000000</td>\n",
       "      <td>24.000000</td>\n",
       "      <td>62.000000</td>\n",
       "      <td>153.000000</td>\n",
       "      <td>221.000000</td>\n",
       "      <td>0.000000</td>\n",
       "      <td>0.000000</td>\n",
       "      <td>1935.000000</td>\n",
       "      <td>3.000000</td>\n",
       "    </tr>\n",
       "    <tr>\n",
       "      <td>50%</td>\n",
       "      <td>12.000000</td>\n",
       "      <td>375.000000</td>\n",
       "      <td>423.000000</td>\n",
       "      <td>123.000000</td>\n",
       "      <td>95.000000</td>\n",
       "      <td>197.000000</td>\n",
       "      <td>430.000000</td>\n",
       "      <td>632.000000</td>\n",
       "      <td>0.000000</td>\n",
       "      <td>0.000000</td>\n",
       "      <td>1951.000000</td>\n",
       "      <td>6.000000</td>\n",
       "    </tr>\n",
       "    <tr>\n",
       "      <td>75%</td>\n",
       "      <td>38.000000</td>\n",
       "      <td>1351.000000</td>\n",
       "      <td>1318.000000</td>\n",
       "      <td>426.000000</td>\n",
       "      <td>330.000000</td>\n",
       "      <td>563.000000</td>\n",
       "      <td>1642.000000</td>\n",
       "      <td>1951.000000</td>\n",
       "      <td>0.000000</td>\n",
       "      <td>0.000000</td>\n",
       "      <td>1978.000000</td>\n",
       "      <td>10.000000</td>\n",
       "    </tr>\n",
       "    <tr>\n",
       "      <td>max</td>\n",
       "      <td>86.000000</td>\n",
       "      <td>4385.000000</td>\n",
       "      <td>2762.000000</td>\n",
       "      <td>1647.000000</td>\n",
       "      <td>633.000000</td>\n",
       "      <td>1070.000000</td>\n",
       "      <td>5947.000000</td>\n",
       "      <td>3889.000000</td>\n",
       "      <td>33.000000</td>\n",
       "      <td>25.000000</td>\n",
       "      <td>2017.000000</td>\n",
       "      <td>20.000000</td>\n",
       "    </tr>\n",
       "  </tbody>\n",
       "</table>\n",
       "</div>"
      ],
      "text/plain": [
       "       Tournament        Score  PlayedGames     WonGames  DrawnGames  \\\n",
       "count   61.000000    61.000000    61.000000    61.000000   61.000000   \n",
       "mean    24.000000   901.426230   796.819672   303.967213  188.934426   \n",
       "std     26.827225  1134.899121   876.282765   406.991030  201.799477   \n",
       "min      1.000000     0.000000     0.000000     0.000000    0.000000   \n",
       "25%      4.000000    96.000000   114.000000    34.000000   24.000000   \n",
       "50%     12.000000   375.000000   423.000000   123.000000   95.000000   \n",
       "75%     38.000000  1351.000000  1318.000000   426.000000  330.000000   \n",
       "max     86.000000  4385.000000  2762.000000  1647.000000  633.000000   \n",
       "\n",
       "         LostGames  BasketScored  BasketGiven  TournamentChampion  Runner-up  \\\n",
       "count    61.000000     61.000000    61.000000           61.000000  61.000000   \n",
       "mean    303.754098   1140.344262  1140.229508            1.426230   1.409836   \n",
       "std     294.708594   1506.740211  1163.710766            5.472535   4.540107   \n",
       "min       0.000000      0.000000     0.000000            0.000000   0.000000   \n",
       "25%      62.000000    153.000000   221.000000            0.000000   0.000000   \n",
       "50%     197.000000    430.000000   632.000000            0.000000   0.000000   \n",
       "75%     563.000000   1642.000000  1951.000000            0.000000   0.000000   \n",
       "max    1070.000000   5947.000000  3889.000000           33.000000  25.000000   \n",
       "\n",
       "        TeamLaunch  HighestPositionHeld  \n",
       "count    61.000000            61.000000  \n",
       "mean   1958.918033             7.081967  \n",
       "std      27.484114             5.276663  \n",
       "min    1929.000000             1.000000  \n",
       "25%    1935.000000             3.000000  \n",
       "50%    1951.000000             6.000000  \n",
       "75%    1978.000000            10.000000  \n",
       "max    2017.000000            20.000000  "
      ]
     },
     "execution_count": 174,
     "metadata": {},
     "output_type": "execute_result"
    }
   ],
   "source": [
    "# Five point summary of all continuous(numerical) variables\n",
    "data.describe()"
   ]
  },
  {
   "cell_type": "markdown",
   "metadata": {},
   "source": [
    "# Univariate Analysis For Continuous Variables"
   ]
  },
  {
   "cell_type": "code",
   "execution_count": 175,
   "metadata": {},
   "outputs": [
    {
     "data": {
      "text/plain": [
       "<matplotlib.axes._subplots.AxesSubplot at 0x21c87261848>"
      ]
     },
     "execution_count": 175,
     "metadata": {},
     "output_type": "execute_result"
    },
    {
     "data": {
      "image/png": "[encoded data removed]",
      "text/plain": [
       "<Figure size 432x288 with 1 Axes>"
      ]
     },
     "metadata": {
      "needs_background": "light"
     },
     "output_type": "display_data"
    }
   ],
   "source": [
    "sns.boxplot(x=\"Score\",data=data)"
   ]
  },
  {
   "cell_type": "code",
   "execution_count": 176,
   "metadata": {},
   "outputs": [
    {
     "data": {
      "text/plain": [
       "<matplotlib.axes._subplots.AxesSubplot at 0x21c872c2288>"
      ]
     },
     "execution_count": 176,
     "metadata": {},
     "output_type": "execute_result"
    },
    {
     "data": {
      "image/png": "[encoded data removed]",
      "text/plain": [
       "<Figure size 432x288 with 1 Axes>"
      ]
     },
     "metadata": {
      "needs_background": "light"
     },
     "output_type": "display_data"
    }
   ],
   "source": [
    "sns.boxplot(x=\"PlayedGames\",data=data)"
   ]
  },
  {
   "cell_type": "code",
   "execution_count": 177,
   "metadata": {},
   "outputs": [
    {
     "data": {
      "text/plain": [
       "<matplotlib.axes._subplots.AxesSubplot at 0x21c872ccd48>"
      ]
     },
     "execution_count": 177,
     "metadata": {},
     "output_type": "execute_result"
    },
    {
     "data": {
      "image/png": "[encoded data removed]",
      "text/plain": [
       "<Figure size 432x288 with 1 Axes>"
      ]
     },
     "metadata": {
      "needs_background": "light"
     },
     "output_type": "display_data"
    }
   ],
   "source": [
    "sns.boxplot(x=\"WonGames\",data=data)"
   ]
  },
  {
   "cell_type": "code",
   "execution_count": 178,
   "metadata": {},
   "outputs": [
    {
     "data": {
      "text/plain": [
       "<matplotlib.axes._subplots.AxesSubplot at 0x21c8730e748>"
      ]
     },
     "execution_count": 178,
     "metadata": {},
     "output_type": "execute_result"
    },
    {
     "data": {
      "image/png": "[encoded data removed]",
      "text/plain": [
       "<Figure size 432x288 with 1 Axes>"
      ]
     },
     "metadata": {
      "needs_background": "light"
     },
     "output_type": "display_data"
    }
   ],
   "source": [
    "sns.boxplot(x=\"DrawnGames\",data=data)"
   ]
  },
  {
   "cell_type": "code",
   "execution_count": 179,
   "metadata": {},
   "outputs": [
    {
     "data": {
      "text/plain": [
       "<matplotlib.axes._subplots.AxesSubplot at 0x21c873d3e48>"
      ]
     },
     "execution_count": 179,
     "metadata": {},
     "output_type": "execute_result"
    },
    {
     "data": {
      "image/png": "[encoded data removed]",
      "text/plain": [
       "<Figure size 432x288 with 1 Axes>"
      ]
     },
     "metadata": {
      "needs_background": "light"
     },
     "output_type": "display_data"
    }
   ],
   "source": [
    "sns.boxplot(x=\"LostGames\",data=data)"
   ]
  },
  {
   "cell_type": "code",
   "execution_count": 180,
   "metadata": {},
   "outputs": [
    {
     "data": {
      "text/plain": [
       "<matplotlib.axes._subplots.AxesSubplot at 0x21c87631a88>"
      ]
     },
     "execution_count": 180,
     "metadata": {},
     "output_type": "execute_result"
    },
    {
     "data": {
      "image/png": "[encoded data removed]",
      "text/plain": [
       "<Figure size 432x288 with 1 Axes>"
      ]
     },
     "metadata": {
      "needs_background": "light"
     },
     "output_type": "display_data"
    }
   ],
   "source": [
    "sns.boxplot(x=\"BasketScored\",data=data)"
   ]
  },
  {
   "cell_type": "code",
   "execution_count": 181,
   "metadata": {},
   "outputs": [
    {
     "data": {
      "text/plain": [
       "<matplotlib.axes._subplots.AxesSubplot at 0x21c876a6e08>"
      ]
     },
     "execution_count": 181,
     "metadata": {},
     "output_type": "execute_result"
    },
    {
     "data": {
      "image/png": "[encoded data removed]",
      "text/plain": [
       "<Figure size 432x288 with 1 Axes>"
      ]
     },
     "metadata": {
      "needs_background": "light"
     },
     "output_type": "display_data"
    }
   ],
   "source": [
    "sns.boxplot(x=\"BasketGiven\",data=data)"
   ]
  },
  {
   "cell_type": "code",
   "execution_count": 182,
   "metadata": {},
   "outputs": [
    {
     "data": {
      "text/plain": [
       "<matplotlib.axes._subplots.AxesSubplot at 0x21c8771a808>"
      ]
     },
     "execution_count": 182,
     "metadata": {},
     "output_type": "execute_result"
    },
    {
     "data": {
      "image/png": "[encoded data removed]",
      "text/plain": [
       "<Figure size 432x288 with 1 Axes>"
      ]
     },
     "metadata": {
      "needs_background": "light"
     },
     "output_type": "display_data"
    }
   ],
   "source": [
    "sns.boxplot(x=\"HighestPositionHeld\",data=data)"
   ]
  },
  {
   "cell_type": "code",
   "execution_count": 183,
   "metadata": {},
   "outputs": [
    {
     "data": {
      "image/png": "[encoded data removed]",
      "text/plain": [
       "<Figure size 1440x360 with 1 Axes>"
      ]
     },
     "metadata": {
      "needs_background": "light"
     },
     "output_type": "display_data"
    }
   ],
   "source": [
    "#Lets find out the oldest team using the column Year.\n",
    "sns.catplot(x=\"TeamLaunch\",\n",
    "                data=data, kind=\"count\",\n",
    "                 aspect=4);"
   ]
  },
  {
   "cell_type": "markdown",
   "metadata": {},
   "source": [
    "# Multivariate Analysis"
   ]
  },
  {
   "cell_type": "code",
   "execution_count": 184,
   "metadata": {},
   "outputs": [],
   "source": [
    "corr = data.corr()"
   ]
  },
  {
   "cell_type": "code",
   "execution_count": 185,
   "metadata": {},
   "outputs": [
    {
     "data": {
      "text/html": [
       "<div>\n",
       "<style scoped>\n",
       "    .dataframe tbody tr th:only-of-type {\n",
       "        vertical-align: middle;\n",
       "    }\n",
       "\n",
       "    .dataframe tbody tr th {\n",
       "        vertical-align: top;\n",
       "    }\n",
       "\n",
       "    .dataframe thead th {\n",
       "        text-align: right;\n",
       "    }\n",
       "</style>\n",
       "<table border=\"1\" class=\"dataframe\">\n",
       "  <thead>\n",
       "    <tr style=\"text-align: right;\">\n",
       "      <th></th>\n",
       "      <th>Tournament</th>\n",
       "      <th>Score</th>\n",
       "      <th>PlayedGames</th>\n",
       "      <th>WonGames</th>\n",
       "      <th>DrawnGames</th>\n",
       "      <th>LostGames</th>\n",
       "      <th>BasketScored</th>\n",
       "      <th>BasketGiven</th>\n",
       "      <th>TournamentChampion</th>\n",
       "      <th>Runner-up</th>\n",
       "      <th>TeamLaunch</th>\n",
       "      <th>HighestPositionHeld</th>\n",
       "    </tr>\n",
       "  </thead>\n",
       "  <tbody>\n",
       "    <tr>\n",
       "      <td>Tournament</td>\n",
       "      <td>1.000000</td>\n",
       "      <td>0.981441</td>\n",
       "      <td>0.998677</td>\n",
       "      <td>0.971954</td>\n",
       "      <td>0.989387</td>\n",
       "      <td>0.949863</td>\n",
       "      <td>0.975059</td>\n",
       "      <td>0.987828</td>\n",
       "      <td>0.589072</td>\n",
       "      <td>0.645876</td>\n",
       "      <td>-0.603151</td>\n",
       "      <td>-0.708071</td>\n",
       "    </tr>\n",
       "    <tr>\n",
       "      <td>Score</td>\n",
       "      <td>0.981441</td>\n",
       "      <td>1.000000</td>\n",
       "      <td>0.979824</td>\n",
       "      <td>0.997240</td>\n",
       "      <td>0.958452</td>\n",
       "      <td>0.880040</td>\n",
       "      <td>0.996656</td>\n",
       "      <td>0.944263</td>\n",
       "      <td>0.714280</td>\n",
       "      <td>0.764278</td>\n",
       "      <td>-0.543432</td>\n",
       "      <td>-0.669775</td>\n",
       "    </tr>\n",
       "    <tr>\n",
       "      <td>PlayedGames</td>\n",
       "      <td>0.998677</td>\n",
       "      <td>0.979824</td>\n",
       "      <td>1.000000</td>\n",
       "      <td>0.967641</td>\n",
       "      <td>0.994053</td>\n",
       "      <td>0.956503</td>\n",
       "      <td>0.970127</td>\n",
       "      <td>0.990129</td>\n",
       "      <td>0.574716</td>\n",
       "      <td>0.632921</td>\n",
       "      <td>-0.587451</td>\n",
       "      <td>-0.710876</td>\n",
       "    </tr>\n",
       "    <tr>\n",
       "      <td>WonGames</td>\n",
       "      <td>0.971954</td>\n",
       "      <td>0.997240</td>\n",
       "      <td>0.967641</td>\n",
       "      <td>1.000000</td>\n",
       "      <td>0.939844</td>\n",
       "      <td>0.852785</td>\n",
       "      <td>0.999318</td>\n",
       "      <td>0.926234</td>\n",
       "      <td>0.752204</td>\n",
       "      <td>0.797350</td>\n",
       "      <td>-0.543854</td>\n",
       "      <td>-0.648628</td>\n",
       "    </tr>\n",
       "    <tr>\n",
       "      <td>DrawnGames</td>\n",
       "      <td>0.989387</td>\n",
       "      <td>0.958452</td>\n",
       "      <td>0.994053</td>\n",
       "      <td>0.939844</td>\n",
       "      <td>1.000000</td>\n",
       "      <td>0.973156</td>\n",
       "      <td>0.942668</td>\n",
       "      <td>0.992579</td>\n",
       "      <td>0.503472</td>\n",
       "      <td>0.566269</td>\n",
       "      <td>-0.577616</td>\n",
       "      <td>-0.719845</td>\n",
       "    </tr>\n",
       "    <tr>\n",
       "      <td>LostGames</td>\n",
       "      <td>0.949863</td>\n",
       "      <td>0.880040</td>\n",
       "      <td>0.956503</td>\n",
       "      <td>0.852785</td>\n",
       "      <td>0.973156</td>\n",
       "      <td>1.000000</td>\n",
       "      <td>0.859169</td>\n",
       "      <td>0.985275</td>\n",
       "      <td>0.325462</td>\n",
       "      <td>0.393211</td>\n",
       "      <td>-0.600513</td>\n",
       "      <td>-0.725149</td>\n",
       "    </tr>\n",
       "    <tr>\n",
       "      <td>BasketScored</td>\n",
       "      <td>0.975059</td>\n",
       "      <td>0.996656</td>\n",
       "      <td>0.970127</td>\n",
       "      <td>0.999318</td>\n",
       "      <td>0.942668</td>\n",
       "      <td>0.859169</td>\n",
       "      <td>1.000000</td>\n",
       "      <td>0.931548</td>\n",
       "      <td>0.743144</td>\n",
       "      <td>0.790532</td>\n",
       "      <td>-0.553453</td>\n",
       "      <td>-0.649455</td>\n",
       "    </tr>\n",
       "    <tr>\n",
       "      <td>BasketGiven</td>\n",
       "      <td>0.987828</td>\n",
       "      <td>0.944263</td>\n",
       "      <td>0.990129</td>\n",
       "      <td>0.926234</td>\n",
       "      <td>0.992579</td>\n",
       "      <td>0.985275</td>\n",
       "      <td>0.931548</td>\n",
       "      <td>1.000000</td>\n",
       "      <td>0.471824</td>\n",
       "      <td>0.533814</td>\n",
       "      <td>-0.615715</td>\n",
       "      <td>-0.726610</td>\n",
       "    </tr>\n",
       "    <tr>\n",
       "      <td>TournamentChampion</td>\n",
       "      <td>0.589072</td>\n",
       "      <td>0.714280</td>\n",
       "      <td>0.574716</td>\n",
       "      <td>0.752204</td>\n",
       "      <td>0.503472</td>\n",
       "      <td>0.325462</td>\n",
       "      <td>0.743144</td>\n",
       "      <td>0.471824</td>\n",
       "      <td>1.000000</td>\n",
       "      <td>0.971552</td>\n",
       "      <td>-0.284878</td>\n",
       "      <td>-0.305397</td>\n",
       "    </tr>\n",
       "    <tr>\n",
       "      <td>Runner-up</td>\n",
       "      <td>0.645876</td>\n",
       "      <td>0.764278</td>\n",
       "      <td>0.632921</td>\n",
       "      <td>0.797350</td>\n",
       "      <td>0.566269</td>\n",
       "      <td>0.393211</td>\n",
       "      <td>0.790532</td>\n",
       "      <td>0.533814</td>\n",
       "      <td>0.971552</td>\n",
       "      <td>1.000000</td>\n",
       "      <td>-0.315881</td>\n",
       "      <td>-0.360408</td>\n",
       "    </tr>\n",
       "    <tr>\n",
       "      <td>TeamLaunch</td>\n",
       "      <td>-0.603151</td>\n",
       "      <td>-0.543432</td>\n",
       "      <td>-0.587451</td>\n",
       "      <td>-0.543854</td>\n",
       "      <td>-0.577616</td>\n",
       "      <td>-0.600513</td>\n",
       "      <td>-0.553453</td>\n",
       "      <td>-0.615715</td>\n",
       "      <td>-0.284878</td>\n",
       "      <td>-0.315881</td>\n",
       "      <td>1.000000</td>\n",
       "      <td>0.588914</td>\n",
       "    </tr>\n",
       "    <tr>\n",
       "      <td>HighestPositionHeld</td>\n",
       "      <td>-0.708071</td>\n",
       "      <td>-0.669775</td>\n",
       "      <td>-0.710876</td>\n",
       "      <td>-0.648628</td>\n",
       "      <td>-0.719845</td>\n",
       "      <td>-0.725149</td>\n",
       "      <td>-0.649455</td>\n",
       "      <td>-0.726610</td>\n",
       "      <td>-0.305397</td>\n",
       "      <td>-0.360408</td>\n",
       "      <td>0.588914</td>\n",
       "      <td>1.000000</td>\n",
       "    </tr>\n",
       "  </tbody>\n",
       "</table>\n",
       "</div>"
      ],
      "text/plain": [
       "                     Tournament     Score  PlayedGames  WonGames  DrawnGames  \\\n",
       "Tournament             1.000000  0.981441     0.998677  0.971954    0.989387   \n",
       "Score                  0.981441  1.000000     0.979824  0.997240    0.958452   \n",
       "PlayedGames            0.998677  0.979824     1.000000  0.967641    0.994053   \n",
       "WonGames               0.971954  0.997240     0.967641  1.000000    0.939844   \n",
       "DrawnGames             0.989387  0.958452     0.994053  0.939844    1.000000   \n",
       "LostGames              0.949863  0.880040     0.956503  0.852785    0.973156   \n",
       "BasketScored           0.975059  0.996656     0.970127  0.999318    0.942668   \n",
       "BasketGiven            0.987828  0.944263     0.990129  0.926234    0.992579   \n",
       "TournamentChampion     0.589072  0.714280     0.574716  0.752204    0.503472   \n",
       "Runner-up              0.645876  0.764278     0.632921  0.797350    0.566269   \n",
       "TeamLaunch            -0.603151 -0.543432    -0.587451 -0.543854   -0.577616   \n",
       "HighestPositionHeld   -0.708071 -0.669775    -0.710876 -0.648628   -0.719845   \n",
       "\n",
       "                     LostGames  BasketScored  BasketGiven  TournamentChampion  \\\n",
       "Tournament            0.949863      0.975059     0.987828            0.589072   \n",
       "Score                 0.880040      0.996656     0.944263            0.714280   \n",
       "PlayedGames           0.956503      0.970127     0.990129            0.574716   \n",
       "WonGames              0.852785      0.999318     0.926234            0.752204   \n",
       "DrawnGames            0.973156      0.942668     0.992579            0.503472   \n",
       "LostGames             1.000000      0.859169     0.985275            0.325462   \n",
       "BasketScored          0.859169      1.000000     0.931548            0.743144   \n",
       "BasketGiven           0.985275      0.931548     1.000000            0.471824   \n",
       "TournamentChampion    0.325462      0.743144     0.471824            1.000000   \n",
       "Runner-up             0.393211      0.790532     0.533814            0.971552   \n",
       "TeamLaunch           -0.600513     -0.553453    -0.615715           -0.284878   \n",
       "HighestPositionHeld  -0.725149     -0.649455    -0.726610           -0.305397   \n",
       "\n",
       "                     Runner-up  TeamLaunch  HighestPositionHeld  \n",
       "Tournament            0.645876   -0.603151            -0.708071  \n",
       "Score                 0.764278   -0.543432            -0.669775  \n",
       "PlayedGames           0.632921   -0.587451            -0.710876  \n",
       "WonGames              0.797350   -0.543854            -0.648628  \n",
       "DrawnGames            0.566269   -0.577616            -0.719845  \n",
       "LostGames             0.393211   -0.600513            -0.725149  \n",
       "BasketScored          0.790532   -0.553453            -0.649455  \n",
       "BasketGiven           0.533814   -0.615715            -0.726610  \n",
       "TournamentChampion    0.971552   -0.284878            -0.305397  \n",
       "Runner-up             1.000000   -0.315881            -0.360408  \n",
       "TeamLaunch           -0.315881    1.000000             0.588914  \n",
       "HighestPositionHeld  -0.360408    0.588914             1.000000  "
      ]
     },
     "execution_count": 185,
     "metadata": {},
     "output_type": "execute_result"
    }
   ],
   "source": [
    "corr"
   ]
  },
  {
   "cell_type": "code",
   "execution_count": 188,
   "metadata": {},
   "outputs": [
    {
     "data": {
      "text/plain": [
       "<matplotlib.axes._subplots.AxesSubplot at 0x21c878c3148>"
      ]
     },
     "execution_count": 188,
     "metadata": {},
     "output_type": "execute_result"
    },
    {
     "data": {
      "image/png": "[encoded data removed]",
      "text/plain": [
       "<Figure size 432x288 with 2 Axes>"
      ]
     },
     "metadata": {
      "needs_background": "light"
     },
     "output_type": "display_data"
    }
   ],
   "source": [
    "sns.heatmap(corr)"
   ]
  },
  {
   "cell_type": "markdown",
   "metadata": {},
   "source": [
    "# Best performing team and the least performing team"
   ]
  },
  {
   "cell_type": "code",
   "execution_count": 193,
   "metadata": {},
   "outputs": [
    {
     "data": {
      "text/html": [
       "<div>\n",
       "<style scoped>\n",
       "    .dataframe tbody tr th:only-of-type {\n",
       "        vertical-align: middle;\n",
       "    }\n",
       "\n",
       "    .dataframe tbody tr th {\n",
       "        vertical-align: top;\n",
       "    }\n",
       "\n",
       "    .dataframe thead th {\n",
       "        text-align: right;\n",
       "    }\n",
       "</style>\n",
       "<table border=\"1\" class=\"dataframe\">\n",
       "  <thead>\n",
       "    <tr style=\"text-align: right;\">\n",
       "      <th></th>\n",
       "      <th>Team</th>\n",
       "      <th>Tournament</th>\n",
       "      <th>Score</th>\n",
       "      <th>PlayedGames</th>\n",
       "      <th>WonGames</th>\n",
       "      <th>DrawnGames</th>\n",
       "      <th>LostGames</th>\n",
       "      <th>BasketScored</th>\n",
       "      <th>BasketGiven</th>\n",
       "      <th>TournamentChampion</th>\n",
       "      <th>Runner-up</th>\n",
       "      <th>TeamLaunch</th>\n",
       "      <th>HighestPositionHeld</th>\n",
       "    </tr>\n",
       "  </thead>\n",
       "  <tbody>\n",
       "    <tr>\n",
       "      <td>0</td>\n",
       "      <td>Team 1</td>\n",
       "      <td>86</td>\n",
       "      <td>4385</td>\n",
       "      <td>2762</td>\n",
       "      <td>1647</td>\n",
       "      <td>552</td>\n",
       "      <td>563</td>\n",
       "      <td>5947</td>\n",
       "      <td>3140</td>\n",
       "      <td>33</td>\n",
       "      <td>23</td>\n",
       "      <td>1929</td>\n",
       "      <td>1</td>\n",
       "    </tr>\n",
       "    <tr>\n",
       "      <td>1</td>\n",
       "      <td>Team 2</td>\n",
       "      <td>86</td>\n",
       "      <td>4262</td>\n",
       "      <td>2762</td>\n",
       "      <td>1581</td>\n",
       "      <td>573</td>\n",
       "      <td>608</td>\n",
       "      <td>5900</td>\n",
       "      <td>3114</td>\n",
       "      <td>25</td>\n",
       "      <td>25</td>\n",
       "      <td>1929</td>\n",
       "      <td>1</td>\n",
       "    </tr>\n",
       "    <tr>\n",
       "      <td>2</td>\n",
       "      <td>Team 3</td>\n",
       "      <td>80</td>\n",
       "      <td>3442</td>\n",
       "      <td>2614</td>\n",
       "      <td>1241</td>\n",
       "      <td>598</td>\n",
       "      <td>775</td>\n",
       "      <td>4534</td>\n",
       "      <td>3309</td>\n",
       "      <td>10</td>\n",
       "      <td>8</td>\n",
       "      <td>1929</td>\n",
       "      <td>1</td>\n",
       "    </tr>\n",
       "  </tbody>\n",
       "</table>\n",
       "</div>"
      ],
      "text/plain": [
       "     Team  Tournament  Score  PlayedGames  WonGames  DrawnGames  LostGames  \\\n",
       "0  Team 1          86   4385         2762      1647         552        563   \n",
       "1  Team 2          86   4262         2762      1581         573        608   \n",
       "2  Team 3          80   3442         2614      1241         598        775   \n",
       "\n",
       "   BasketScored  BasketGiven  TournamentChampion  Runner-up  TeamLaunch  \\\n",
       "0          5947         3140                  33         23        1929   \n",
       "1          5900         3114                  25         25        1929   \n",
       "2          4534         3309                  10          8        1929   \n",
       "\n",
       "   HighestPositionHeld  \n",
       "0                    1  \n",
       "1                    1  \n",
       "2                    1  "
      ]
     },
     "execution_count": 193,
     "metadata": {},
     "output_type": "execute_result"
    }
   ],
   "source": [
    "#Now lets find out the best performing team based on the the number of Games won and let us also select the top \n",
    "# 3 performing teams and the least 3 performing teams. From this, we can conclude the best and least performing team.\n",
    "top_3_teams = data.nlargest(3,['WonGames'])\n",
    "least_3_team = data.nsmallest(3,['LostGames'])\n",
    "top_3_teams"
   ]
  },
  {
   "cell_type": "code",
   "execution_count": 192,
   "metadata": {},
   "outputs": [
    {
     "data": {
      "text/html": [
       "<div>\n",
       "<style scoped>\n",
       "    .dataframe tbody tr th:only-of-type {\n",
       "        vertical-align: middle;\n",
       "    }\n",
       "\n",
       "    .dataframe tbody tr th {\n",
       "        vertical-align: top;\n",
       "    }\n",
       "\n",
       "    .dataframe thead th {\n",
       "        text-align: right;\n",
       "    }\n",
       "</style>\n",
       "<table border=\"1\" class=\"dataframe\">\n",
       "  <thead>\n",
       "    <tr style=\"text-align: right;\">\n",
       "      <th></th>\n",
       "      <th>Team</th>\n",
       "      <th>Tournament</th>\n",
       "      <th>Score</th>\n",
       "      <th>PlayedGames</th>\n",
       "      <th>WonGames</th>\n",
       "      <th>DrawnGames</th>\n",
       "      <th>LostGames</th>\n",
       "      <th>BasketScored</th>\n",
       "      <th>BasketGiven</th>\n",
       "      <th>TournamentChampion</th>\n",
       "      <th>Runner-up</th>\n",
       "      <th>TeamLaunch</th>\n",
       "      <th>HighestPositionHeld</th>\n",
       "    </tr>\n",
       "  </thead>\n",
       "  <tbody>\n",
       "    <tr>\n",
       "      <td>60</td>\n",
       "      <td>Team 61</td>\n",
       "      <td>1</td>\n",
       "      <td>0</td>\n",
       "      <td>0</td>\n",
       "      <td>0</td>\n",
       "      <td>0</td>\n",
       "      <td>0</td>\n",
       "      <td>0</td>\n",
       "      <td>0</td>\n",
       "      <td>0</td>\n",
       "      <td>0</td>\n",
       "      <td>2017</td>\n",
       "      <td>9</td>\n",
       "    </tr>\n",
       "    <tr>\n",
       "      <td>57</td>\n",
       "      <td>Team 58</td>\n",
       "      <td>1</td>\n",
       "      <td>22</td>\n",
       "      <td>30</td>\n",
       "      <td>7</td>\n",
       "      <td>8</td>\n",
       "      <td>15</td>\n",
       "      <td>37</td>\n",
       "      <td>57</td>\n",
       "      <td>0</td>\n",
       "      <td>0</td>\n",
       "      <td>1956</td>\n",
       "      <td>16</td>\n",
       "    </tr>\n",
       "    <tr>\n",
       "      <td>58</td>\n",
       "      <td>Team 59</td>\n",
       "      <td>1</td>\n",
       "      <td>19</td>\n",
       "      <td>30</td>\n",
       "      <td>7</td>\n",
       "      <td>5</td>\n",
       "      <td>18</td>\n",
       "      <td>51</td>\n",
       "      <td>85</td>\n",
       "      <td>0</td>\n",
       "      <td>0</td>\n",
       "      <td>1951</td>\n",
       "      <td>16</td>\n",
       "    </tr>\n",
       "  </tbody>\n",
       "</table>\n",
       "</div>"
      ],
      "text/plain": [
       "       Team  Tournament  Score  PlayedGames  WonGames  DrawnGames  LostGames  \\\n",
       "60  Team 61           1      0            0         0           0          0   \n",
       "57  Team 58           1     22           30         7           8         15   \n",
       "58  Team 59           1     19           30         7           5         18   \n",
       "\n",
       "    BasketScored  BasketGiven  TournamentChampion  Runner-up  TeamLaunch  \\\n",
       "60             0            0                   0          0        2017   \n",
       "57            37           57                   0          0        1956   \n",
       "58            51           85                   0          0        1951   \n",
       "\n",
       "    HighestPositionHeld  \n",
       "60                    9  \n",
       "57                   16  \n",
       "58                   16  "
      ]
     },
     "execution_count": 192,
     "metadata": {},
     "output_type": "execute_result"
    }
   ],
   "source": [
    "least_3_team"
   ]
  },
  {
   "cell_type": "markdown",
   "metadata": {},
   "source": [
    "# Team 1 and Team 58 are the beat and the least performing team."
   ]
  },
  {
   "cell_type": "markdown",
   "metadata": {},
   "source": [
    "# oldest team"
   ]
  },
  {
   "cell_type": "code",
   "execution_count": 194,
   "metadata": {},
   "outputs": [
    {
     "data": {
      "image/png": "[encoded data removed]",
      "text/plain": [
       "<Figure size 1440x360 with 1 Axes>"
      ]
     },
     "metadata": {
      "needs_background": "light"
     },
     "output_type": "display_data"
    }
   ],
   "source": [
    "#Lets find out the oldest team using the column Year.\n",
    "sns.catplot(x=\"TeamLaunch\",\n",
    "                data=data, kind=\"count\",\n",
    "                 aspect=4);"
   ]
  },
  {
   "cell_type": "markdown",
   "metadata": {},
   "source": [
    "# There are 10 teams launched in the year 1929."
   ]
  },
  {
   "cell_type": "code",
   "execution_count": 195,
   "metadata": {},
   "outputs": [
    {
     "data": {
      "text/html": [
       "<div>\n",
       "<style scoped>\n",
       "    .dataframe tbody tr th:only-of-type {\n",
       "        vertical-align: middle;\n",
       "    }\n",
       "\n",
       "    .dataframe tbody tr th {\n",
       "        vertical-align: top;\n",
       "    }\n",
       "\n",
       "    .dataframe thead th {\n",
       "        text-align: right;\n",
       "    }\n",
       "</style>\n",
       "<table border=\"1\" class=\"dataframe\">\n",
       "  <thead>\n",
       "    <tr style=\"text-align: right;\">\n",
       "      <th></th>\n",
       "      <th>Team</th>\n",
       "      <th>Tournament</th>\n",
       "      <th>Score</th>\n",
       "      <th>PlayedGames</th>\n",
       "      <th>WonGames</th>\n",
       "      <th>DrawnGames</th>\n",
       "      <th>LostGames</th>\n",
       "      <th>BasketScored</th>\n",
       "      <th>BasketGiven</th>\n",
       "      <th>TournamentChampion</th>\n",
       "      <th>Runner-up</th>\n",
       "      <th>TeamLaunch</th>\n",
       "      <th>HighestPositionHeld</th>\n",
       "    </tr>\n",
       "  </thead>\n",
       "  <tbody>\n",
       "    <tr>\n",
       "      <td>0</td>\n",
       "      <td>Team 1</td>\n",
       "      <td>86</td>\n",
       "      <td>4385</td>\n",
       "      <td>2762</td>\n",
       "      <td>1647</td>\n",
       "      <td>552</td>\n",
       "      <td>563</td>\n",
       "      <td>5947</td>\n",
       "      <td>3140</td>\n",
       "      <td>33</td>\n",
       "      <td>23</td>\n",
       "      <td>1929</td>\n",
       "      <td>1</td>\n",
       "    </tr>\n",
       "  </tbody>\n",
       "</table>\n",
       "</div>"
      ],
      "text/plain": [
       "     Team  Tournament  Score  PlayedGames  WonGames  DrawnGames  LostGames  \\\n",
       "0  Team 1          86   4385         2762      1647         552        563   \n",
       "\n",
       "   BasketScored  BasketGiven  TournamentChampion  Runner-up  TeamLaunch  \\\n",
       "0          5947         3140                  33         23        1929   \n",
       "\n",
       "   HighestPositionHeld  \n",
       "0                    1  "
      ]
     },
     "execution_count": 195,
     "metadata": {},
     "output_type": "execute_result"
    }
   ],
   "source": [
    "#Team with highest goals. We can decide this using the column BasketScored. \n",
    "basket_scored = data.nlargest(1,['BasketScored'])\n",
    "basket_scored"
   ]
  },
  {
   "cell_type": "code",
   "execution_count": 196,
   "metadata": {},
   "outputs": [
    {
     "data": {
      "text/html": [
       "<div>\n",
       "<style scoped>\n",
       "    .dataframe tbody tr th:only-of-type {\n",
       "        vertical-align: middle;\n",
       "    }\n",
       "\n",
       "    .dataframe tbody tr th {\n",
       "        vertical-align: top;\n",
       "    }\n",
       "\n",
       "    .dataframe thead th {\n",
       "        text-align: right;\n",
       "    }\n",
       "</style>\n",
       "<table border=\"1\" class=\"dataframe\">\n",
       "  <thead>\n",
       "    <tr style=\"text-align: right;\">\n",
       "      <th></th>\n",
       "      <th>Team</th>\n",
       "      <th>Tournament</th>\n",
       "      <th>Score</th>\n",
       "      <th>PlayedGames</th>\n",
       "      <th>WonGames</th>\n",
       "      <th>DrawnGames</th>\n",
       "      <th>LostGames</th>\n",
       "      <th>BasketScored</th>\n",
       "      <th>BasketGiven</th>\n",
       "      <th>TournamentChampion</th>\n",
       "      <th>Runner-up</th>\n",
       "      <th>TeamLaunch</th>\n",
       "      <th>HighestPositionHeld</th>\n",
       "    </tr>\n",
       "  </thead>\n",
       "  <tbody>\n",
       "    <tr>\n",
       "      <td>6</td>\n",
       "      <td>Team 7</td>\n",
       "      <td>82</td>\n",
       "      <td>2792</td>\n",
       "      <td>2626</td>\n",
       "      <td>948</td>\n",
       "      <td>608</td>\n",
       "      <td>1070</td>\n",
       "      <td>3609</td>\n",
       "      <td>3889</td>\n",
       "      <td>0</td>\n",
       "      <td>0</td>\n",
       "      <td>1929</td>\n",
       "      <td>3</td>\n",
       "    </tr>\n",
       "  </tbody>\n",
       "</table>\n",
       "</div>"
      ],
      "text/plain": [
       "     Team  Tournament  Score  PlayedGames  WonGames  DrawnGames  LostGames  \\\n",
       "6  Team 7          82   2792         2626       948         608       1070   \n",
       "\n",
       "   BasketScored  BasketGiven  TournamentChampion  Runner-up  TeamLaunch  \\\n",
       "6          3609         3889                   0          0        1929   \n",
       "\n",
       "   HighestPositionHeld  \n",
       "6                    3  "
      ]
     },
     "execution_count": 196,
     "metadata": {},
     "output_type": "execute_result"
    }
   ],
   "source": [
    "#We will also find out the team which has the highest number of Basket given.\n",
    "basket_given = data.nlargest(1,['BasketGiven'])\n",
    "basket_given "
   ]
  },
  {
   "cell_type": "code",
   "execution_count": 197,
   "metadata": {},
   "outputs": [],
   "source": [
    "#Lets make a comparison between the overall percentages between the games won, lost and drawn.\n",
    "data['win_percent'] = (data['WonGames'] / data['PlayedGames'].sum()) * 100\n",
    "data['lose_percent']= (data['LostGames'] / data['PlayedGames'].sum()) * 100\n",
    "data['draw_percent']= (data['DrawnGames'] / data['PlayedGames'].sum()) * 100\n",
    "data['basket_scored']= (data['BasketScored'] / data['PlayedGames'].sum()) * 100\n",
    "data['basket_given']= (data['BasketGiven'] / data['PlayedGames'].sum()) * 100"
   ]
  },
  {
   "cell_type": "code",
   "execution_count": 199,
   "metadata": {},
   "outputs": [
    {
     "data": {
      "text/plain": [
       "0     3.388471\n",
       "1     3.252685\n",
       "2     2.553183\n",
       "3     2.442085\n",
       "4     2.487347\n",
       "        ...   \n",
       "56    0.016459\n",
       "57    0.014402\n",
       "58    0.014402\n",
       "59    0.010287\n",
       "60    0.000000\n",
       "Name: win_percent, Length: 61, dtype: float64"
      ]
     },
     "execution_count": 199,
     "metadata": {},
     "output_type": "execute_result"
    }
   ],
   "source": [
    "data['win_percent']"
   ]
  },
  {
   "cell_type": "code",
   "execution_count": 210,
   "metadata": {},
   "outputs": [
    {
     "data": {
      "text/html": [
       "<div>\n",
       "<style scoped>\n",
       "    .dataframe tbody tr th:only-of-type {\n",
       "        vertical-align: middle;\n",
       "    }\n",
       "\n",
       "    .dataframe tbody tr th {\n",
       "        vertical-align: top;\n",
       "    }\n",
       "\n",
       "    .dataframe thead th {\n",
       "        text-align: right;\n",
       "    }\n",
       "</style>\n",
       "<table border=\"1\" class=\"dataframe\">\n",
       "  <thead>\n",
       "    <tr style=\"text-align: right;\">\n",
       "      <th></th>\n",
       "      <th>Team</th>\n",
       "      <th>Tournament</th>\n",
       "      <th>Score</th>\n",
       "      <th>PlayedGames</th>\n",
       "      <th>WonGames</th>\n",
       "      <th>DrawnGames</th>\n",
       "      <th>LostGames</th>\n",
       "      <th>BasketScored</th>\n",
       "      <th>BasketGiven</th>\n",
       "      <th>TournamentChampion</th>\n",
       "      <th>Runner-up</th>\n",
       "      <th>TeamLaunch</th>\n",
       "      <th>HighestPositionHeld</th>\n",
       "      <th>win_percent</th>\n",
       "      <th>lose_percent</th>\n",
       "      <th>draw_percent</th>\n",
       "      <th>basket_scored</th>\n",
       "      <th>basket_given</th>\n",
       "    </tr>\n",
       "  </thead>\n",
       "  <tbody>\n",
       "    <tr>\n",
       "      <td>0</td>\n",
       "      <td>Team 1</td>\n",
       "      <td>86</td>\n",
       "      <td>4385</td>\n",
       "      <td>2762</td>\n",
       "      <td>1647</td>\n",
       "      <td>552</td>\n",
       "      <td>563</td>\n",
       "      <td>5947</td>\n",
       "      <td>3140</td>\n",
       "      <td>33</td>\n",
       "      <td>23</td>\n",
       "      <td>1929</td>\n",
       "      <td>1</td>\n",
       "      <td>3.388471</td>\n",
       "      <td>1.158293</td>\n",
       "      <td>1.135662</td>\n",
       "      <td>12.235115</td>\n",
       "      <td>6.460108</td>\n",
       "    </tr>\n",
       "    <tr>\n",
       "      <td>1</td>\n",
       "      <td>Team 2</td>\n",
       "      <td>86</td>\n",
       "      <td>4262</td>\n",
       "      <td>2762</td>\n",
       "      <td>1581</td>\n",
       "      <td>573</td>\n",
       "      <td>608</td>\n",
       "      <td>5900</td>\n",
       "      <td>3114</td>\n",
       "      <td>25</td>\n",
       "      <td>25</td>\n",
       "      <td>1929</td>\n",
       "      <td>1</td>\n",
       "      <td>3.252685</td>\n",
       "      <td>1.250874</td>\n",
       "      <td>1.178867</td>\n",
       "      <td>12.138419</td>\n",
       "      <td>6.406616</td>\n",
       "    </tr>\n",
       "    <tr>\n",
       "      <td>2</td>\n",
       "      <td>Team 3</td>\n",
       "      <td>80</td>\n",
       "      <td>3442</td>\n",
       "      <td>2614</td>\n",
       "      <td>1241</td>\n",
       "      <td>598</td>\n",
       "      <td>775</td>\n",
       "      <td>4534</td>\n",
       "      <td>3309</td>\n",
       "      <td>10</td>\n",
       "      <td>8</td>\n",
       "      <td>1929</td>\n",
       "      <td>1</td>\n",
       "      <td>2.553183</td>\n",
       "      <td>1.594453</td>\n",
       "      <td>1.230301</td>\n",
       "      <td>9.328066</td>\n",
       "      <td>6.807802</td>\n",
       "    </tr>\n",
       "    <tr>\n",
       "      <td>3</td>\n",
       "      <td>Team 4</td>\n",
       "      <td>82</td>\n",
       "      <td>3386</td>\n",
       "      <td>2664</td>\n",
       "      <td>1187</td>\n",
       "      <td>616</td>\n",
       "      <td>861</td>\n",
       "      <td>4398</td>\n",
       "      <td>3469</td>\n",
       "      <td>6</td>\n",
       "      <td>6</td>\n",
       "      <td>1931</td>\n",
       "      <td>1</td>\n",
       "      <td>2.442085</td>\n",
       "      <td>1.771386</td>\n",
       "      <td>1.267333</td>\n",
       "      <td>9.048266</td>\n",
       "      <td>7.136979</td>\n",
       "    </tr>\n",
       "    <tr>\n",
       "      <td>4</td>\n",
       "      <td>Team 5</td>\n",
       "      <td>86</td>\n",
       "      <td>3368</td>\n",
       "      <td>2762</td>\n",
       "      <td>1209</td>\n",
       "      <td>633</td>\n",
       "      <td>920</td>\n",
       "      <td>4631</td>\n",
       "      <td>3700</td>\n",
       "      <td>8</td>\n",
       "      <td>7</td>\n",
       "      <td>1929</td>\n",
       "      <td>1</td>\n",
       "      <td>2.487347</td>\n",
       "      <td>1.892770</td>\n",
       "      <td>1.302308</td>\n",
       "      <td>9.527630</td>\n",
       "      <td>7.612229</td>\n",
       "    </tr>\n",
       "    <tr>\n",
       "      <td>5</td>\n",
       "      <td>Team 6</td>\n",
       "      <td>73</td>\n",
       "      <td>2819</td>\n",
       "      <td>2408</td>\n",
       "      <td>990</td>\n",
       "      <td>531</td>\n",
       "      <td>887</td>\n",
       "      <td>3680</td>\n",
       "      <td>3373</td>\n",
       "      <td>1</td>\n",
       "      <td>4</td>\n",
       "      <td>1934</td>\n",
       "      <td>1</td>\n",
       "      <td>2.036786</td>\n",
       "      <td>1.824878</td>\n",
       "      <td>1.092458</td>\n",
       "      <td>7.571082</td>\n",
       "      <td>6.939472</td>\n",
       "    </tr>\n",
       "    <tr>\n",
       "      <td>6</td>\n",
       "      <td>Team 7</td>\n",
       "      <td>82</td>\n",
       "      <td>2792</td>\n",
       "      <td>2626</td>\n",
       "      <td>948</td>\n",
       "      <td>608</td>\n",
       "      <td>1070</td>\n",
       "      <td>3609</td>\n",
       "      <td>3889</td>\n",
       "      <td>0</td>\n",
       "      <td>0</td>\n",
       "      <td>1929</td>\n",
       "      <td>3</td>\n",
       "      <td>1.950376</td>\n",
       "      <td>2.201374</td>\n",
       "      <td>1.250874</td>\n",
       "      <td>7.425009</td>\n",
       "      <td>8.001070</td>\n",
       "    </tr>\n",
       "    <tr>\n",
       "      <td>7</td>\n",
       "      <td>Team 8</td>\n",
       "      <td>70</td>\n",
       "      <td>2573</td>\n",
       "      <td>2302</td>\n",
       "      <td>864</td>\n",
       "      <td>577</td>\n",
       "      <td>861</td>\n",
       "      <td>3228</td>\n",
       "      <td>3230</td>\n",
       "      <td>2</td>\n",
       "      <td>3</td>\n",
       "      <td>1929</td>\n",
       "      <td>1</td>\n",
       "      <td>1.777558</td>\n",
       "      <td>1.771386</td>\n",
       "      <td>1.187096</td>\n",
       "      <td>6.641155</td>\n",
       "      <td>6.645270</td>\n",
       "    </tr>\n",
       "    <tr>\n",
       "      <td>8</td>\n",
       "      <td>Team 9</td>\n",
       "      <td>58</td>\n",
       "      <td>2109</td>\n",
       "      <td>1986</td>\n",
       "      <td>698</td>\n",
       "      <td>522</td>\n",
       "      <td>766</td>\n",
       "      <td>2683</td>\n",
       "      <td>2847</td>\n",
       "      <td>0</td>\n",
       "      <td>1</td>\n",
       "      <td>1939</td>\n",
       "      <td>2</td>\n",
       "      <td>1.436037</td>\n",
       "      <td>1.575937</td>\n",
       "      <td>1.073941</td>\n",
       "      <td>5.519895</td>\n",
       "      <td>5.857302</td>\n",
       "    </tr>\n",
       "    <tr>\n",
       "      <td>9</td>\n",
       "      <td>Team 10</td>\n",
       "      <td>51</td>\n",
       "      <td>1884</td>\n",
       "      <td>1728</td>\n",
       "      <td>606</td>\n",
       "      <td>440</td>\n",
       "      <td>682</td>\n",
       "      <td>2159</td>\n",
       "      <td>2492</td>\n",
       "      <td>1</td>\n",
       "      <td>0</td>\n",
       "      <td>1932</td>\n",
       "      <td>1</td>\n",
       "      <td>1.246760</td>\n",
       "      <td>1.403119</td>\n",
       "      <td>0.905238</td>\n",
       "      <td>4.441838</td>\n",
       "      <td>5.126939</td>\n",
       "    </tr>\n",
       "  </tbody>\n",
       "</table>\n",
       "</div>"
      ],
      "text/plain": [
       "      Team  Tournament  Score  PlayedGames  WonGames  DrawnGames  LostGames  \\\n",
       "0   Team 1          86   4385         2762      1647         552        563   \n",
       "1   Team 2          86   4262         2762      1581         573        608   \n",
       "2   Team 3          80   3442         2614      1241         598        775   \n",
       "3   Team 4          82   3386         2664      1187         616        861   \n",
       "4   Team 5          86   3368         2762      1209         633        920   \n",
       "5   Team 6          73   2819         2408       990         531        887   \n",
       "6   Team 7          82   2792         2626       948         608       1070   \n",
       "7   Team 8          70   2573         2302       864         577        861   \n",
       "8   Team 9          58   2109         1986       698         522        766   \n",
       "9  Team 10          51   1884         1728       606         440        682   \n",
       "\n",
       "   BasketScored  BasketGiven  TournamentChampion  Runner-up  TeamLaunch  \\\n",
       "0          5947         3140                  33         23        1929   \n",
       "1          5900         3114                  25         25        1929   \n",
       "2          4534         3309                  10          8        1929   \n",
       "3          4398         3469                   6          6        1931   \n",
       "4          4631         3700                   8          7        1929   \n",
       "5          3680         3373                   1          4        1934   \n",
       "6          3609         3889                   0          0        1929   \n",
       "7          3228         3230                   2          3        1929   \n",
       "8          2683         2847                   0          1        1939   \n",
       "9          2159         2492                   1          0        1932   \n",
       "\n",
       "   HighestPositionHeld  win_percent  lose_percent  draw_percent  \\\n",
       "0                    1     3.388471      1.158293      1.135662   \n",
       "1                    1     3.252685      1.250874      1.178867   \n",
       "2                    1     2.553183      1.594453      1.230301   \n",
       "3                    1     2.442085      1.771386      1.267333   \n",
       "4                    1     2.487347      1.892770      1.302308   \n",
       "5                    1     2.036786      1.824878      1.092458   \n",
       "6                    3     1.950376      2.201374      1.250874   \n",
       "7                    1     1.777558      1.771386      1.187096   \n",
       "8                    2     1.436037      1.575937      1.073941   \n",
       "9                    1     1.246760      1.403119      0.905238   \n",
       "\n",
       "   basket_scored  basket_given  \n",
       "0      12.235115      6.460108  \n",
       "1      12.138419      6.406616  \n",
       "2       9.328066      6.807802  \n",
       "3       9.048266      7.136979  \n",
       "4       9.527630      7.612229  \n",
       "5       7.571082      6.939472  \n",
       "6       7.425009      8.001070  \n",
       "7       6.641155      6.645270  \n",
       "8       5.519895      5.857302  \n",
       "9       4.441838      5.126939  "
      ]
     },
     "execution_count": 210,
     "metadata": {},
     "output_type": "execute_result"
    }
   ],
   "source": [
    "data.head(10)"
   ]
  },
  {
   "cell_type": "code",
   "execution_count": 201,
   "metadata": {},
   "outputs": [
    {
     "data": {
      "text/plain": [
       "0     1.135662\n",
       "1     1.178867\n",
       "2     1.230301\n",
       "3     1.267333\n",
       "4     1.302308\n",
       "        ...   \n",
       "56    0.020574\n",
       "57    0.016459\n",
       "58    0.010287\n",
       "59    0.008229\n",
       "60    0.000000\n",
       "Name: draw_percent, Length: 61, dtype: float64"
      ]
     },
     "execution_count": 201,
     "metadata": {},
     "output_type": "execute_result"
    }
   ],
   "source": [
    "data['draw_percent']"
   ]
  },
  {
   "cell_type": "code",
   "execution_count": 202,
   "metadata": {},
   "outputs": [
    {
     "data": {
      "text/plain": [
       "0     12.235115\n",
       "1     12.138419\n",
       "2      9.328066\n",
       "3      9.048266\n",
       "4      9.527630\n",
       "        ...    \n",
       "56     0.078180\n",
       "57     0.076122\n",
       "58     0.104925\n",
       "59     0.069950\n",
       "60     0.000000\n",
       "Name: basket_scored, Length: 61, dtype: float64"
      ]
     },
     "execution_count": 202,
     "metadata": {},
     "output_type": "execute_result"
    }
   ],
   "source": [
    "data['basket_scored']"
   ]
  },
  {
   "cell_type": "code",
   "execution_count": 203,
   "metadata": {},
   "outputs": [
    {
     "data": {
      "text/plain": [
       "0     6.460108\n",
       "1     6.406616\n",
       "2     6.807802\n",
       "3     7.136979\n",
       "4     7.612229\n",
       "        ...   \n",
       "56    0.135786\n",
       "57    0.117269\n",
       "58    0.174876\n",
       "59    0.133728\n",
       "60    0.000000\n",
       "Name: basket_given, Length: 61, dtype: float64"
      ]
     },
     "execution_count": 203,
     "metadata": {},
     "output_type": "execute_result"
    }
   ],
   "source": [
    "data['basket_given']"
   ]
  },
  {
   "cell_type": "code",
   "execution_count": 204,
   "metadata": {},
   "outputs": [
    {
     "data": {
      "text/plain": [
       "<matplotlib.axes._subplots.AxesSubplot at 0x21c87797488>"
      ]
     },
     "execution_count": 204,
     "metadata": {},
     "output_type": "execute_result"
    },
    {
     "data": {
      "image/png": "[encoded data removed]",
      "text/plain": [
       "<Figure size 1080x432 with 1 Axes>"
      ]
     },
     "metadata": {
      "needs_background": "light"
     },
     "output_type": "display_data"
    }
   ],
   "source": [
    "data.plot(x=\"Team\", y=\"win_percent\", kind=\"bar\",figsize=(15,6))"
   ]
  },
  {
   "cell_type": "code",
   "execution_count": 205,
   "metadata": {},
   "outputs": [
    {
     "data": {
      "text/plain": [
       "<matplotlib.axes._subplots.AxesSubplot at 0x21c89087748>"
      ]
     },
     "execution_count": 205,
     "metadata": {},
     "output_type": "execute_result"
    },
    {
     "data": {
      "image/png": "[encoded data removed]",
      "text/plain": [
       "<Figure size 1080x432 with 1 Axes>"
      ]
     },
     "metadata": {
      "needs_background": "light"
     },
     "output_type": "display_data"
    }
   ],
   "source": [
    "data.plot(x=\"Team\", y=\"lose_percent\", kind=\"bar\",figsize=(15,6))"
   ]
  },
  {
   "cell_type": "markdown",
   "metadata": {},
   "source": [
    "# Team1 has the highest chances of winning with 3.38% and Team7 has the highest lose percentage 2.20%."
   ]
  },
  {
   "cell_type": "code",
   "execution_count": null,
   "metadata": {},
   "outputs": [],
   "source": [
    "#. Please include any improvements or suggestions to the association management on quality, quantity, variety, velocity, \n",
    "# veracity etc. on the data points collected by the association to perform a better data analysis in future\n",
    "\n",
    "# Data about 3 pointers, team member names, the place where they played the games, year of match, can be provided \n",
    "# to perform much detailed analysis"
   ]
  },
  {
   "cell_type": "markdown",
   "metadata": {},
   "source": [
    "# PART 3 "
   ]
  },
  {
   "cell_type": "markdown",
   "metadata": {},
   "source": [
    "# Read the csv file."
   ]
  },
  {
   "cell_type": "code",
   "execution_count": 68,
   "metadata": {},
   "outputs": [
    {
     "data": {
      "text/html": [
       "<div>\n",
       "<style scoped>\n",
       "    .dataframe tbody tr th:only-of-type {\n",
       "        vertical-align: middle;\n",
       "    }\n",
       "\n",
       "    .dataframe tbody tr th {\n",
       "        vertical-align: top;\n",
       "    }\n",
       "\n",
       "    .dataframe thead th {\n",
       "        text-align: right;\n",
       "    }\n",
       "</style>\n",
       "<table border=\"1\" class=\"dataframe\">\n",
       "  <thead>\n",
       "    <tr style=\"text-align: right;\">\n",
       "      <th></th>\n",
       "      <th>Startup</th>\n",
       "      <th>Product</th>\n",
       "      <th>Funding</th>\n",
       "      <th>Event</th>\n",
       "      <th>Result</th>\n",
       "      <th>OperatingState</th>\n",
       "    </tr>\n",
       "  </thead>\n",
       "  <tbody>\n",
       "    <tr>\n",
       "      <td>0</td>\n",
       "      <td>2600Hz</td>\n",
       "      <td>2600hz.com</td>\n",
       "      <td>NaN</td>\n",
       "      <td>Disrupt SF 2013</td>\n",
       "      <td>Contestant</td>\n",
       "      <td>Operating</td>\n",
       "    </tr>\n",
       "    <tr>\n",
       "      <td>1</td>\n",
       "      <td>3DLT</td>\n",
       "      <td>3dlt.com</td>\n",
       "      <td>$630K</td>\n",
       "      <td>Disrupt NYC 2013</td>\n",
       "      <td>Contestant</td>\n",
       "      <td>Closed</td>\n",
       "    </tr>\n",
       "    <tr>\n",
       "      <td>2</td>\n",
       "      <td>3DPrinterOS</td>\n",
       "      <td>3dprinteros.com</td>\n",
       "      <td>NaN</td>\n",
       "      <td>Disrupt SF 2016</td>\n",
       "      <td>Contestant</td>\n",
       "      <td>Operating</td>\n",
       "    </tr>\n",
       "    <tr>\n",
       "      <td>3</td>\n",
       "      <td>3Dprintler</td>\n",
       "      <td>3dprintler.com</td>\n",
       "      <td>$1M</td>\n",
       "      <td>Disrupt NY 2016</td>\n",
       "      <td>Audience choice</td>\n",
       "      <td>Operating</td>\n",
       "    </tr>\n",
       "    <tr>\n",
       "      <td>4</td>\n",
       "      <td>42 Technologies</td>\n",
       "      <td>42technologies.com</td>\n",
       "      <td>NaN</td>\n",
       "      <td>Disrupt NYC 2013</td>\n",
       "      <td>Contestant</td>\n",
       "      <td>Operating</td>\n",
       "    </tr>\n",
       "  </tbody>\n",
       "</table>\n",
       "</div>"
      ],
      "text/plain": [
       "           Startup             Product Funding             Event  \\\n",
       "0           2600Hz          2600hz.com     NaN   Disrupt SF 2013   \n",
       "1             3DLT            3dlt.com   $630K  Disrupt NYC 2013   \n",
       "2      3DPrinterOS     3dprinteros.com     NaN   Disrupt SF 2016   \n",
       "3       3Dprintler      3dprintler.com     $1M   Disrupt NY 2016   \n",
       "4  42 Technologies  42technologies.com     NaN  Disrupt NYC 2013   \n",
       "\n",
       "            Result OperatingState  \n",
       "0       Contestant      Operating  \n",
       "1       Contestant         Closed  \n",
       "2       Contestant      Operating  \n",
       "3  Audience choice      Operating  \n",
       "4       Contestant      Operating  "
      ]
     },
     "execution_count": 68,
     "metadata": {},
     "output_type": "execute_result"
    }
   ],
   "source": [
    "#Read the dataset.\n",
    "company = pd.read_csv('DS - Part3 - CompanyX_EU.csv')\n",
    "company.head(5)"
   ]
  },
  {
   "cell_type": "markdown",
   "metadata": {},
   "source": [
    "# Check the datatypes of each attribute.\n",
    "# Check for null values in the attributes"
   ]
  },
  {
   "cell_type": "code",
   "execution_count": 69,
   "metadata": {},
   "outputs": [
    {
     "data": {
      "text/plain": [
       "Startup           object\n",
       "Product           object\n",
       "Funding           object\n",
       "Event             object\n",
       "Result            object\n",
       "OperatingState    object\n",
       "dtype: object"
      ]
     },
     "execution_count": 69,
     "metadata": {},
     "output_type": "execute_result"
    }
   ],
   "source": [
    "#Check the datatypes of each attribute.\n",
    "# Check for null values in the attributes\n",
    "company.dtypes"
   ]
  },
  {
   "cell_type": "code",
   "execution_count": 70,
   "metadata": {},
   "outputs": [
    {
     "data": {
      "text/plain": [
       "Startup             0\n",
       "Product             6\n",
       "Funding           214\n",
       "Event               0\n",
       "Result              0\n",
       "OperatingState      0\n",
       "dtype: int64"
      ]
     },
     "execution_count": 70,
     "metadata": {},
     "output_type": "execute_result"
    }
   ],
   "source": [
    "company.isnull().sum()"
   ]
  },
  {
   "cell_type": "markdown",
   "metadata": {},
   "source": [
    "# There are 6 null values in the 'Product' column and 214 null values in the 'Funding' values."
   ]
  },
  {
   "cell_type": "markdown",
   "metadata": {},
   "source": [
    "# • Drop the null values.\n",
    "# • Convert the ‘Funding’ features to a numerical value.\n",
    "# • Plot box plot for funds in million.\n",
    "# • Get the lower fence from the box plot.\n",
    "# • Check number of outliers greater than upper fence.\n",
    "# • Drop the values that are greater than upper fence.\n",
    "# • Plot the box plot after dropping the values.\n",
    "# • Check frequency of the OperatingState features classes.\n",
    "# • Plot a distribution plot for Funds in million.\n",
    "# • Plot distribution plots for companies still operating and companies that closed."
   ]
  },
  {
   "cell_type": "code",
   "execution_count": 71,
   "metadata": {},
   "outputs": [
    {
     "data": {
      "text/html": [
       "<div>\n",
       "<style scoped>\n",
       "    .dataframe tbody tr th:only-of-type {\n",
       "        vertical-align: middle;\n",
       "    }\n",
       "\n",
       "    .dataframe tbody tr th {\n",
       "        vertical-align: top;\n",
       "    }\n",
       "\n",
       "    .dataframe thead th {\n",
       "        text-align: right;\n",
       "    }\n",
       "</style>\n",
       "<table border=\"1\" class=\"dataframe\">\n",
       "  <thead>\n",
       "    <tr style=\"text-align: right;\">\n",
       "      <th></th>\n",
       "      <th>Startup</th>\n",
       "      <th>Product</th>\n",
       "      <th>Funding</th>\n",
       "      <th>Event</th>\n",
       "      <th>Result</th>\n",
       "      <th>OperatingState</th>\n",
       "    </tr>\n",
       "  </thead>\n",
       "  <tbody>\n",
       "    <tr>\n",
       "      <td>1</td>\n",
       "      <td>3DLT</td>\n",
       "      <td>3dlt.com</td>\n",
       "      <td>$630K</td>\n",
       "      <td>Disrupt NYC 2013</td>\n",
       "      <td>Contestant</td>\n",
       "      <td>Closed</td>\n",
       "    </tr>\n",
       "    <tr>\n",
       "      <td>3</td>\n",
       "      <td>3Dprintler</td>\n",
       "      <td>3dprintler.com</td>\n",
       "      <td>$1M</td>\n",
       "      <td>Disrupt NY 2016</td>\n",
       "      <td>Audience choice</td>\n",
       "      <td>Operating</td>\n",
       "    </tr>\n",
       "    <tr>\n",
       "      <td>5</td>\n",
       "      <td>5to1</td>\n",
       "      <td>5to1.com</td>\n",
       "      <td>$19.3M</td>\n",
       "      <td>TC50 2009</td>\n",
       "      <td>Contestant</td>\n",
       "      <td>Acquired</td>\n",
       "    </tr>\n",
       "    <tr>\n",
       "      <td>6</td>\n",
       "      <td>8 Securities</td>\n",
       "      <td>8securities.com</td>\n",
       "      <td>$29M</td>\n",
       "      <td>Disrupt Beijing 2011</td>\n",
       "      <td>Finalist</td>\n",
       "      <td>Operating</td>\n",
       "    </tr>\n",
       "    <tr>\n",
       "      <td>10</td>\n",
       "      <td>AdhereTech</td>\n",
       "      <td>adheretech.com</td>\n",
       "      <td>$1.8M</td>\n",
       "      <td>Hardware Battlefield 2014</td>\n",
       "      <td>Contestant</td>\n",
       "      <td>Operating</td>\n",
       "    </tr>\n",
       "  </tbody>\n",
       "</table>\n",
       "</div>"
      ],
      "text/plain": [
       "         Startup          Product Funding                      Event  \\\n",
       "1           3DLT         3dlt.com   $630K           Disrupt NYC 2013   \n",
       "3     3Dprintler   3dprintler.com     $1M            Disrupt NY 2016   \n",
       "5           5to1         5to1.com  $19.3M                  TC50 2009   \n",
       "6   8 Securities  8securities.com    $29M       Disrupt Beijing 2011   \n",
       "10    AdhereTech   adheretech.com   $1.8M  Hardware Battlefield 2014   \n",
       "\n",
       "             Result OperatingState  \n",
       "1        Contestant         Closed  \n",
       "3   Audience choice      Operating  \n",
       "5        Contestant       Acquired  \n",
       "6          Finalist      Operating  \n",
       "10       Contestant      Operating  "
      ]
     },
     "execution_count": 71,
     "metadata": {},
     "output_type": "execute_result"
    }
   ],
   "source": [
    "#Replacing blank spaces into Nan inorder to drop the values.\n",
    "company['Product'].replace('', np.nan, inplace=True)\n",
    "company['Funding'].replace('', np.nan, inplace=True)\n",
    "data = company.dropna()\n",
    "data.head()"
   ]
  },
  {
   "cell_type": "code",
   "execution_count": 72,
   "metadata": {},
   "outputs": [
    {
     "name": "stderr",
     "output_type": "stream",
     "text": [
      "C:\\Users\\ADMIN\\Anaconda3\\lib\\site-packages\\ipykernel_launcher.py:2: SettingWithCopyWarning: \n",
      "A value is trying to be set on a copy of a slice from a DataFrame.\n",
      "Try using .loc[row_indexer,col_indexer] = value instead\n",
      "\n",
      "See the caveats in the documentation: http://pandas.pydata.org/pandas-docs/stable/user_guide/indexing.html#returning-a-view-versus-a-copy\n",
      "  \n"
     ]
    }
   ],
   "source": [
    "#Processing the Funding column by removing the $ sign. \n",
    "data['Funding'] = data['Funding'].str.replace('$', '')"
   ]
  },
  {
   "cell_type": "code",
   "execution_count": 73,
   "metadata": {},
   "outputs": [],
   "source": [
    "#Removing the K,M,B inorder to convert to float.\n",
    "data.Funding = (data.Funding.replace(r'[KMB]+$', '', regex=True).astype(float) * \\\n",
    "   ....:           data.Funding.str.extract(r'[\\d\\.]+([KMB]+)', expand=False)\n",
    "   ....:             .fillna(1)\n",
    "   ....:             .replace(['K','M','B'], [10**3, 10**6,10**9]).astype(int))"
   ]
  },
  {
   "cell_type": "code",
   "execution_count": 74,
   "metadata": {},
   "outputs": [],
   "source": [
    "data.Funding = data.Funding.astype('float64')"
   ]
  },
  {
   "cell_type": "code",
   "execution_count": 75,
   "metadata": {},
   "outputs": [
    {
     "data": {
      "text/plain": [
       "1         630000.0\n",
       "3        1000000.0\n",
       "5       19300000.0\n",
       "6       29000000.0\n",
       "10       1800000.0\n",
       "          ...     \n",
       "657      8000000.0\n",
       "658      1000000.0\n",
       "659    223000000.0\n",
       "660      3400000.0\n",
       "661     31500000.0\n",
       "Name: Funding, Length: 446, dtype: float64"
      ]
     },
     "execution_count": 75,
     "metadata": {},
     "output_type": "execute_result"
    }
   ],
   "source": [
    "data.Funding"
   ]
  },
  {
   "cell_type": "code",
   "execution_count": 76,
   "metadata": {},
   "outputs": [],
   "source": [
    "#Convert the values in millions to plot the Funds in millions.\n",
    "data.Funding = data.Funding.div(1000000)"
   ]
  },
  {
   "cell_type": "code",
   "execution_count": 77,
   "metadata": {},
   "outputs": [
    {
     "data": {
      "text/plain": [
       "1        0.63\n",
       "3        1.00\n",
       "5       19.30\n",
       "6       29.00\n",
       "10       1.80\n",
       "        ...  \n",
       "657      8.00\n",
       "658      1.00\n",
       "659    223.00\n",
       "660      3.40\n",
       "661     31.50\n",
       "Name: Funding, Length: 446, dtype: float64"
      ]
     },
     "execution_count": 77,
     "metadata": {},
     "output_type": "execute_result"
    }
   ],
   "source": [
    "data.Funding"
   ]
  },
  {
   "cell_type": "code",
   "execution_count": 81,
   "metadata": {},
   "outputs": [
    {
     "data": {
      "text/plain": [
       "<matplotlib.axes._subplots.AxesSubplot at 0x21c83588d08>"
      ]
     },
     "execution_count": 81,
     "metadata": {},
     "output_type": "execute_result"
    },
    {
     "data": {
      "image/png": "[encoded data removed]",
      "text/plain": [
       "<Figure size 432x288 with 1 Axes>"
      ]
     },
     "metadata": {
      "needs_background": "light"
     },
     "output_type": "display_data"
    }
   ],
   "source": [
    "#Box plot for funds in million.\n",
    "sns.boxplot(y =data['Funding'])"
   ]
  },
  {
   "cell_type": "code",
   "execution_count": 83,
   "metadata": {},
   "outputs": [
    {
     "data": {
      "text/plain": [
       "22.569625"
      ]
     },
     "execution_count": 83,
     "metadata": {},
     "output_type": "execute_result"
    }
   ],
   "source": [
    "#Drop the values that are greater than upper fence.Calculate the Q1,Q3,IQR, the upper fence because we are dropping the values\n",
    "#greater the upper fence. \n",
    "\n",
    "Q1 = data['Funding'].quantile(0.25)\n",
    "Q3 = data['Funding'].quantile(0.75)\n",
    "IQR = Q3 - Q1    #IQR is interquartile range. \n",
    "upper_fence = Q3 + 1.5 * IQR\n",
    "upper_fence"
   ]
  },
  {
   "cell_type": "code",
   "execution_count": 85,
   "metadata": {},
   "outputs": [
    {
     "name": "stdout",
     "output_type": "stream",
     "text": [
      " outlier in the dataset is [29.0, 24.0, 50.9, 40.0, 205.0, 32.5, 182.1, 35.4, 38.0, 37.1, 72.0, 64.0, 1700.0, 34.6, 35.5, 30.1, 26.0, 66.0, 28.3, 103.0, 25.9, 36.5, 44.7, 24.2, 122.4, 34.9, 67.8, 166.1, 42.1, 69.0, 65.1, 25.1, 31.8, 37.0, 38.5, 25.5, 24.0, 278.0, 24.0, 63.0, 25.0, 160.0, 40.0, 47.4, 24.5, 25.0, 332.4, 35.0, 168.8, 28.0, 30.8, 41.8, 142.0, 117.8, 26.0, 28.0, 62.1, 583.6, 223.0, 31.5]\n"
     ]
    }
   ],
   "source": [
    "# Check number of outliers greater than upper fence.\n",
    "outlier =[]\n",
    "for x in data['Funding']:\n",
    "    if(x> upper_fence):\n",
    "        outlier.append(x)\n",
    "print('The outliers are ', outlier)"
   ]
  },
  {
   "cell_type": "code",
   "execution_count": 86,
   "metadata": {},
   "outputs": [
    {
     "data": {
      "text/plain": [
       "(array([  3,  16,  21,  27,  33,  67,  71,  82,  84,  85,  87,  88, 102,\n",
       "        111, 117, 121, 122, 127, 129, 140, 144, 146, 153, 157, 183, 187,\n",
       "        189, 192, 205, 208, 212, 221, 230, 260, 263, 264, 267, 286, 291,\n",
       "        294, 311, 318, 365, 371, 375, 389, 395, 400, 403, 409, 418, 432,\n",
       "        433, 436, 437, 438, 439, 440, 443, 445], dtype=int64),)"
      ]
     },
     "execution_count": 86,
     "metadata": {},
     "output_type": "execute_result"
    }
   ],
   "source": [
    "# Drop the values that are greater than upper fence. Find the array position of the outlier values.\n",
    "upper_position = np.where(data['Funding'] >= (Q3+1.5*IQR))\n",
    "upper_position"
   ]
  },
  {
   "cell_type": "code",
   "execution_count": 88,
   "metadata": {},
   "outputs": [],
   "source": [
    "data = data.reset_index()"
   ]
  },
  {
   "cell_type": "code",
   "execution_count": 89,
   "metadata": {},
   "outputs": [],
   "source": [
    "data.drop(upper_position[0], inplace = True)"
   ]
  },
  {
   "cell_type": "code",
   "execution_count": 90,
   "metadata": {},
   "outputs": [
    {
     "data": {
      "text/plain": [
       "(386, 8)"
      ]
     },
     "execution_count": 90,
     "metadata": {},
     "output_type": "execute_result"
    }
   ],
   "source": [
    "data.shape"
   ]
  },
  {
   "cell_type": "code",
   "execution_count": 91,
   "metadata": {},
   "outputs": [
    {
     "data": {
      "text/plain": [
       "<matplotlib.axes._subplots.AxesSubplot at 0x21c83794508>"
      ]
     },
     "execution_count": 91,
     "metadata": {},
     "output_type": "execute_result"
    },
    {
     "data": {
      "image/png": "[encoded data removed]",
      "text/plain": [
       "<Figure size 432x288 with 1 Axes>"
      ]
     },
     "metadata": {
      "needs_background": "light"
     },
     "output_type": "display_data"
    }
   ],
   "source": [
    "# Plot the box plot after dropping the values\n",
    "sns.boxplot(x=data[\"Funding\"])"
   ]
  },
  {
   "cell_type": "code",
   "execution_count": 92,
   "metadata": {},
   "outputs": [
    {
     "data": {
      "text/plain": [
       "Operating    275\n",
       "Closed        56\n",
       "Acquired      55\n",
       "Name: OperatingState, dtype: int64"
      ]
     },
     "execution_count": 92,
     "metadata": {},
     "output_type": "execute_result"
    }
   ],
   "source": [
    "# Check frequency of the OperatingState features classes\n",
    "data['OperatingState'].value_counts()"
   ]
  },
  {
   "cell_type": "code",
   "execution_count": 96,
   "metadata": {},
   "outputs": [
    {
     "data": {
      "text/plain": [
       "[Text(0.5, 1.0, 'Distribution of Funds in million')]"
      ]
     },
     "execution_count": 96,
     "metadata": {},
     "output_type": "execute_result"
    },
    {
     "data": {
      "image/png": "[encoded data removed]",
      "text/plain": [
       "<Figure size 432x288 with 1 Axes>"
      ]
     },
     "metadata": {
      "needs_background": "light"
     },
     "output_type": "display_data"
    }
   ],
   "source": [
    "#Plot a distribution plot for Funds in million.\n",
    "sns.distplot(data['Funding']).set(title = 'Distribution of Funds in million')"
   ]
  },
  {
   "cell_type": "code",
   "execution_count": 98,
   "metadata": {},
   "outputs": [
    {
     "name": "stderr",
     "output_type": "stream",
     "text": [
      "C:\\Users\\ADMIN\\Anaconda3\\lib\\site-packages\\seaborn\\_decorators.py:43: FutureWarning: Pass the following variable as a keyword arg: x. From version 0.12, the only valid positional argument will be `data`, and passing other arguments without an explicit keyword will result in an error or misinterpretation.\n",
      "  FutureWarning\n"
     ]
    },
    {
     "data": {
      "text/plain": [
       "<matplotlib.axes._subplots.AxesSubplot at 0x21c8533aa88>"
      ]
     },
     "execution_count": 98,
     "metadata": {},
     "output_type": "execute_result"
    },
    {
     "data": {
      "image/png": "[encoded data removed]",
      "text/plain": [
       "<Figure size 432x288 with 1 Axes>"
      ]
     },
     "metadata": {
      "needs_background": "light"
     },
     "output_type": "display_data"
    }
   ],
   "source": [
    "#Plot distribution plots for companies still operating and companies that closed.\n",
    "sns.countplot(data['OperatingState'])"
   ]
  },
  {
   "cell_type": "markdown",
   "metadata": {},
   "source": [
    "# Is there any significant difference between Funds raised by companies that are still operating vs companies that closed down? Write the null hypothesis and alternative hypothesis.Test for significance and conclusion"
   ]
  },
  {
   "cell_type": "code",
   "execution_count": 101,
   "metadata": {},
   "outputs": [
    {
     "name": "stderr",
     "output_type": "stream",
     "text": [
      "C:\\Users\\ADMIN\\Anaconda3\\lib\\site-packages\\seaborn\\categorical.py:1296: UserWarning: 33.8% of the points cannot be placed; you may want to decrease the size of the markers or use stripplot.\n",
      "  warnings.warn(msg, UserWarning)\n"
     ]
    },
    {
     "data": {
      "text/plain": [
       "<matplotlib.axes._subplots.AxesSubplot at 0x21c8518f648>"
      ]
     },
     "execution_count": 101,
     "metadata": {},
     "output_type": "execute_result"
    },
    {
     "data": {
      "image/png": "[encoded data removed]",
      "text/plain": [
       "<Figure size 432x288 with 1 Axes>"
      ]
     },
     "metadata": {
      "needs_background": "light"
     },
     "output_type": "display_data"
    }
   ],
   "source": [
    "#Plot for checking if there is a significant difference between Funds raised by \n",
    "# companies that are still operating vs companies that closed down?\n",
    "sns.swarmplot(x = data['OperatingState'], y = data['Funding'])"
   ]
  },
  {
   "cell_type": "code",
   "execution_count": 102,
   "metadata": {},
   "outputs": [
    {
     "data": {
      "text/plain": [
       "<matplotlib.axes._subplots.AxesSubplot at 0x21c85114988>"
      ]
     },
     "execution_count": 102,
     "metadata": {},
     "output_type": "execute_result"
    },
    {
     "data": {
      "image/png": "[encoded data removed]",
      "text/plain": [
       "<Figure size 432x288 with 1 Axes>"
      ]
     },
     "metadata": {
      "needs_background": "light"
     },
     "output_type": "display_data"
    }
   ],
   "source": [
    "sns.scatterplot(y = data['Funding'], x = data['OperatingState'])"
   ]
  },
  {
   "cell_type": "code",
   "execution_count": 103,
   "metadata": {},
   "outputs": [
    {
     "name": "stderr",
     "output_type": "stream",
     "text": [
      "C:\\Users\\ADMIN\\Anaconda3\\lib\\site-packages\\seaborn\\_decorators.py:43: FutureWarning: Pass the following variables as keyword args: x, y. From version 0.12, the only valid positional argument will be `data`, and passing other arguments without an explicit keyword will result in an error or misinterpretation.\n",
      "  FutureWarning\n"
     ]
    },
    {
     "data": {
      "text/plain": [
       "<matplotlib.axes._subplots.AxesSubplot at 0x21c853efac8>"
      ]
     },
     "execution_count": 103,
     "metadata": {},
     "output_type": "execute_result"
    },
    {
     "data": {
      "image/png": "[encoded data removed]",
      "text/plain": [
       "<Figure size 432x288 with 1 Axes>"
      ]
     },
     "metadata": {
      "needs_background": "light"
     },
     "output_type": "display_data"
    }
   ],
   "source": [
    "sns.boxplot(data['OperatingState'],data['Funding'])"
   ]
  },
  {
   "cell_type": "code",
   "execution_count": null,
   "metadata": {},
   "outputs": [],
   "source": [
    "# Null hypotheses: There is a significant difference between Funds raised by companies \n",
    "# that are still operating vs companies that closed down.\n",
    "#Alternate Hypothese: There is no significant difference between Funds raised by companies \n",
    "# that are still operating vs companies that closed down."
   ]
  },
  {
   "cell_type": "code",
   "execution_count": 104,
   "metadata": {},
   "outputs": [
    {
     "name": "stdout",
     "output_type": "stream",
     "text": [
      "0.1931747168826862\n",
      "Failed to reject Null Hypothesis:There is a significant difference between Funds raised by companies that are still operating vs companies that closed down. :(0.1931747168826862) > 0.05\n"
     ]
    }
   ],
   "source": [
    "# Test for significance and conclusion\n",
    "\n",
    "fund_operating = np.array(data[data['OperatingState']=='Operating'].Funding)\n",
    "fund_closed = np.array(data[data['OperatingState']=='Closed'].Funding)\n",
    "\n",
    "t, p_value  = stats.ttest_ind(fund_operating,fund_closed, axis = 0)\n",
    "print(p_value)\n",
    "\n",
    "if p_value < 0.05: \n",
    "    print(f' Accept the alternate hypothesis:There is no significant difference between Funds raised by companies that are still operating vs companies that closed down. : ({p_value}) < 0.05')\n",
    "else:\n",
    "    print(f'Failed to reject Null Hypothesis:There is a significant difference between Funds raised by companies that are still operating vs companies that closed down. :({p_value}) > 0.05')"
   ]
  },
  {
   "cell_type": "code",
   "execution_count": 105,
   "metadata": {},
   "outputs": [],
   "source": [
    "#Make a copy of the original data frame.\n",
    "data_1 = data.copy()"
   ]
  },
  {
   "cell_type": "code",
   "execution_count": 107,
   "metadata": {},
   "outputs": [
    {
     "data": {
      "text/plain": [
       "Contestant         282\n",
       "Finalist            52\n",
       "Audience choice     20\n",
       "Winner              17\n",
       "Runner up           15\n",
       "Name: Result, dtype: int64"
      ]
     },
     "execution_count": 107,
     "metadata": {},
     "output_type": "execute_result"
    }
   ],
   "source": [
    "#Check frequency distribution of Result variable\n",
    "data_1['Result'].value_counts()"
   ]
  },
  {
   "cell_type": "markdown",
   "metadata": {},
   "source": [
    "# hypothesis comparing the proportion of companies that are operating between winners and contestants: Write the null hypothesis and alternative hypothesis.Test for significance and conclusion"
   ]
  },
  {
   "cell_type": "code",
   "execution_count": 108,
   "metadata": {},
   "outputs": [
    {
     "data": {
      "text/plain": [
       "Contestant         73.056995\n",
       "Finalist           13.471503\n",
       "Audience choice     5.181347\n",
       "Winner              4.404145\n",
       "Runner up           3.886010\n",
       "Name: Result, dtype: float64"
      ]
     },
     "execution_count": 108,
     "metadata": {},
     "output_type": "execute_result"
    }
   ],
   "source": [
    "# Calculate percentage of winners that are still operating and percentage of contestants that are still operating.\n",
    "(data['Result'].value_counts()/data['Result'].count())*100"
   ]
  },
  {
   "cell_type": "code",
   "execution_count": 109,
   "metadata": {},
   "outputs": [
    {
     "name": "stderr",
     "output_type": "stream",
     "text": [
      "C:\\Users\\ADMIN\\Anaconda3\\lib\\site-packages\\seaborn\\_decorators.py:43: FutureWarning: Pass the following variable as a keyword arg: x. From version 0.12, the only valid positional argument will be `data`, and passing other arguments without an explicit keyword will result in an error or misinterpretation.\n",
      "  FutureWarning\n"
     ]
    },
    {
     "data": {
      "text/plain": [
       "<matplotlib.axes._subplots.AxesSubplot at 0x21c85491088>"
      ]
     },
     "execution_count": 109,
     "metadata": {},
     "output_type": "execute_result"
    },
    {
     "data": {
      "image/png": "[encoded data removed]",
      "text/plain": [
       "<Figure size 432x288 with 1 Axes>"
      ]
     },
     "metadata": {
      "needs_background": "light"
     },
     "output_type": "display_data"
    }
   ],
   "source": [
    "sns.countplot(data_1['OperatingState'], hue = data_1['Result'])"
   ]
  },
  {
   "cell_type": "code",
   "execution_count": null,
   "metadata": {},
   "outputs": [],
   "source": [
    "# Null hypotheses: There is a significant difference between companies that are operating between winners and contestants\n",
    "#Alternate Hypothese: There is no significant difference between companies that are operating between winners and contestants"
   ]
  },
  {
   "cell_type": "code",
   "execution_count": 110,
   "metadata": {},
   "outputs": [
    {
     "name": "stdout",
     "output_type": "stream",
     "text": [
      "Accept the alternate hypothesis:There is no significant difference between companies that are operating between winners and contestants(0.033) < 0.05\n"
     ]
    },
    {
     "data": {
      "text/html": [
       "<div>\n",
       "<style scoped>\n",
       "    .dataframe tbody tr th:only-of-type {\n",
       "        vertical-align: middle;\n",
       "    }\n",
       "\n",
       "    .dataframe tbody tr th {\n",
       "        vertical-align: top;\n",
       "    }\n",
       "\n",
       "    .dataframe thead th {\n",
       "        text-align: right;\n",
       "    }\n",
       "</style>\n",
       "<table border=\"1\" class=\"dataframe\">\n",
       "  <thead>\n",
       "    <tr style=\"text-align: right;\">\n",
       "      <th>Result</th>\n",
       "      <th>Audience choice</th>\n",
       "      <th>Contestant</th>\n",
       "      <th>Finalist</th>\n",
       "      <th>Runner up</th>\n",
       "      <th>Winner</th>\n",
       "    </tr>\n",
       "    <tr>\n",
       "      <th>OperatingState</th>\n",
       "      <th></th>\n",
       "      <th></th>\n",
       "      <th></th>\n",
       "      <th></th>\n",
       "      <th></th>\n",
       "    </tr>\n",
       "  </thead>\n",
       "  <tbody>\n",
       "    <tr>\n",
       "      <td>Acquired</td>\n",
       "      <td>0</td>\n",
       "      <td>39</td>\n",
       "      <td>10</td>\n",
       "      <td>1</td>\n",
       "      <td>5</td>\n",
       "    </tr>\n",
       "    <tr>\n",
       "      <td>Closed</td>\n",
       "      <td>2</td>\n",
       "      <td>49</td>\n",
       "      <td>5</td>\n",
       "      <td>0</td>\n",
       "      <td>0</td>\n",
       "    </tr>\n",
       "    <tr>\n",
       "      <td>Operating</td>\n",
       "      <td>18</td>\n",
       "      <td>194</td>\n",
       "      <td>37</td>\n",
       "      <td>14</td>\n",
       "      <td>12</td>\n",
       "    </tr>\n",
       "  </tbody>\n",
       "</table>\n",
       "</div>"
      ],
      "text/plain": [
       "Result          Audience choice  Contestant  Finalist  Runner up  Winner\n",
       "OperatingState                                                          \n",
       "Acquired                      0          39        10          1       5\n",
       "Closed                        2          49         5          0       0\n",
       "Operating                    18         194        37         14      12"
      ]
     },
     "execution_count": 110,
     "metadata": {},
     "output_type": "execute_result"
    }
   ],
   "source": [
    "crosstab = pd.crosstab(data_1['OperatingState'],data_1['Result']) \n",
    "chi, p_value, dof, expected =  stats.chi2_contingency(crosstab)\n",
    "\n",
    "if p_value < 0.05: \n",
    "    print(f'Accept the alternate hypothesis:There is no significant difference between companies that are operating between winners and contestants({p_value.round(3)}) < 0.05')\n",
    "else:\n",
    "    print(f'Null hypotheses: There is a significant difference between companies that are operating between winners and contestants ({p_value.round(3)}) > 0.05')\n",
    "crosstab"
   ]
  },
  {
   "cell_type": "code",
   "execution_count": 111,
   "metadata": {},
   "outputs": [
    {
     "data": {
      "text/plain": [
       "TC50 2008                    25\n",
       "TC40 2007                    22\n",
       "Disrupt NY 2015              21\n",
       "Disrupt NYC 2013             19\n",
       "Disrupt SF 2015              19\n",
       "TC50 2009                    19\n",
       "Disrupt NYC 2012             19\n",
       "Disrupt SF 2014              19\n",
       "Disrupt SF 2011              19\n",
       "Disrupt SF 2013              19\n",
       "Disrupt SF 2016              17\n",
       "Disrupt NY 2016              16\n",
       "Disrupt NYC 2011             15\n",
       "Disrupt NYC 2014             15\n",
       "Disrupt SF 2012              15\n",
       "Disrupt SF 2010              13\n",
       "Hardware Battlefield 2016    12\n",
       "Hardware Battlefield 2014    12\n",
       "Disrupt London 2015          11\n",
       "Disrupt EU 2014              10\n",
       "Disrupt London 2016          10\n",
       "Hardware Battlefield 2015    10\n",
       "Disrupt NYC 2010             10\n",
       "Disrupt EU 2013               9\n",
       "-                             6\n",
       "Disrupt Beijing 2011          4\n",
       "Name: Event, dtype: int64"
      ]
     },
     "execution_count": 111,
     "metadata": {},
     "output_type": "execute_result"
    }
   ],
   "source": [
    "#Check distribution of Event variable\n",
    "data_1['Event'].value_counts()"
   ]
  },
  {
   "cell_type": "code",
   "execution_count": 122,
   "metadata": {},
   "outputs": [
    {
     "name": "stderr",
     "output_type": "stream",
     "text": [
      "C:\\Users\\ADMIN\\Anaconda3\\lib\\site-packages\\seaborn\\_decorators.py:43: FutureWarning: Pass the following variable as a keyword arg: x. From version 0.12, the only valid positional argument will be `data`, and passing other arguments without an explicit keyword will result in an error or misinterpretation.\n",
      "  FutureWarning\n"
     ]
    },
    {
     "data": {
      "text/plain": [
       "<matplotlib.axes._subplots.AxesSubplot at 0x21c853e9e88>"
      ]
     },
     "execution_count": 122,
     "metadata": {},
     "output_type": "execute_result"
    },
    {
     "data": {
      "image/png": "[encoded data removed]",
      "text/plain": [
       "<Figure size 432x288 with 1 Axes>"
      ]
     },
     "metadata": {
      "needs_background": "light"
     },
     "output_type": "display_data"
    }
   ],
   "source": [
    "sns.countplot(data_1['Event'])"
   ]
  },
  {
   "cell_type": "code",
   "execution_count": 112,
   "metadata": {},
   "outputs": [],
   "source": [
    "# Select only the Event that has disrupt keyword from 2013 onwards.\n",
    "data_2 = data_1[data_1.Event.str.contains('Disrupt',case=False)]"
   ]
  },
  {
   "cell_type": "code",
   "execution_count": 113,
   "metadata": {},
   "outputs": [
    {
     "data": {
      "text/html": [
       "<div>\n",
       "<style scoped>\n",
       "    .dataframe tbody tr th:only-of-type {\n",
       "        vertical-align: middle;\n",
       "    }\n",
       "\n",
       "    .dataframe tbody tr th {\n",
       "        vertical-align: top;\n",
       "    }\n",
       "\n",
       "    .dataframe thead th {\n",
       "        text-align: right;\n",
       "    }\n",
       "</style>\n",
       "<table border=\"1\" class=\"dataframe\">\n",
       "  <thead>\n",
       "    <tr style=\"text-align: right;\">\n",
       "      <th></th>\n",
       "      <th>level_0</th>\n",
       "      <th>index</th>\n",
       "      <th>Startup</th>\n",
       "      <th>Product</th>\n",
       "      <th>Funding</th>\n",
       "      <th>Event</th>\n",
       "      <th>Result</th>\n",
       "      <th>OperatingState</th>\n",
       "    </tr>\n",
       "  </thead>\n",
       "  <tbody>\n",
       "    <tr>\n",
       "      <td>0</td>\n",
       "      <td>0</td>\n",
       "      <td>1</td>\n",
       "      <td>3DLT</td>\n",
       "      <td>3dlt.com</td>\n",
       "      <td>0.63</td>\n",
       "      <td>Disrupt NYC 2013</td>\n",
       "      <td>Contestant</td>\n",
       "      <td>Closed</td>\n",
       "    </tr>\n",
       "    <tr>\n",
       "      <td>1</td>\n",
       "      <td>1</td>\n",
       "      <td>3</td>\n",
       "      <td>3Dprintler</td>\n",
       "      <td>3dprintler.com</td>\n",
       "      <td>1.00</td>\n",
       "      <td>Disrupt NY 2016</td>\n",
       "      <td>Audience choice</td>\n",
       "      <td>Operating</td>\n",
       "    </tr>\n",
       "    <tr>\n",
       "      <td>6</td>\n",
       "      <td>6</td>\n",
       "      <td>13</td>\n",
       "      <td>Agrilyst</td>\n",
       "      <td>agrilyst.com</td>\n",
       "      <td>1.00</td>\n",
       "      <td>Disrupt SF 2015</td>\n",
       "      <td>Winner</td>\n",
       "      <td>Operating</td>\n",
       "    </tr>\n",
       "    <tr>\n",
       "      <td>7</td>\n",
       "      <td>7</td>\n",
       "      <td>14</td>\n",
       "      <td>Aiden</td>\n",
       "      <td>aiden.ai</td>\n",
       "      <td>0.75</td>\n",
       "      <td>Disrupt London 2016</td>\n",
       "      <td>Contestant</td>\n",
       "      <td>Operating</td>\n",
       "    </tr>\n",
       "    <tr>\n",
       "      <td>9</td>\n",
       "      <td>9</td>\n",
       "      <td>16</td>\n",
       "      <td>Aircall</td>\n",
       "      <td>aircall.io</td>\n",
       "      <td>11.60</td>\n",
       "      <td>Disrupt SF 2015</td>\n",
       "      <td>Contestant</td>\n",
       "      <td>Operating</td>\n",
       "    </tr>\n",
       "  </tbody>\n",
       "</table>\n",
       "</div>"
      ],
      "text/plain": [
       "   level_0  index     Startup         Product  Funding                Event  \\\n",
       "0        0      1        3DLT        3dlt.com     0.63     Disrupt NYC 2013   \n",
       "1        1      3  3Dprintler  3dprintler.com     1.00      Disrupt NY 2016   \n",
       "6        6     13    Agrilyst    agrilyst.com     1.00      Disrupt SF 2015   \n",
       "7        7     14       Aiden        aiden.ai     0.75  Disrupt London 2016   \n",
       "9        9     16     Aircall      aircall.io    11.60      Disrupt SF 2015   \n",
       "\n",
       "            Result OperatingState  \n",
       "0       Contestant         Closed  \n",
       "1  Audience choice      Operating  \n",
       "6           Winner      Operating  \n",
       "7       Contestant      Operating  \n",
       "9       Contestant      Operating  "
      ]
     },
     "execution_count": 113,
     "metadata": {},
     "output_type": "execute_result"
    }
   ],
   "source": [
    "data_2.head()"
   ]
  },
  {
   "cell_type": "code",
   "execution_count": 114,
   "metadata": {},
   "outputs": [
    {
     "name": "stderr",
     "output_type": "stream",
     "text": [
      "C:\\Users\\ADMIN\\Anaconda3\\lib\\site-packages\\ipykernel_launcher.py:1: SettingWithCopyWarning: \n",
      "A value is trying to be set on a copy of a slice from a DataFrame.\n",
      "Try using .loc[row_indexer,col_indexer] = value instead\n",
      "\n",
      "See the caveats in the documentation: http://pandas.pydata.org/pandas-docs/stable/user_guide/indexing.html#returning-a-view-versus-a-copy\n",
      "  \"\"\"Entry point for launching an IPython kernel.\n"
     ]
    }
   ],
   "source": [
    "data_2['Year'] = data_2['Event'].str.replace('[a-zA-Z]+', '')"
   ]
  },
  {
   "cell_type": "code",
   "execution_count": 116,
   "metadata": {},
   "outputs": [
    {
     "data": {
      "text/html": [
       "<div>\n",
       "<style scoped>\n",
       "    .dataframe tbody tr th:only-of-type {\n",
       "        vertical-align: middle;\n",
       "    }\n",
       "\n",
       "    .dataframe tbody tr th {\n",
       "        vertical-align: top;\n",
       "    }\n",
       "\n",
       "    .dataframe thead th {\n",
       "        text-align: right;\n",
       "    }\n",
       "</style>\n",
       "<table border=\"1\" class=\"dataframe\">\n",
       "  <thead>\n",
       "    <tr style=\"text-align: right;\">\n",
       "      <th></th>\n",
       "      <th>level_0</th>\n",
       "      <th>index</th>\n",
       "      <th>Startup</th>\n",
       "      <th>Product</th>\n",
       "      <th>Funding</th>\n",
       "      <th>Event</th>\n",
       "      <th>Result</th>\n",
       "      <th>OperatingState</th>\n",
       "      <th>Year</th>\n",
       "    </tr>\n",
       "  </thead>\n",
       "  <tbody>\n",
       "    <tr>\n",
       "      <td>0</td>\n",
       "      <td>0</td>\n",
       "      <td>1</td>\n",
       "      <td>3DLT</td>\n",
       "      <td>3dlt.com</td>\n",
       "      <td>0.63</td>\n",
       "      <td>Disrupt NYC 2013</td>\n",
       "      <td>Contestant</td>\n",
       "      <td>Closed</td>\n",
       "      <td>2013</td>\n",
       "    </tr>\n",
       "    <tr>\n",
       "      <td>1</td>\n",
       "      <td>1</td>\n",
       "      <td>3</td>\n",
       "      <td>3Dprintler</td>\n",
       "      <td>3dprintler.com</td>\n",
       "      <td>1.00</td>\n",
       "      <td>Disrupt NY 2016</td>\n",
       "      <td>Audience choice</td>\n",
       "      <td>Operating</td>\n",
       "      <td>2016</td>\n",
       "    </tr>\n",
       "    <tr>\n",
       "      <td>6</td>\n",
       "      <td>6</td>\n",
       "      <td>13</td>\n",
       "      <td>Agrilyst</td>\n",
       "      <td>agrilyst.com</td>\n",
       "      <td>1.00</td>\n",
       "      <td>Disrupt SF 2015</td>\n",
       "      <td>Winner</td>\n",
       "      <td>Operating</td>\n",
       "      <td>2015</td>\n",
       "    </tr>\n",
       "  </tbody>\n",
       "</table>\n",
       "</div>"
      ],
      "text/plain": [
       "   level_0  index     Startup         Product  Funding             Event  \\\n",
       "0        0      1        3DLT        3dlt.com     0.63  Disrupt NYC 2013   \n",
       "1        1      3  3Dprintler  3dprintler.com     1.00   Disrupt NY 2016   \n",
       "6        6     13    Agrilyst    agrilyst.com     1.00   Disrupt SF 2015   \n",
       "\n",
       "            Result OperatingState    Year  \n",
       "0       Contestant         Closed    2013  \n",
       "1  Audience choice      Operating    2016  \n",
       "6           Winner      Operating    2015  "
      ]
     },
     "execution_count": 116,
     "metadata": {},
     "output_type": "execute_result"
    }
   ],
   "source": [
    "data_2.head(3)"
   ]
  },
  {
   "cell_type": "code",
   "execution_count": 120,
   "metadata": {},
   "outputs": [
    {
     "name": "stdout",
     "output_type": "stream",
     "text": [
      "level_0             int64\n",
      "index               int64\n",
      "Startup            object\n",
      "Product            object\n",
      "Funding           float64\n",
      "Event              object\n",
      "Result             object\n",
      "OperatingState     object\n",
      "Year                int64\n",
      "dtype: object\n"
     ]
    },
    {
     "name": "stderr",
     "output_type": "stream",
     "text": [
      "C:\\Users\\ADMIN\\Anaconda3\\lib\\site-packages\\ipykernel_launcher.py:2: SettingWithCopyWarning: \n",
      "A value is trying to be set on a copy of a slice from a DataFrame.\n",
      "Try using .loc[row_indexer,col_indexer] = value instead\n",
      "\n",
      "See the caveats in the documentation: http://pandas.pydata.org/pandas-docs/stable/user_guide/indexing.html#returning-a-view-versus-a-copy\n",
      "  \n"
     ]
    }
   ],
   "source": [
    "print(data_2.dtypes)\n",
    "data_2['Year'] = data_2['Year'].astype('int64')"
   ]
  },
  {
   "cell_type": "code",
   "execution_count": 123,
   "metadata": {},
   "outputs": [],
   "source": [
    "data_3 = data_2[data_2.Year >= 2013]\n",
    "data_3.head()"
   ]
  },
  {
   "cell_type": "code",
   "execution_count": 135,
   "metadata": {},
   "outputs": [
    {
     "name": "stderr",
     "output_type": "stream",
     "text": [
      "C:\\Users\\ADMIN\\Anaconda3\\lib\\site-packages\\seaborn\\_decorators.py:43: FutureWarning: Pass the following variables as keyword args: x, y. From version 0.12, the only valid positional argument will be `data`, and passing other arguments without an explicit keyword will result in an error or misinterpretation.\n",
      "  FutureWarning\n"
     ]
    },
    {
     "data": {
      "text/plain": [
       "<matplotlib.axes._subplots.AxesSubplot at 0x21c85a70688>"
      ]
     },
     "execution_count": 135,
     "metadata": {},
     "output_type": "execute_result"
    },
    {
     "data": {
      "image/png": "[encoded data removed]",
      "text/plain": [
       "<Figure size 432x288 with 1 Axes>"
      ]
     },
     "metadata": {
      "needs_background": "light"
     },
     "output_type": "display_data"
    }
   ],
   "source": [
    "sns.boxplot(data_3['Funding'],data_3['Event'])"
   ]
  },
  {
   "cell_type": "code",
   "execution_count": null,
   "metadata": {},
   "outputs": [],
   "source": [
    "# Null hypotheses: There is a significant difference between the funds raised by companies across \n",
    "# NY, SF and EU events from 2013 onwards.\n",
    "#Alternate Hypothese: There is no significant difference between the funds raised by companies across \n",
    "# NY, SF and EU events from 2013 onwards."
   ]
  },
  {
   "cell_type": "code",
   "execution_count": 127,
   "metadata": {},
   "outputs": [],
   "source": [
    "EU_2013= data_3[data_3.Event == 'Disrupt EU 2013']['Funding']\n",
    "SF_2013= data_3[data_3.Event == 'Disrupt SF 2013']['Funding']\n",
    "EU_2014= data_3[data_3.Event == 'Disrupt EU 2014']['Funding']\n",
    "SF_2014= data_3[data_3.Event == 'Disrupt SF 2014']['Funding']\n",
    "NY_2015= data_3[data_3.Event == 'Disrupt NY 2015']['Funding']\n",
    "SF_2015= data_3[data_3.Event == 'Disrupt SF 2015']['Funding']\n",
    "NY_2016= data_3[data_3.Event == 'Disrupt NY 2016']['Funding']\n",
    "SF_2016= data_3[data_3.Event == 'Disrupt SF 2016']['Funding']"
   ]
  },
  {
   "cell_type": "code",
   "execution_count": 136,
   "metadata": {},
   "outputs": [
    {
     "name": "stdout",
     "output_type": "stream",
     "text": [
      "There is a significant difference between the funds raised by companies across NY, SF and EU events from 2013 onwards. (0.344) > 0.05\n"
     ]
    }
   ],
   "source": [
    "f_stat, p_value = stats.f_oneway(EU_2013,SF_2013,EU_2014,SF_2014,NY_2015,SF_2015,NY_2016,SF_2016)\n",
    "if p_value < 0.05:\n",
    "    print(f'There is no significant difference between the funds raised by companies across NY, SF and EU events from 2013 onwards.({p_value.round(3)}) < 0.05')\n",
    "else:\n",
    "    print(f'There is a significant difference between the funds raised by companies across NY, SF and EU events from 2013 onwards. ({p_value.round(3)}) > 0.05')"
   ]
  },
  {
   "cell_type": "code",
   "execution_count": 233,
   "metadata": {},
   "outputs": [
    {
     "name": "stderr",
     "output_type": "stream",
     "text": [
      "C:\\Users\\ADMIN\\Anaconda3\\lib\\site-packages\\seaborn\\_decorators.py:43: FutureWarning: Pass the following variables as keyword args: x, y. From version 0.12, the only valid positional argument will be `data`, and passing other arguments without an explicit keyword will result in an error or misinterpretation.\n",
      "  FutureWarning\n"
     ]
    },
    {
     "data": {
      "text/plain": [
       "<matplotlib.axes._subplots.AxesSubplot at 0x21c893906c8>"
      ]
     },
     "execution_count": 233,
     "metadata": {},
     "output_type": "execute_result"
    },
    {
     "data": {
      "image/png": "[encoded data removed]",
      "text/plain": [
       "<Figure size 432x288 with 1 Axes>"
      ]
     },
     "metadata": {
      "needs_background": "light"
     },
     "output_type": "display_data"
    }
   ],
   "source": [
    "sns.scatterplot(data_3['Funding'],data_3['Event'])"
   ]
  },
  {
   "cell_type": "code",
   "execution_count": null,
   "metadata": {},
   "outputs": [],
   "source": []
  }
 ],
 "metadata": {
  "kernelspec": {
   "display_name": "Python 3 (ipykernel)",
   "language": "python",
   "name": "python3"
  },
  "language_info": {
   "codemirror_mode": {
    "name": "ipython",
    "version": 3
   },
   "file_extension": ".py",
   "mimetype": "text/x-python",
   "name": "python",
   "nbconvert_exporter": "python",
   "pygments_lexer": "ipython3",
   "version": "3.9.7"
  }
 },
 "nbformat": 4,
 "nbformat_minor": 2
}
