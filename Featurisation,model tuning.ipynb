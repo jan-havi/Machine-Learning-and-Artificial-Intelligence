{
 "cells": [
  {
   "cell_type": "markdown",
   "metadata": {},
   "source": [
    "# Import and explore the data."
   ]
  },
  {
   "cell_type": "code",
   "execution_count": 1,
   "metadata": {},
   "outputs": [],
   "source": [
    "#Loading the required packages\n",
    "import pandas as pd\n",
    "import numpy as np\n",
    "import matplotlib.pyplot as plt\n",
    "import seaborn as sns\n",
    "from collinearity import SelectNonCollinear\n",
    "from scipy.stats import zscore\n",
    "from sklearn.decomposition import PCA\n",
    "from sklearn.model_selection import train_test_split\n",
    "from sklearn.svm import SVC\n",
    "from sklearn.metrics import confusion_matrix, classification_report,accuracy_score\n",
    "from sklearn.metrics import precision_recall_fscore_support\n",
    "from sklearn.metrics import confusion_matrix\n",
    "from sklearn import metrics\n",
    "%matplotlib inline\n",
    "sns.set(color_codes=True)\n",
    "import warnings\n",
    "warnings.filterwarnings('ignore')\n",
    "from sklearn.feature_selection import VarianceThreshold\n",
    "from sklearn.preprocessing import Normalizer"
   ]
  },
  {
   "cell_type": "code",
   "execution_count": 2,
   "metadata": {},
   "outputs": [],
   "source": [
    "#Import the datasets\n",
    "data_1= pd.read_csv('signal-data.csv')"
   ]
  },
  {
   "cell_type": "code",
   "execution_count": 3,
   "metadata": {},
   "outputs": [
    {
     "data": {
      "text/html": [
       "<div>\n",
       "<style scoped>\n",
       "    .dataframe tbody tr th:only-of-type {\n",
       "        vertical-align: middle;\n",
       "    }\n",
       "\n",
       "    .dataframe tbody tr th {\n",
       "        vertical-align: top;\n",
       "    }\n",
       "\n",
       "    .dataframe thead th {\n",
       "        text-align: right;\n",
       "    }\n",
       "</style>\n",
       "<table border=\"1\" class=\"dataframe\">\n",
       "  <thead>\n",
       "    <tr style=\"text-align: right;\">\n",
       "      <th></th>\n",
       "      <th>Time</th>\n",
       "      <th>0</th>\n",
       "      <th>1</th>\n",
       "      <th>2</th>\n",
       "      <th>3</th>\n",
       "      <th>4</th>\n",
       "      <th>5</th>\n",
       "      <th>6</th>\n",
       "      <th>7</th>\n",
       "      <th>8</th>\n",
       "      <th>...</th>\n",
       "      <th>581</th>\n",
       "      <th>582</th>\n",
       "      <th>583</th>\n",
       "      <th>584</th>\n",
       "      <th>585</th>\n",
       "      <th>586</th>\n",
       "      <th>587</th>\n",
       "      <th>588</th>\n",
       "      <th>589</th>\n",
       "      <th>Pass/Fail</th>\n",
       "    </tr>\n",
       "  </thead>\n",
       "  <tbody>\n",
       "    <tr>\n",
       "      <th>0</th>\n",
       "      <td>2008-07-19 11:55:00</td>\n",
       "      <td>3030.93</td>\n",
       "      <td>2564.00</td>\n",
       "      <td>2187.7333</td>\n",
       "      <td>1411.1265</td>\n",
       "      <td>1.3602</td>\n",
       "      <td>100.0</td>\n",
       "      <td>97.6133</td>\n",
       "      <td>0.1242</td>\n",
       "      <td>1.5005</td>\n",
       "      <td>...</td>\n",
       "      <td>NaN</td>\n",
       "      <td>0.5005</td>\n",
       "      <td>0.0118</td>\n",
       "      <td>0.0035</td>\n",
       "      <td>2.3630</td>\n",
       "      <td>NaN</td>\n",
       "      <td>NaN</td>\n",
       "      <td>NaN</td>\n",
       "      <td>NaN</td>\n",
       "      <td>-1</td>\n",
       "    </tr>\n",
       "    <tr>\n",
       "      <th>1</th>\n",
       "      <td>2008-07-19 12:32:00</td>\n",
       "      <td>3095.78</td>\n",
       "      <td>2465.14</td>\n",
       "      <td>2230.4222</td>\n",
       "      <td>1463.6606</td>\n",
       "      <td>0.8294</td>\n",
       "      <td>100.0</td>\n",
       "      <td>102.3433</td>\n",
       "      <td>0.1247</td>\n",
       "      <td>1.4966</td>\n",
       "      <td>...</td>\n",
       "      <td>208.2045</td>\n",
       "      <td>0.5019</td>\n",
       "      <td>0.0223</td>\n",
       "      <td>0.0055</td>\n",
       "      <td>4.4447</td>\n",
       "      <td>0.0096</td>\n",
       "      <td>0.0201</td>\n",
       "      <td>0.006</td>\n",
       "      <td>208.2045</td>\n",
       "      <td>-1</td>\n",
       "    </tr>\n",
       "  </tbody>\n",
       "</table>\n",
       "<p>2 rows × 592 columns</p>\n",
       "</div>"
      ],
      "text/plain": [
       "                  Time        0        1          2          3       4      5  \\\n",
       "0  2008-07-19 11:55:00  3030.93  2564.00  2187.7333  1411.1265  1.3602  100.0   \n",
       "1  2008-07-19 12:32:00  3095.78  2465.14  2230.4222  1463.6606  0.8294  100.0   \n",
       "\n",
       "          6       7       8  ...       581     582     583     584     585  \\\n",
       "0   97.6133  0.1242  1.5005  ...       NaN  0.5005  0.0118  0.0035  2.3630   \n",
       "1  102.3433  0.1247  1.4966  ...  208.2045  0.5019  0.0223  0.0055  4.4447   \n",
       "\n",
       "      586     587    588       589  Pass/Fail  \n",
       "0     NaN     NaN    NaN       NaN         -1  \n",
       "1  0.0096  0.0201  0.006  208.2045         -1  \n",
       "\n",
       "[2 rows x 592 columns]"
      ]
     },
     "execution_count": 3,
     "metadata": {},
     "output_type": "execute_result"
    }
   ],
   "source": [
    "#Printing the first 2 rows of the dataset.\n",
    "data_1.head(2)"
   ]
  },
  {
   "cell_type": "code",
   "execution_count": 4,
   "metadata": {},
   "outputs": [
    {
     "data": {
      "text/plain": [
       "(1567, 592)"
      ]
     },
     "execution_count": 4,
     "metadata": {},
     "output_type": "execute_result"
    }
   ],
   "source": [
    "data_1.shape"
   ]
  },
  {
   "cell_type": "markdown",
   "metadata": {},
   "source": [
    "### There are a total of 1567 rows and 592 columns."
   ]
  },
  {
   "cell_type": "markdown",
   "metadata": {},
   "source": [
    "# Data cleansing"
   ]
  },
  {
   "cell_type": "code",
   "execution_count": 5,
   "metadata": {},
   "outputs": [
    {
     "data": {
      "text/plain": [
       "True"
      ]
     },
     "execution_count": 5,
     "metadata": {},
     "output_type": "execute_result"
    }
   ],
   "source": [
    "#We will now find out the total number of null values.\n",
    "data_1.isnull().any().any()"
   ]
  },
  {
   "cell_type": "markdown",
   "metadata": {},
   "source": [
    "#### True denotes that there missing values."
   ]
  },
  {
   "cell_type": "code",
   "execution_count": 6,
   "metadata": {},
   "outputs": [],
   "source": [
    "data_1 = data_1.replace('',np.nan)"
   ]
  },
  {
   "cell_type": "code",
   "execution_count": 7,
   "metadata": {},
   "outputs": [
    {
     "data": {
      "text/plain": [
       "Time          0\n",
       "0             6\n",
       "1             7\n",
       "2            14\n",
       "3            14\n",
       "             ..\n",
       "586           1\n",
       "587           1\n",
       "588           1\n",
       "589           1\n",
       "Pass/Fail     0\n",
       "Length: 592, dtype: int64"
      ]
     },
     "execution_count": 7,
     "metadata": {},
     "output_type": "execute_result"
    }
   ],
   "source": [
    "data_1.isna().sum()"
   ]
  },
  {
   "cell_type": "code",
   "execution_count": 8,
   "metadata": {},
   "outputs": [
    {
     "data": {
      "image/png": "[encoded data removed]",
      "text/plain": [
       "<Figure size 1080x504 with 1 Axes>"
      ]
     },
     "metadata": {
      "needs_background": "light"
     },
     "output_type": "display_data"
    }
   ],
   "source": [
    "#We will plot to see the number of missing data before filling them with mean. The missing values above 40% threshold \n",
    "# will be removed\n",
    "miss=data_1.isna().sum()\n",
    "fig = plt.subplots(figsize=(15,7))\n",
    "\n",
    "plt.bar(np.arange(1, miss.sort_values(ascending=True).nunique()+1,1),\n",
    "       miss.sort_values(ascending=True).unique())\n",
    "plt.xticks(np.arange(1, miss.sort_values(ascending=True).nunique()+1,1));"
   ]
  },
  {
   "cell_type": "code",
   "execution_count": 9,
   "metadata": {},
   "outputs": [],
   "source": [
    "#We will now remove same values displayed throughout the column.\n",
    "data_1.drop(['5','13','42','49','52','69','97','141',\n",
    "             '149','178','179','186','189','190','191','192',\n",
    "             '193','194','226','229','230','231','232','233',\n",
    "             '234','235','236','237','240','241','242','243',\n",
    "             '256','257','258','259','260','261','262','263',\n",
    "             '264','265','266','276','284','313','314','315',\n",
    "             '322','325','326','327','328','329','330','364',\n",
    "             '369','370','371','372','373','374','375','378',\n",
    "             '379','380','381','394','395','396','397','398',\n",
    "             '399','400','401','402','403','404','414','422',\n",
    "             '449','450','451','458','461','462','463','464',\n",
    "             '465','466','481','498','501','502','503','504',\n",
    "             '505','506','507','508','509','512','513','514',\n",
    "             '515','528','529','530','531','532','533','534',\n",
    "             '535','536','537','538'],axis=1,inplace=True)"
   ]
  },
  {
   "cell_type": "code",
   "execution_count": 10,
   "metadata": {},
   "outputs": [
    {
     "data": {
      "text/html": [
       "<div>\n",
       "<style scoped>\n",
       "    .dataframe tbody tr th:only-of-type {\n",
       "        vertical-align: middle;\n",
       "    }\n",
       "\n",
       "    .dataframe tbody tr th {\n",
       "        vertical-align: top;\n",
       "    }\n",
       "\n",
       "    .dataframe thead th {\n",
       "        text-align: right;\n",
       "    }\n",
       "</style>\n",
       "<table border=\"1\" class=\"dataframe\">\n",
       "  <thead>\n",
       "    <tr style=\"text-align: right;\">\n",
       "      <th></th>\n",
       "      <th>Time</th>\n",
       "      <th>0</th>\n",
       "      <th>1</th>\n",
       "      <th>2</th>\n",
       "      <th>3</th>\n",
       "      <th>4</th>\n",
       "      <th>6</th>\n",
       "      <th>7</th>\n",
       "      <th>8</th>\n",
       "      <th>9</th>\n",
       "      <th>...</th>\n",
       "      <th>577</th>\n",
       "      <th>582</th>\n",
       "      <th>583</th>\n",
       "      <th>584</th>\n",
       "      <th>585</th>\n",
       "      <th>586</th>\n",
       "      <th>587</th>\n",
       "      <th>588</th>\n",
       "      <th>589</th>\n",
       "      <th>Pass/Fail</th>\n",
       "    </tr>\n",
       "  </thead>\n",
       "  <tbody>\n",
       "    <tr>\n",
       "      <th>0</th>\n",
       "      <td>2008-07-19 11:55:00</td>\n",
       "      <td>3030.93</td>\n",
       "      <td>2564.00</td>\n",
       "      <td>2187.7333</td>\n",
       "      <td>1411.1265</td>\n",
       "      <td>1.3602</td>\n",
       "      <td>97.6133</td>\n",
       "      <td>0.1242</td>\n",
       "      <td>1.5005</td>\n",
       "      <td>0.0162</td>\n",
       "      <td>...</td>\n",
       "      <td>14.9509</td>\n",
       "      <td>0.5005</td>\n",
       "      <td>0.0118</td>\n",
       "      <td>0.0035</td>\n",
       "      <td>2.3630</td>\n",
       "      <td>NaN</td>\n",
       "      <td>NaN</td>\n",
       "      <td>NaN</td>\n",
       "      <td>NaN</td>\n",
       "      <td>-1</td>\n",
       "    </tr>\n",
       "    <tr>\n",
       "      <th>1</th>\n",
       "      <td>2008-07-19 12:32:00</td>\n",
       "      <td>3095.78</td>\n",
       "      <td>2465.14</td>\n",
       "      <td>2230.4222</td>\n",
       "      <td>1463.6606</td>\n",
       "      <td>0.8294</td>\n",
       "      <td>102.3433</td>\n",
       "      <td>0.1247</td>\n",
       "      <td>1.4966</td>\n",
       "      <td>-0.0005</td>\n",
       "      <td>...</td>\n",
       "      <td>10.9003</td>\n",
       "      <td>0.5019</td>\n",
       "      <td>0.0223</td>\n",
       "      <td>0.0055</td>\n",
       "      <td>4.4447</td>\n",
       "      <td>0.0096</td>\n",
       "      <td>0.0201</td>\n",
       "      <td>0.0060</td>\n",
       "      <td>208.2045</td>\n",
       "      <td>-1</td>\n",
       "    </tr>\n",
       "    <tr>\n",
       "      <th>2</th>\n",
       "      <td>2008-07-19 13:17:00</td>\n",
       "      <td>2932.61</td>\n",
       "      <td>2559.94</td>\n",
       "      <td>2186.4111</td>\n",
       "      <td>1698.0172</td>\n",
       "      <td>1.5102</td>\n",
       "      <td>95.4878</td>\n",
       "      <td>0.1241</td>\n",
       "      <td>1.4436</td>\n",
       "      <td>0.0041</td>\n",
       "      <td>...</td>\n",
       "      <td>9.2721</td>\n",
       "      <td>0.4958</td>\n",
       "      <td>0.0157</td>\n",
       "      <td>0.0039</td>\n",
       "      <td>3.1745</td>\n",
       "      <td>0.0584</td>\n",
       "      <td>0.0484</td>\n",
       "      <td>0.0148</td>\n",
       "      <td>82.8602</td>\n",
       "      <td>1</td>\n",
       "    </tr>\n",
       "    <tr>\n",
       "      <th>3</th>\n",
       "      <td>2008-07-19 14:43:00</td>\n",
       "      <td>2988.72</td>\n",
       "      <td>2479.90</td>\n",
       "      <td>2199.0333</td>\n",
       "      <td>909.7926</td>\n",
       "      <td>1.3204</td>\n",
       "      <td>104.2367</td>\n",
       "      <td>0.1217</td>\n",
       "      <td>1.4882</td>\n",
       "      <td>-0.0124</td>\n",
       "      <td>...</td>\n",
       "      <td>8.5831</td>\n",
       "      <td>0.4990</td>\n",
       "      <td>0.0103</td>\n",
       "      <td>0.0025</td>\n",
       "      <td>2.0544</td>\n",
       "      <td>0.0202</td>\n",
       "      <td>0.0149</td>\n",
       "      <td>0.0044</td>\n",
       "      <td>73.8432</td>\n",
       "      <td>-1</td>\n",
       "    </tr>\n",
       "    <tr>\n",
       "      <th>4</th>\n",
       "      <td>2008-07-19 15:22:00</td>\n",
       "      <td>3032.24</td>\n",
       "      <td>2502.87</td>\n",
       "      <td>2233.3667</td>\n",
       "      <td>1326.5200</td>\n",
       "      <td>1.5334</td>\n",
       "      <td>100.3967</td>\n",
       "      <td>0.1235</td>\n",
       "      <td>1.5031</td>\n",
       "      <td>-0.0031</td>\n",
       "      <td>...</td>\n",
       "      <td>10.9698</td>\n",
       "      <td>0.4800</td>\n",
       "      <td>0.4766</td>\n",
       "      <td>0.1045</td>\n",
       "      <td>99.3032</td>\n",
       "      <td>0.0202</td>\n",
       "      <td>0.0149</td>\n",
       "      <td>0.0044</td>\n",
       "      <td>73.8432</td>\n",
       "      <td>-1</td>\n",
       "    </tr>\n",
       "  </tbody>\n",
       "</table>\n",
       "<p>5 rows × 444 columns</p>\n",
       "</div>"
      ],
      "text/plain": [
       "                  Time        0        1          2          3       4  \\\n",
       "0  2008-07-19 11:55:00  3030.93  2564.00  2187.7333  1411.1265  1.3602   \n",
       "1  2008-07-19 12:32:00  3095.78  2465.14  2230.4222  1463.6606  0.8294   \n",
       "2  2008-07-19 13:17:00  2932.61  2559.94  2186.4111  1698.0172  1.5102   \n",
       "3  2008-07-19 14:43:00  2988.72  2479.90  2199.0333   909.7926  1.3204   \n",
       "4  2008-07-19 15:22:00  3032.24  2502.87  2233.3667  1326.5200  1.5334   \n",
       "\n",
       "          6       7       8       9  ...      577     582     583     584  \\\n",
       "0   97.6133  0.1242  1.5005  0.0162  ...  14.9509  0.5005  0.0118  0.0035   \n",
       "1  102.3433  0.1247  1.4966 -0.0005  ...  10.9003  0.5019  0.0223  0.0055   \n",
       "2   95.4878  0.1241  1.4436  0.0041  ...   9.2721  0.4958  0.0157  0.0039   \n",
       "3  104.2367  0.1217  1.4882 -0.0124  ...   8.5831  0.4990  0.0103  0.0025   \n",
       "4  100.3967  0.1235  1.5031 -0.0031  ...  10.9698  0.4800  0.4766  0.1045   \n",
       "\n",
       "       585     586     587     588       589  Pass/Fail  \n",
       "0   2.3630     NaN     NaN     NaN       NaN         -1  \n",
       "1   4.4447  0.0096  0.0201  0.0060  208.2045         -1  \n",
       "2   3.1745  0.0584  0.0484  0.0148   82.8602          1  \n",
       "3   2.0544  0.0202  0.0149  0.0044   73.8432         -1  \n",
       "4  99.3032  0.0202  0.0149  0.0044   73.8432         -1  \n",
       "\n",
       "[5 rows x 444 columns]"
      ]
     },
     "execution_count": 10,
     "metadata": {},
     "output_type": "execute_result"
    }
   ],
   "source": [
    "# saving missing values in a variable\n",
    "a = data_1.isnull().sum()/len(data_1)*100\n",
    "variables= list(data_1.columns)\n",
    "variable = [] \n",
    "\n",
    "#As mentioned earlier missing values above 40% threshold will be removed.\n",
    "for i in range(data_1.columns.shape[0]):\n",
    "    if a[i]<=40: #setting the threshold as 40%\n",
    "        variable.append(variables[i])\n",
    "\n",
    "new_data = data_1[variable]\n",
    "new_data.head()"
   ]
  },
  {
   "cell_type": "code",
   "execution_count": 11,
   "metadata": {},
   "outputs": [
    {
     "data": {
      "text/plain": [
       "(1567, 444)"
      ]
     },
     "execution_count": 11,
     "metadata": {},
     "output_type": "execute_result"
    }
   ],
   "source": [
    "data=new_data.fillna(new_data.mean())\n",
    "data.isnull().any().any()\n",
    "data.shape"
   ]
  },
  {
   "cell_type": "markdown",
   "metadata": {},
   "source": [
    "#### There are a total of 1567 rows and 444 columns. The features have been reduced from 592 to 444 now.We will further process to reduce the number of features."
   ]
  },
  {
   "cell_type": "markdown",
   "metadata": {},
   "source": [
    "# Data Visualisation"
   ]
  },
  {
   "cell_type": "code",
   "execution_count": 12,
   "metadata": {},
   "outputs": [
    {
     "data": {
      "image/png": "[encoded data removed]",
      "text/plain": [
       "<Figure size 432x288 with 1 Axes>"
      ]
     },
     "metadata": {
      "needs_background": "light"
     },
     "output_type": "display_data"
    }
   ],
   "source": [
    "data[\"Pass/Fail\"].value_counts().plot(kind=\"bar\");"
   ]
  },
  {
   "cell_type": "code",
   "execution_count": 13,
   "metadata": {},
   "outputs": [],
   "source": [
    "#The plot clearly depicts that the target class is highly imbalanced."
   ]
  },
  {
   "cell_type": "code",
   "execution_count": 14,
   "metadata": {},
   "outputs": [],
   "source": [
    "from datetime import datetime\n",
    "data['year'] = pd.DatetimeIndex(data['Time']).year\n",
    "data['month'] = pd.DatetimeIndex(data['Time']).month\n",
    "data['date'] = pd.DatetimeIndex(data['Time']).day\n",
    "data['week_day'] = pd.DatetimeIndex(data['Time']).weekday\n",
    "data['start_time'] = pd.DatetimeIndex(data['Time']).time\n",
    "data['hour'] = pd.DatetimeIndex(data['Time']).hour\n",
    "data['min'] = pd.DatetimeIndex(data['Time']).minute"
   ]
  },
  {
   "cell_type": "code",
   "execution_count": 15,
   "metadata": {},
   "outputs": [
    {
     "data": {
      "image/png": "[encoded data removed]",
      "text/plain": [
       "<Figure size 432x288 with 1 Axes>"
      ]
     },
     "metadata": {
      "needs_background": "light"
     },
     "output_type": "display_data"
    }
   ],
   "source": [
    "sns.distplot( data[data[\"Pass/Fail\"] == -1]['month'], color = 'g');\n",
    "sns.distplot( data[data[\"Pass/Fail\"] == 1]['month'], color = 'r');"
   ]
  },
  {
   "cell_type": "markdown",
   "metadata": {},
   "source": [
    "### August and September are months with most failures, August has also nearly many pass."
   ]
  },
  {
   "cell_type": "code",
   "execution_count": 16,
   "metadata": {},
   "outputs": [
    {
     "data": {
      "image/png": "[encoded data removed]",
      "text/plain": [
       "<Figure size 432x288 with 1 Axes>"
      ]
     },
     "metadata": {
      "needs_background": "light"
     },
     "output_type": "display_data"
    }
   ],
   "source": [
    "sns.distplot( data[data[\"Pass/Fail\"] == -1]['date'], color = 'g');\n",
    "sns.distplot( data[data[\"Pass/Fail\"] == 1]['date'], color = 'r');"
   ]
  },
  {
   "cell_type": "markdown",
   "metadata": {},
   "source": [
    "### The failures tend to decrease towards month end."
   ]
  },
  {
   "cell_type": "code",
   "execution_count": 17,
   "metadata": {},
   "outputs": [
    {
     "data": {
      "image/png": "[encoded data removed]",
      "text/plain": [
       "<Figure size 432x288 with 1 Axes>"
      ]
     },
     "metadata": {
      "needs_background": "light"
     },
     "output_type": "display_data"
    }
   ],
   "source": [
    "sns.distplot( data[data[\"Pass/Fail\"] == -1]['week_day'], color = 'g');\n",
    "sns.distplot( data[data[\"Pass/Fail\"] == 1]['week_day'], color = 'r');"
   ]
  },
  {
   "cell_type": "markdown",
   "metadata": {},
   "source": [
    "### Failures appear to be more towards start and end of the week rather than in the middle of the week"
   ]
  },
  {
   "cell_type": "code",
   "execution_count": 18,
   "metadata": {},
   "outputs": [
    {
     "data": {
      "image/png": "[encoded data removed]",
      "text/plain": [
       "<Figure size 432x288 with 1 Axes>"
      ]
     },
     "metadata": {
      "needs_background": "light"
     },
     "output_type": "display_data"
    }
   ],
   "source": [
    "sns.distplot( data[data[\"Pass/Fail\"] == -1]['hour'], color = 'g');\n",
    "sns.distplot( data[data[\"Pass/Fail\"] == 1]['hour'], color = 'r');"
   ]
  },
  {
   "cell_type": "markdown",
   "metadata": {},
   "source": [
    "### Both pass and fail are fairly distributed"
   ]
  },
  {
   "cell_type": "code",
   "execution_count": 19,
   "metadata": {},
   "outputs": [
    {
     "data": {
      "image/png": "[encoded data removed]",
      "text/plain": [
       "<Figure size 432x288 with 1 Axes>"
      ]
     },
     "metadata": {
      "needs_background": "light"
     },
     "output_type": "display_data"
    }
   ],
   "source": [
    "sns.distplot( data[data[\"Pass/Fail\"] == -1]['min'], color = 'g');\n",
    "sns.distplot( data[data[\"Pass/Fail\"] == 1]['min'], color = 'r');"
   ]
  },
  {
   "cell_type": "markdown",
   "metadata": {},
   "source": [
    "### Both pass and fail are fairly distributed"
   ]
  },
  {
   "cell_type": "code",
   "execution_count": 20,
   "metadata": {},
   "outputs": [
    {
     "data": {
      "text/html": [
       "<div>\n",
       "<style scoped>\n",
       "    .dataframe tbody tr th:only-of-type {\n",
       "        vertical-align: middle;\n",
       "    }\n",
       "\n",
       "    .dataframe tbody tr th {\n",
       "        vertical-align: top;\n",
       "    }\n",
       "\n",
       "    .dataframe thead th {\n",
       "        text-align: right;\n",
       "    }\n",
       "</style>\n",
       "<table border=\"1\" class=\"dataframe\">\n",
       "  <thead>\n",
       "    <tr style=\"text-align: right;\">\n",
       "      <th></th>\n",
       "      <th>0</th>\n",
       "      <th>1</th>\n",
       "      <th>2</th>\n",
       "      <th>3</th>\n",
       "      <th>4</th>\n",
       "      <th>6</th>\n",
       "      <th>7</th>\n",
       "      <th>8</th>\n",
       "      <th>9</th>\n",
       "      <th>10</th>\n",
       "      <th>...</th>\n",
       "      <th>587</th>\n",
       "      <th>588</th>\n",
       "      <th>589</th>\n",
       "      <th>Pass/Fail</th>\n",
       "      <th>year</th>\n",
       "      <th>month</th>\n",
       "      <th>date</th>\n",
       "      <th>week_day</th>\n",
       "      <th>hour</th>\n",
       "      <th>min</th>\n",
       "    </tr>\n",
       "  </thead>\n",
       "  <tbody>\n",
       "    <tr>\n",
       "      <th>0</th>\n",
       "      <td>1.000000</td>\n",
       "      <td>-0.143840</td>\n",
       "      <td>0.004756</td>\n",
       "      <td>-0.007613</td>\n",
       "      <td>-0.011014</td>\n",
       "      <td>0.002270</td>\n",
       "      <td>0.031483</td>\n",
       "      <td>-0.052622</td>\n",
       "      <td>0.009045</td>\n",
       "      <td>0.006504</td>\n",
       "      <td>...</td>\n",
       "      <td>-0.025880</td>\n",
       "      <td>-0.028166</td>\n",
       "      <td>0.004174</td>\n",
       "      <td>-0.025141</td>\n",
       "      <td>NaN</td>\n",
       "      <td>0.004907</td>\n",
       "      <td>0.029778</td>\n",
       "      <td>0.024759</td>\n",
       "      <td>0.000183</td>\n",
       "      <td>0.012332</td>\n",
       "    </tr>\n",
       "    <tr>\n",
       "      <th>1</th>\n",
       "      <td>-0.143840</td>\n",
       "      <td>1.000000</td>\n",
       "      <td>0.005767</td>\n",
       "      <td>-0.007568</td>\n",
       "      <td>-0.001636</td>\n",
       "      <td>-0.025564</td>\n",
       "      <td>-0.012037</td>\n",
       "      <td>0.031258</td>\n",
       "      <td>0.023964</td>\n",
       "      <td>0.009645</td>\n",
       "      <td>...</td>\n",
       "      <td>0.017266</td>\n",
       "      <td>0.010118</td>\n",
       "      <td>0.044797</td>\n",
       "      <td>-0.002603</td>\n",
       "      <td>NaN</td>\n",
       "      <td>-0.021801</td>\n",
       "      <td>0.003651</td>\n",
       "      <td>-0.030326</td>\n",
       "      <td>0.027295</td>\n",
       "      <td>0.015049</td>\n",
       "    </tr>\n",
       "    <tr>\n",
       "      <th>2</th>\n",
       "      <td>0.004756</td>\n",
       "      <td>0.005767</td>\n",
       "      <td>1.000000</td>\n",
       "      <td>0.298935</td>\n",
       "      <td>0.095891</td>\n",
       "      <td>-0.136225</td>\n",
       "      <td>-0.146213</td>\n",
       "      <td>0.023528</td>\n",
       "      <td>0.016168</td>\n",
       "      <td>0.069893</td>\n",
       "      <td>...</td>\n",
       "      <td>-0.029345</td>\n",
       "      <td>-0.030818</td>\n",
       "      <td>-0.032890</td>\n",
       "      <td>-0.000957</td>\n",
       "      <td>NaN</td>\n",
       "      <td>-0.038922</td>\n",
       "      <td>-0.036763</td>\n",
       "      <td>-0.110435</td>\n",
       "      <td>-0.001654</td>\n",
       "      <td>-0.015614</td>\n",
       "    </tr>\n",
       "    <tr>\n",
       "      <th>3</th>\n",
       "      <td>-0.007613</td>\n",
       "      <td>-0.007568</td>\n",
       "      <td>0.298935</td>\n",
       "      <td>1.000000</td>\n",
       "      <td>-0.058483</td>\n",
       "      <td>-0.685835</td>\n",
       "      <td>0.073856</td>\n",
       "      <td>-0.102892</td>\n",
       "      <td>0.068215</td>\n",
       "      <td>0.049873</td>\n",
       "      <td>...</td>\n",
       "      <td>-0.039132</td>\n",
       "      <td>-0.033645</td>\n",
       "      <td>-0.080341</td>\n",
       "      <td>-0.024623</td>\n",
       "      <td>NaN</td>\n",
       "      <td>0.202195</td>\n",
       "      <td>0.075708</td>\n",
       "      <td>-0.072364</td>\n",
       "      <td>0.013394</td>\n",
       "      <td>0.015813</td>\n",
       "    </tr>\n",
       "    <tr>\n",
       "      <th>4</th>\n",
       "      <td>-0.011014</td>\n",
       "      <td>-0.001636</td>\n",
       "      <td>0.095891</td>\n",
       "      <td>-0.058483</td>\n",
       "      <td>1.000000</td>\n",
       "      <td>-0.074368</td>\n",
       "      <td>-0.347734</td>\n",
       "      <td>-0.025946</td>\n",
       "      <td>0.054206</td>\n",
       "      <td>-0.006470</td>\n",
       "      <td>...</td>\n",
       "      <td>-0.031005</td>\n",
       "      <td>-0.026100</td>\n",
       "      <td>0.050910</td>\n",
       "      <td>-0.013756</td>\n",
       "      <td>NaN</td>\n",
       "      <td>0.007377</td>\n",
       "      <td>-0.048759</td>\n",
       "      <td>0.008478</td>\n",
       "      <td>-0.034970</td>\n",
       "      <td>0.014839</td>\n",
       "    </tr>\n",
       "    <tr>\n",
       "      <th>...</th>\n",
       "      <td>...</td>\n",
       "      <td>...</td>\n",
       "      <td>...</td>\n",
       "      <td>...</td>\n",
       "      <td>...</td>\n",
       "      <td>...</td>\n",
       "      <td>...</td>\n",
       "      <td>...</td>\n",
       "      <td>...</td>\n",
       "      <td>...</td>\n",
       "      <td>...</td>\n",
       "      <td>...</td>\n",
       "      <td>...</td>\n",
       "      <td>...</td>\n",
       "      <td>...</td>\n",
       "      <td>...</td>\n",
       "      <td>...</td>\n",
       "      <td>...</td>\n",
       "      <td>...</td>\n",
       "      <td>...</td>\n",
       "      <td>...</td>\n",
       "    </tr>\n",
       "    <tr>\n",
       "      <th>month</th>\n",
       "      <td>0.004907</td>\n",
       "      <td>-0.021801</td>\n",
       "      <td>-0.038922</td>\n",
       "      <td>0.202195</td>\n",
       "      <td>0.007377</td>\n",
       "      <td>-0.173706</td>\n",
       "      <td>-0.101194</td>\n",
       "      <td>-0.091733</td>\n",
       "      <td>0.155016</td>\n",
       "      <td>-0.098456</td>\n",
       "      <td>...</td>\n",
       "      <td>0.005449</td>\n",
       "      <td>0.015542</td>\n",
       "      <td>0.030287</td>\n",
       "      <td>-0.020689</td>\n",
       "      <td>NaN</td>\n",
       "      <td>1.000000</td>\n",
       "      <td>0.407196</td>\n",
       "      <td>-0.141193</td>\n",
       "      <td>0.020851</td>\n",
       "      <td>-0.009937</td>\n",
       "    </tr>\n",
       "    <tr>\n",
       "      <th>date</th>\n",
       "      <td>0.029778</td>\n",
       "      <td>0.003651</td>\n",
       "      <td>-0.036763</td>\n",
       "      <td>0.075708</td>\n",
       "      <td>-0.048759</td>\n",
       "      <td>-0.077997</td>\n",
       "      <td>0.059192</td>\n",
       "      <td>0.090674</td>\n",
       "      <td>0.113938</td>\n",
       "      <td>-0.101992</td>\n",
       "      <td>...</td>\n",
       "      <td>-0.001288</td>\n",
       "      <td>-0.004156</td>\n",
       "      <td>-0.055501</td>\n",
       "      <td>0.000713</td>\n",
       "      <td>NaN</td>\n",
       "      <td>0.407196</td>\n",
       "      <td>1.000000</td>\n",
       "      <td>0.061621</td>\n",
       "      <td>-0.013218</td>\n",
       "      <td>0.011992</td>\n",
       "    </tr>\n",
       "    <tr>\n",
       "      <th>week_day</th>\n",
       "      <td>0.024759</td>\n",
       "      <td>-0.030326</td>\n",
       "      <td>-0.110435</td>\n",
       "      <td>-0.072364</td>\n",
       "      <td>0.008478</td>\n",
       "      <td>0.011873</td>\n",
       "      <td>0.074747</td>\n",
       "      <td>0.060111</td>\n",
       "      <td>0.042929</td>\n",
       "      <td>-0.086627</td>\n",
       "      <td>...</td>\n",
       "      <td>-0.081355</td>\n",
       "      <td>-0.095696</td>\n",
       "      <td>-0.046050</td>\n",
       "      <td>-0.006259</td>\n",
       "      <td>NaN</td>\n",
       "      <td>-0.141193</td>\n",
       "      <td>0.061621</td>\n",
       "      <td>1.000000</td>\n",
       "      <td>-0.012971</td>\n",
       "      <td>-0.015404</td>\n",
       "    </tr>\n",
       "    <tr>\n",
       "      <th>hour</th>\n",
       "      <td>0.000183</td>\n",
       "      <td>0.027295</td>\n",
       "      <td>-0.001654</td>\n",
       "      <td>0.013394</td>\n",
       "      <td>-0.034970</td>\n",
       "      <td>-0.013916</td>\n",
       "      <td>0.042473</td>\n",
       "      <td>0.015765</td>\n",
       "      <td>0.017900</td>\n",
       "      <td>-0.007937</td>\n",
       "      <td>...</td>\n",
       "      <td>0.033205</td>\n",
       "      <td>0.027357</td>\n",
       "      <td>-0.013009</td>\n",
       "      <td>0.015963</td>\n",
       "      <td>NaN</td>\n",
       "      <td>0.020851</td>\n",
       "      <td>-0.013218</td>\n",
       "      <td>-0.012971</td>\n",
       "      <td>1.000000</td>\n",
       "      <td>-0.032017</td>\n",
       "    </tr>\n",
       "    <tr>\n",
       "      <th>min</th>\n",
       "      <td>0.012332</td>\n",
       "      <td>0.015049</td>\n",
       "      <td>-0.015614</td>\n",
       "      <td>0.015813</td>\n",
       "      <td>0.014839</td>\n",
       "      <td>-0.024473</td>\n",
       "      <td>-0.030581</td>\n",
       "      <td>-0.019765</td>\n",
       "      <td>-0.012988</td>\n",
       "      <td>-0.012050</td>\n",
       "      <td>...</td>\n",
       "      <td>0.029273</td>\n",
       "      <td>0.019852</td>\n",
       "      <td>0.045301</td>\n",
       "      <td>0.010431</td>\n",
       "      <td>NaN</td>\n",
       "      <td>-0.009937</td>\n",
       "      <td>0.011992</td>\n",
       "      <td>-0.015404</td>\n",
       "      <td>-0.032017</td>\n",
       "      <td>1.000000</td>\n",
       "    </tr>\n",
       "  </tbody>\n",
       "</table>\n",
       "<p>449 rows × 449 columns</p>\n",
       "</div>"
      ],
      "text/plain": [
       "                 0         1         2         3         4         6  \\\n",
       "0         1.000000 -0.143840  0.004756 -0.007613 -0.011014  0.002270   \n",
       "1        -0.143840  1.000000  0.005767 -0.007568 -0.001636 -0.025564   \n",
       "2         0.004756  0.005767  1.000000  0.298935  0.095891 -0.136225   \n",
       "3        -0.007613 -0.007568  0.298935  1.000000 -0.058483 -0.685835   \n",
       "4        -0.011014 -0.001636  0.095891 -0.058483  1.000000 -0.074368   \n",
       "...            ...       ...       ...       ...       ...       ...   \n",
       "month     0.004907 -0.021801 -0.038922  0.202195  0.007377 -0.173706   \n",
       "date      0.029778  0.003651 -0.036763  0.075708 -0.048759 -0.077997   \n",
       "week_day  0.024759 -0.030326 -0.110435 -0.072364  0.008478  0.011873   \n",
       "hour      0.000183  0.027295 -0.001654  0.013394 -0.034970 -0.013916   \n",
       "min       0.012332  0.015049 -0.015614  0.015813  0.014839 -0.024473   \n",
       "\n",
       "                 7         8         9        10  ...       587       588  \\\n",
       "0         0.031483 -0.052622  0.009045  0.006504  ... -0.025880 -0.028166   \n",
       "1        -0.012037  0.031258  0.023964  0.009645  ...  0.017266  0.010118   \n",
       "2        -0.146213  0.023528  0.016168  0.069893  ... -0.029345 -0.030818   \n",
       "3         0.073856 -0.102892  0.068215  0.049873  ... -0.039132 -0.033645   \n",
       "4        -0.347734 -0.025946  0.054206 -0.006470  ... -0.031005 -0.026100   \n",
       "...            ...       ...       ...       ...  ...       ...       ...   \n",
       "month    -0.101194 -0.091733  0.155016 -0.098456  ...  0.005449  0.015542   \n",
       "date      0.059192  0.090674  0.113938 -0.101992  ... -0.001288 -0.004156   \n",
       "week_day  0.074747  0.060111  0.042929 -0.086627  ... -0.081355 -0.095696   \n",
       "hour      0.042473  0.015765  0.017900 -0.007937  ...  0.033205  0.027357   \n",
       "min      -0.030581 -0.019765 -0.012988 -0.012050  ...  0.029273  0.019852   \n",
       "\n",
       "               589  Pass/Fail  year     month      date  week_day      hour  \\\n",
       "0         0.004174  -0.025141   NaN  0.004907  0.029778  0.024759  0.000183   \n",
       "1         0.044797  -0.002603   NaN -0.021801  0.003651 -0.030326  0.027295   \n",
       "2        -0.032890  -0.000957   NaN -0.038922 -0.036763 -0.110435 -0.001654   \n",
       "3        -0.080341  -0.024623   NaN  0.202195  0.075708 -0.072364  0.013394   \n",
       "4         0.050910  -0.013756   NaN  0.007377 -0.048759  0.008478 -0.034970   \n",
       "...            ...        ...   ...       ...       ...       ...       ...   \n",
       "month     0.030287  -0.020689   NaN  1.000000  0.407196 -0.141193  0.020851   \n",
       "date     -0.055501   0.000713   NaN  0.407196  1.000000  0.061621 -0.013218   \n",
       "week_day -0.046050  -0.006259   NaN -0.141193  0.061621  1.000000 -0.012971   \n",
       "hour     -0.013009   0.015963   NaN  0.020851 -0.013218 -0.012971  1.000000   \n",
       "min       0.045301   0.010431   NaN -0.009937  0.011992 -0.015404 -0.032017   \n",
       "\n",
       "               min  \n",
       "0         0.012332  \n",
       "1         0.015049  \n",
       "2        -0.015614  \n",
       "3         0.015813  \n",
       "4         0.014839  \n",
       "...            ...  \n",
       "month    -0.009937  \n",
       "date      0.011992  \n",
       "week_day -0.015404  \n",
       "hour     -0.032017  \n",
       "min       1.000000  \n",
       "\n",
       "[449 rows x 449 columns]"
      ]
     },
     "execution_count": 20,
     "metadata": {},
     "output_type": "execute_result"
    }
   ],
   "source": [
    "data.corr()"
   ]
  },
  {
   "cell_type": "markdown",
   "metadata": {},
   "source": [
    "# Data pre-processing"
   ]
  },
  {
   "cell_type": "code",
   "execution_count": 21,
   "metadata": {},
   "outputs": [
    {
     "data": {
      "text/html": [
       "<div>\n",
       "<style scoped>\n",
       "    .dataframe tbody tr th:only-of-type {\n",
       "        vertical-align: middle;\n",
       "    }\n",
       "\n",
       "    .dataframe tbody tr th {\n",
       "        vertical-align: top;\n",
       "    }\n",
       "\n",
       "    .dataframe thead th {\n",
       "        text-align: right;\n",
       "    }\n",
       "</style>\n",
       "<table border=\"1\" class=\"dataframe\">\n",
       "  <thead>\n",
       "    <tr style=\"text-align: right;\">\n",
       "      <th></th>\n",
       "      <th>0</th>\n",
       "      <th>1</th>\n",
       "      <th>2</th>\n",
       "      <th>3</th>\n",
       "      <th>4</th>\n",
       "      <th>6</th>\n",
       "      <th>7</th>\n",
       "      <th>8</th>\n",
       "      <th>9</th>\n",
       "      <th>10</th>\n",
       "      <th>...</th>\n",
       "      <th>576</th>\n",
       "      <th>577</th>\n",
       "      <th>582</th>\n",
       "      <th>583</th>\n",
       "      <th>584</th>\n",
       "      <th>585</th>\n",
       "      <th>586</th>\n",
       "      <th>587</th>\n",
       "      <th>588</th>\n",
       "      <th>589</th>\n",
       "    </tr>\n",
       "  </thead>\n",
       "  <tbody>\n",
       "    <tr>\n",
       "      <th>0</th>\n",
       "      <td>3030.93</td>\n",
       "      <td>2564.00</td>\n",
       "      <td>2187.7333</td>\n",
       "      <td>1411.1265</td>\n",
       "      <td>1.3602</td>\n",
       "      <td>97.6133</td>\n",
       "      <td>0.1242</td>\n",
       "      <td>1.5005</td>\n",
       "      <td>0.0162</td>\n",
       "      <td>-0.0034</td>\n",
       "      <td>...</td>\n",
       "      <td>1.6765</td>\n",
       "      <td>14.9509</td>\n",
       "      <td>0.5005</td>\n",
       "      <td>0.0118</td>\n",
       "      <td>0.0035</td>\n",
       "      <td>2.3630</td>\n",
       "      <td>0.021458</td>\n",
       "      <td>0.016475</td>\n",
       "      <td>0.005283</td>\n",
       "      <td>99.670066</td>\n",
       "    </tr>\n",
       "    <tr>\n",
       "      <th>1</th>\n",
       "      <td>3095.78</td>\n",
       "      <td>2465.14</td>\n",
       "      <td>2230.4222</td>\n",
       "      <td>1463.6606</td>\n",
       "      <td>0.8294</td>\n",
       "      <td>102.3433</td>\n",
       "      <td>0.1247</td>\n",
       "      <td>1.4966</td>\n",
       "      <td>-0.0005</td>\n",
       "      <td>-0.0148</td>\n",
       "      <td>...</td>\n",
       "      <td>1.1065</td>\n",
       "      <td>10.9003</td>\n",
       "      <td>0.5019</td>\n",
       "      <td>0.0223</td>\n",
       "      <td>0.0055</td>\n",
       "      <td>4.4447</td>\n",
       "      <td>0.009600</td>\n",
       "      <td>0.020100</td>\n",
       "      <td>0.006000</td>\n",
       "      <td>208.204500</td>\n",
       "    </tr>\n",
       "    <tr>\n",
       "      <th>2</th>\n",
       "      <td>2932.61</td>\n",
       "      <td>2559.94</td>\n",
       "      <td>2186.4111</td>\n",
       "      <td>1698.0172</td>\n",
       "      <td>1.5102</td>\n",
       "      <td>95.4878</td>\n",
       "      <td>0.1241</td>\n",
       "      <td>1.4436</td>\n",
       "      <td>0.0041</td>\n",
       "      <td>0.0013</td>\n",
       "      <td>...</td>\n",
       "      <td>2.0952</td>\n",
       "      <td>9.2721</td>\n",
       "      <td>0.4958</td>\n",
       "      <td>0.0157</td>\n",
       "      <td>0.0039</td>\n",
       "      <td>3.1745</td>\n",
       "      <td>0.058400</td>\n",
       "      <td>0.048400</td>\n",
       "      <td>0.014800</td>\n",
       "      <td>82.860200</td>\n",
       "    </tr>\n",
       "    <tr>\n",
       "      <th>3</th>\n",
       "      <td>2988.72</td>\n",
       "      <td>2479.90</td>\n",
       "      <td>2199.0333</td>\n",
       "      <td>909.7926</td>\n",
       "      <td>1.3204</td>\n",
       "      <td>104.2367</td>\n",
       "      <td>0.1217</td>\n",
       "      <td>1.4882</td>\n",
       "      <td>-0.0124</td>\n",
       "      <td>-0.0033</td>\n",
       "      <td>...</td>\n",
       "      <td>1.7585</td>\n",
       "      <td>8.5831</td>\n",
       "      <td>0.4990</td>\n",
       "      <td>0.0103</td>\n",
       "      <td>0.0025</td>\n",
       "      <td>2.0544</td>\n",
       "      <td>0.020200</td>\n",
       "      <td>0.014900</td>\n",
       "      <td>0.004400</td>\n",
       "      <td>73.843200</td>\n",
       "    </tr>\n",
       "    <tr>\n",
       "      <th>4</th>\n",
       "      <td>3032.24</td>\n",
       "      <td>2502.87</td>\n",
       "      <td>2233.3667</td>\n",
       "      <td>1326.5200</td>\n",
       "      <td>1.5334</td>\n",
       "      <td>100.3967</td>\n",
       "      <td>0.1235</td>\n",
       "      <td>1.5031</td>\n",
       "      <td>-0.0031</td>\n",
       "      <td>-0.0072</td>\n",
       "      <td>...</td>\n",
       "      <td>1.6597</td>\n",
       "      <td>10.9698</td>\n",
       "      <td>0.4800</td>\n",
       "      <td>0.4766</td>\n",
       "      <td>0.1045</td>\n",
       "      <td>99.3032</td>\n",
       "      <td>0.020200</td>\n",
       "      <td>0.014900</td>\n",
       "      <td>0.004400</td>\n",
       "      <td>73.843200</td>\n",
       "    </tr>\n",
       "  </tbody>\n",
       "</table>\n",
       "<p>5 rows × 442 columns</p>\n",
       "</div>"
      ],
      "text/plain": [
       "         0        1          2          3       4         6       7       8  \\\n",
       "0  3030.93  2564.00  2187.7333  1411.1265  1.3602   97.6133  0.1242  1.5005   \n",
       "1  3095.78  2465.14  2230.4222  1463.6606  0.8294  102.3433  0.1247  1.4966   \n",
       "2  2932.61  2559.94  2186.4111  1698.0172  1.5102   95.4878  0.1241  1.4436   \n",
       "3  2988.72  2479.90  2199.0333   909.7926  1.3204  104.2367  0.1217  1.4882   \n",
       "4  3032.24  2502.87  2233.3667  1326.5200  1.5334  100.3967  0.1235  1.5031   \n",
       "\n",
       "        9      10  ...     576      577     582     583     584      585  \\\n",
       "0  0.0162 -0.0034  ...  1.6765  14.9509  0.5005  0.0118  0.0035   2.3630   \n",
       "1 -0.0005 -0.0148  ...  1.1065  10.9003  0.5019  0.0223  0.0055   4.4447   \n",
       "2  0.0041  0.0013  ...  2.0952   9.2721  0.4958  0.0157  0.0039   3.1745   \n",
       "3 -0.0124 -0.0033  ...  1.7585   8.5831  0.4990  0.0103  0.0025   2.0544   \n",
       "4 -0.0031 -0.0072  ...  1.6597  10.9698  0.4800  0.4766  0.1045  99.3032   \n",
       "\n",
       "        586       587       588         589  \n",
       "0  0.021458  0.016475  0.005283   99.670066  \n",
       "1  0.009600  0.020100  0.006000  208.204500  \n",
       "2  0.058400  0.048400  0.014800   82.860200  \n",
       "3  0.020200  0.014900  0.004400   73.843200  \n",
       "4  0.020200  0.014900  0.004400   73.843200  \n",
       "\n",
       "[5 rows x 442 columns]"
      ]
     },
     "execution_count": 21,
     "metadata": {},
     "output_type": "execute_result"
    }
   ],
   "source": [
    "#Now we are going to further process the data by reducing the features. As a result, we are first seperating into predictors and \n",
    "#target variables.\n",
    "#Once, we reduce the features, we will fix target imbalance on the data.\n",
    "X = data.drop([\"Pass/Fail\",'Time','year','month','date','week_day','start_time','hour','min'], axis = 1)\n",
    "y = data[\"Pass/Fail\"]\n",
    "X.head()"
   ]
  },
  {
   "cell_type": "code",
   "execution_count": 22,
   "metadata": {},
   "outputs": [
    {
     "data": {
      "text/plain": [
       "(1567, 442)"
      ]
     },
     "execution_count": 22,
     "metadata": {},
     "output_type": "execute_result"
    }
   ],
   "source": [
    "X.shape"
   ]
  },
  {
   "cell_type": "markdown",
   "metadata": {},
   "source": [
    "### We now have 1567 rows and 442 columns"
   ]
  },
  {
   "cell_type": "code",
   "execution_count": 23,
   "metadata": {},
   "outputs": [
    {
     "data": {
      "text/plain": [
       "Normalizer()"
      ]
     },
     "execution_count": 23,
     "metadata": {},
     "output_type": "execute_result"
    }
   ],
   "source": [
    "normalizer = Normalizer()\n",
    "normalizer.fit(X)"
   ]
  },
  {
   "cell_type": "code",
   "execution_count": 24,
   "metadata": {},
   "outputs": [],
   "source": [
    "X_nrm = pd.DataFrame(normalizer.transform(X), columns = X.columns)"
   ]
  },
  {
   "cell_type": "code",
   "execution_count": 25,
   "metadata": {},
   "outputs": [],
   "source": [
    "# Now, we can remove columns with very low variance"
   ]
  },
  {
   "cell_type": "code",
   "execution_count": 26,
   "metadata": {},
   "outputs": [
    {
     "name": "stdout",
     "output_type": "stream",
     "text": [
      "remaining features: 442\n"
     ]
    }
   ],
   "source": [
    "selector = VarianceThreshold()\n",
    "selector.fit(X_nrm)\n",
    "\n",
    "mask = selector.get_support()\n",
    "columns = X_nrm.columns\n",
    "selected_cols = columns[mask]\n",
    "n_features2 = len(selected_cols)\n",
    "print(f'remaining features: {n_features2}')"
   ]
  },
  {
   "cell_type": "code",
   "execution_count": 27,
   "metadata": {},
   "outputs": [],
   "source": [
    "# The following function will help us select highly correlated features\n",
    "\n",
    "def high_correlation(dataset, threshold):\n",
    "    col_corr = set()\n",
    "    corr_matrix = dataset.corr()\n",
    "    for i in range(len(corr_matrix.columns)):\n",
    "        for j in range(i):\n",
    "            if abs(corr_matrix.iloc[i, j]) > threshold:\n",
    "                colname = corr_matrix.columns[i]\n",
    "                col_corr.add(colname)\n",
    "    return col_corr"
   ]
  },
  {
   "cell_type": "code",
   "execution_count": 28,
   "metadata": {},
   "outputs": [
    {
     "data": {
      "text/plain": [
       "269"
      ]
     },
     "execution_count": 28,
     "metadata": {},
     "output_type": "execute_result"
    }
   ],
   "source": [
    "# We are now removing features above 0.95 high correlation.\n",
    "corr_features = high_correlation(X, 0.95)\n",
    "X_corr = X.drop(corr_features, axis=1)\n",
    "n_features_left = X_corr.shape[1]\n",
    "n_features_left"
   ]
  },
  {
   "cell_type": "code",
   "execution_count": 29,
   "metadata": {},
   "outputs": [],
   "source": [
    "# There are 269 features remaining now."
   ]
  },
  {
   "cell_type": "code",
   "execution_count": 30,
   "metadata": {},
   "outputs": [],
   "source": [
    "# We will remove a feature with low correlation with target."
   ]
  },
  {
   "cell_type": "code",
   "execution_count": 31,
   "metadata": {},
   "outputs": [
    {
     "data": {
      "text/plain": [
       "62"
      ]
     },
     "execution_count": 31,
     "metadata": {},
     "output_type": "execute_result"
    }
   ],
   "source": [
    "def corr_with_target(dataframe, target, threshold):\n",
    "    cor = dataframe.corr()\n",
    "    #Correlation with output variable\n",
    "    cor_target = abs(cor[target])\n",
    "    #Selecting non correlated features\n",
    "    relevant_features = cor_target[cor_target<threshold]\n",
    "    return relevant_features.index.tolist()[:-1]\n",
    "\n",
    "sample_train = X_corr.copy()\n",
    "sample_train['target'] = y\n",
    "\n",
    "corrwith_cols = corr_with_target(dummy_train, 'target', 0.05)\n",
    "X_corw = X_corr.drop(corrwith_cols, axis=1)\n",
    "n_features_left = X_corw.shape[1]\n",
    "n_features_left"
   ]
  },
  {
   "cell_type": "code",
   "execution_count": 32,
   "metadata": {},
   "outputs": [
    {
     "data": {
      "text/plain": [
       "StandardScaler()"
      ]
     },
     "execution_count": 32,
     "metadata": {},
     "output_type": "execute_result"
    }
   ],
   "source": [
    "from sklearn.preprocessing import StandardScaler\n",
    "scaler = StandardScaler()\n",
    "scaler.fit(X_corw)"
   ]
  },
  {
   "cell_type": "code",
   "execution_count": 33,
   "metadata": {},
   "outputs": [
    {
     "data": {
      "text/plain": [
       "(1567, 62)"
      ]
     },
     "execution_count": 33,
     "metadata": {},
     "output_type": "execute_result"
    }
   ],
   "source": [
    "X_std = pd.DataFrame(scaler.transform(X_corw), columns=X_corw.columns)\n",
    "X_std.head()\n",
    "X_std.shape"
   ]
  },
  {
   "cell_type": "markdown",
   "metadata": {},
   "source": [
    "# Train the model without handling Imbalanced Data. We will also use LazyPredict to see which model is performing how ?"
   ]
  },
  {
   "cell_type": "code",
   "execution_count": 34,
   "metadata": {},
   "outputs": [],
   "source": [
    "from sklearn.linear_model import LogisticRegression\n",
    "from sklearn.preprocessing import StandardScaler\n",
    "from lazypredict.Supervised import LazyClassifier"
   ]
  },
  {
   "cell_type": "code",
   "execution_count": 35,
   "metadata": {},
   "outputs": [],
   "source": [
    "X_train, X_test, y_train, y_test =train_test_split(X_std,y,test_size=0.3,random_state =42)"
   ]
  },
  {
   "cell_type": "code",
   "execution_count": 36,
   "metadata": {},
   "outputs": [
    {
     "name": "stderr",
     "output_type": "stream",
     "text": [
      "\r",
      "  0%|                                                                                           | 0/29 [00:00<?, ?it/s]"
     ]
    },
    {
     "name": "stdout",
     "output_type": "stream",
     "text": [
      "Number transactions X_train dataset:  (1096, 62)\n",
      "Number transactions y_train dataset:  (1096,)\n",
      "Number transactions X_test dataset:  (471, 62)\n",
      "Number transactions y_test dataset:  (471,)\n"
     ]
    },
    {
     "name": "stderr",
     "output_type": "stream",
     "text": [
      "100%|██████████████████████████████████████████████████████████████████████████████████| 29/29 [00:08<00:00,  3.59it/s]\n"
     ]
    },
    {
     "data": {
      "text/html": [
       "<div>\n",
       "<style scoped>\n",
       "    .dataframe tbody tr th:only-of-type {\n",
       "        vertical-align: middle;\n",
       "    }\n",
       "\n",
       "    .dataframe tbody tr th {\n",
       "        vertical-align: top;\n",
       "    }\n",
       "\n",
       "    .dataframe thead th {\n",
       "        text-align: right;\n",
       "    }\n",
       "</style>\n",
       "<table border=\"1\" class=\"dataframe\">\n",
       "  <thead>\n",
       "    <tr style=\"text-align: right;\">\n",
       "      <th></th>\n",
       "      <th>Accuracy</th>\n",
       "      <th>Balanced Accuracy</th>\n",
       "      <th>ROC AUC</th>\n",
       "      <th>F1 Score</th>\n",
       "      <th>Time Taken</th>\n",
       "    </tr>\n",
       "    <tr>\n",
       "      <th>Model</th>\n",
       "      <th></th>\n",
       "      <th></th>\n",
       "      <th></th>\n",
       "      <th></th>\n",
       "      <th></th>\n",
       "    </tr>\n",
       "  </thead>\n",
       "  <tbody>\n",
       "    <tr>\n",
       "      <th>NearestCentroid</th>\n",
       "      <td>0.80</td>\n",
       "      <td>0.65</td>\n",
       "      <td>0.65</td>\n",
       "      <td>0.84</td>\n",
       "      <td>0.04</td>\n",
       "    </tr>\n",
       "    <tr>\n",
       "      <th>PassiveAggressiveClassifier</th>\n",
       "      <td>0.86</td>\n",
       "      <td>0.61</td>\n",
       "      <td>0.61</td>\n",
       "      <td>0.88</td>\n",
       "      <td>0.05</td>\n",
       "    </tr>\n",
       "    <tr>\n",
       "      <th>BernoulliNB</th>\n",
       "      <td>0.86</td>\n",
       "      <td>0.61</td>\n",
       "      <td>0.61</td>\n",
       "      <td>0.87</td>\n",
       "      <td>0.05</td>\n",
       "    </tr>\n",
       "    <tr>\n",
       "      <th>LinearDiscriminantAnalysis</th>\n",
       "      <td>0.93</td>\n",
       "      <td>0.60</td>\n",
       "      <td>0.60</td>\n",
       "      <td>0.92</td>\n",
       "      <td>0.06</td>\n",
       "    </tr>\n",
       "    <tr>\n",
       "      <th>GaussianNB</th>\n",
       "      <td>0.89</td>\n",
       "      <td>0.59</td>\n",
       "      <td>0.59</td>\n",
       "      <td>0.89</td>\n",
       "      <td>0.03</td>\n",
       "    </tr>\n",
       "    <tr>\n",
       "      <th>SGDClassifier</th>\n",
       "      <td>0.90</td>\n",
       "      <td>0.57</td>\n",
       "      <td>0.57</td>\n",
       "      <td>0.90</td>\n",
       "      <td>0.04</td>\n",
       "    </tr>\n",
       "    <tr>\n",
       "      <th>LogisticRegression</th>\n",
       "      <td>0.93</td>\n",
       "      <td>0.56</td>\n",
       "      <td>0.56</td>\n",
       "      <td>0.91</td>\n",
       "      <td>0.13</td>\n",
       "    </tr>\n",
       "    <tr>\n",
       "      <th>AdaBoostClassifier</th>\n",
       "      <td>0.92</td>\n",
       "      <td>0.55</td>\n",
       "      <td>0.55</td>\n",
       "      <td>0.91</td>\n",
       "      <td>0.67</td>\n",
       "    </tr>\n",
       "    <tr>\n",
       "      <th>LinearSVC</th>\n",
       "      <td>0.93</td>\n",
       "      <td>0.54</td>\n",
       "      <td>0.54</td>\n",
       "      <td>0.91</td>\n",
       "      <td>0.21</td>\n",
       "    </tr>\n",
       "    <tr>\n",
       "      <th>Perceptron</th>\n",
       "      <td>0.89</td>\n",
       "      <td>0.54</td>\n",
       "      <td>0.54</td>\n",
       "      <td>0.89</td>\n",
       "      <td>0.04</td>\n",
       "    </tr>\n",
       "    <tr>\n",
       "      <th>CalibratedClassifierCV</th>\n",
       "      <td>0.94</td>\n",
       "      <td>0.53</td>\n",
       "      <td>0.53</td>\n",
       "      <td>0.91</td>\n",
       "      <td>0.61</td>\n",
       "    </tr>\n",
       "    <tr>\n",
       "      <th>DecisionTreeClassifier</th>\n",
       "      <td>0.88</td>\n",
       "      <td>0.53</td>\n",
       "      <td>0.53</td>\n",
       "      <td>0.88</td>\n",
       "      <td>0.15</td>\n",
       "    </tr>\n",
       "    <tr>\n",
       "      <th>ExtraTreeClassifier</th>\n",
       "      <td>0.87</td>\n",
       "      <td>0.52</td>\n",
       "      <td>0.52</td>\n",
       "      <td>0.88</td>\n",
       "      <td>0.04</td>\n",
       "    </tr>\n",
       "    <tr>\n",
       "      <th>LGBMClassifier</th>\n",
       "      <td>0.94</td>\n",
       "      <td>0.52</td>\n",
       "      <td>0.52</td>\n",
       "      <td>0.91</td>\n",
       "      <td>0.97</td>\n",
       "    </tr>\n",
       "    <tr>\n",
       "      <th>KNeighborsClassifier</th>\n",
       "      <td>0.93</td>\n",
       "      <td>0.51</td>\n",
       "      <td>0.51</td>\n",
       "      <td>0.91</td>\n",
       "      <td>0.18</td>\n",
       "    </tr>\n",
       "    <tr>\n",
       "      <th>RidgeClassifier</th>\n",
       "      <td>0.93</td>\n",
       "      <td>0.51</td>\n",
       "      <td>0.51</td>\n",
       "      <td>0.91</td>\n",
       "      <td>0.04</td>\n",
       "    </tr>\n",
       "    <tr>\n",
       "      <th>RidgeClassifierCV</th>\n",
       "      <td>0.93</td>\n",
       "      <td>0.51</td>\n",
       "      <td>0.51</td>\n",
       "      <td>0.91</td>\n",
       "      <td>0.05</td>\n",
       "    </tr>\n",
       "    <tr>\n",
       "      <th>BaggingClassifier</th>\n",
       "      <td>0.92</td>\n",
       "      <td>0.51</td>\n",
       "      <td>0.51</td>\n",
       "      <td>0.90</td>\n",
       "      <td>0.89</td>\n",
       "    </tr>\n",
       "    <tr>\n",
       "      <th>LabelPropagation</th>\n",
       "      <td>0.07</td>\n",
       "      <td>0.50</td>\n",
       "      <td>0.50</td>\n",
       "      <td>0.01</td>\n",
       "      <td>1.39</td>\n",
       "    </tr>\n",
       "    <tr>\n",
       "      <th>LabelSpreading</th>\n",
       "      <td>0.07</td>\n",
       "      <td>0.50</td>\n",
       "      <td>0.50</td>\n",
       "      <td>0.01</td>\n",
       "      <td>0.21</td>\n",
       "    </tr>\n",
       "    <tr>\n",
       "      <th>SVC</th>\n",
       "      <td>0.93</td>\n",
       "      <td>0.50</td>\n",
       "      <td>0.50</td>\n",
       "      <td>0.90</td>\n",
       "      <td>0.13</td>\n",
       "    </tr>\n",
       "    <tr>\n",
       "      <th>ExtraTreesClassifier</th>\n",
       "      <td>0.93</td>\n",
       "      <td>0.50</td>\n",
       "      <td>0.50</td>\n",
       "      <td>0.90</td>\n",
       "      <td>0.38</td>\n",
       "    </tr>\n",
       "    <tr>\n",
       "      <th>QuadraticDiscriminantAnalysis</th>\n",
       "      <td>0.93</td>\n",
       "      <td>0.50</td>\n",
       "      <td>0.50</td>\n",
       "      <td>0.90</td>\n",
       "      <td>0.05</td>\n",
       "    </tr>\n",
       "    <tr>\n",
       "      <th>RandomForestClassifier</th>\n",
       "      <td>0.93</td>\n",
       "      <td>0.50</td>\n",
       "      <td>0.50</td>\n",
       "      <td>0.90</td>\n",
       "      <td>0.96</td>\n",
       "    </tr>\n",
       "    <tr>\n",
       "      <th>DummyClassifier</th>\n",
       "      <td>0.87</td>\n",
       "      <td>0.50</td>\n",
       "      <td>0.50</td>\n",
       "      <td>0.87</td>\n",
       "      <td>0.04</td>\n",
       "    </tr>\n",
       "    <tr>\n",
       "      <th>XGBClassifier</th>\n",
       "      <td>0.93</td>\n",
       "      <td>0.50</td>\n",
       "      <td>0.50</td>\n",
       "      <td>0.90</td>\n",
       "      <td>0.61</td>\n",
       "    </tr>\n",
       "  </tbody>\n",
       "</table>\n",
       "</div>"
      ],
      "text/plain": [
       "                               Accuracy  Balanced Accuracy  ROC AUC  F1 Score  \\\n",
       "Model                                                                           \n",
       "NearestCentroid                    0.80               0.65     0.65      0.84   \n",
       "PassiveAggressiveClassifier        0.86               0.61     0.61      0.88   \n",
       "BernoulliNB                        0.86               0.61     0.61      0.87   \n",
       "LinearDiscriminantAnalysis         0.93               0.60     0.60      0.92   \n",
       "GaussianNB                         0.89               0.59     0.59      0.89   \n",
       "SGDClassifier                      0.90               0.57     0.57      0.90   \n",
       "LogisticRegression                 0.93               0.56     0.56      0.91   \n",
       "AdaBoostClassifier                 0.92               0.55     0.55      0.91   \n",
       "LinearSVC                          0.93               0.54     0.54      0.91   \n",
       "Perceptron                         0.89               0.54     0.54      0.89   \n",
       "CalibratedClassifierCV             0.94               0.53     0.53      0.91   \n",
       "DecisionTreeClassifier             0.88               0.53     0.53      0.88   \n",
       "ExtraTreeClassifier                0.87               0.52     0.52      0.88   \n",
       "LGBMClassifier                     0.94               0.52     0.52      0.91   \n",
       "KNeighborsClassifier               0.93               0.51     0.51      0.91   \n",
       "RidgeClassifier                    0.93               0.51     0.51      0.91   \n",
       "RidgeClassifierCV                  0.93               0.51     0.51      0.91   \n",
       "BaggingClassifier                  0.92               0.51     0.51      0.90   \n",
       "LabelPropagation                   0.07               0.50     0.50      0.01   \n",
       "LabelSpreading                     0.07               0.50     0.50      0.01   \n",
       "SVC                                0.93               0.50     0.50      0.90   \n",
       "ExtraTreesClassifier               0.93               0.50     0.50      0.90   \n",
       "QuadraticDiscriminantAnalysis      0.93               0.50     0.50      0.90   \n",
       "RandomForestClassifier             0.93               0.50     0.50      0.90   \n",
       "DummyClassifier                    0.87               0.50     0.50      0.87   \n",
       "XGBClassifier                      0.93               0.50     0.50      0.90   \n",
       "\n",
       "                               Time Taken  \n",
       "Model                                      \n",
       "NearestCentroid                      0.04  \n",
       "PassiveAggressiveClassifier          0.05  \n",
       "BernoulliNB                          0.05  \n",
       "LinearDiscriminantAnalysis           0.06  \n",
       "GaussianNB                           0.03  \n",
       "SGDClassifier                        0.04  \n",
       "LogisticRegression                   0.13  \n",
       "AdaBoostClassifier                   0.67  \n",
       "LinearSVC                            0.21  \n",
       "Perceptron                           0.04  \n",
       "CalibratedClassifierCV               0.61  \n",
       "DecisionTreeClassifier               0.15  \n",
       "ExtraTreeClassifier                  0.04  \n",
       "LGBMClassifier                       0.97  \n",
       "KNeighborsClassifier                 0.18  \n",
       "RidgeClassifier                      0.04  \n",
       "RidgeClassifierCV                    0.05  \n",
       "BaggingClassifier                    0.89  \n",
       "LabelPropagation                     1.39  \n",
       "LabelSpreading                       0.21  \n",
       "SVC                                  0.13  \n",
       "ExtraTreesClassifier                 0.38  \n",
       "QuadraticDiscriminantAnalysis        0.05  \n",
       "RandomForestClassifier               0.96  \n",
       "DummyClassifier                      0.04  \n",
       "XGBClassifier                        0.61  "
      ]
     },
     "execution_count": 36,
     "metadata": {},
     "output_type": "execute_result"
    }
   ],
   "source": [
    "# describes info about train and test set\n",
    "print(\"Number transactions X_train dataset: \", X_train.shape)\n",
    "print(\"Number transactions y_train dataset: \", y_train.shape)\n",
    "print(\"Number transactions X_test dataset: \", X_test.shape)\n",
    "print(\"Number transactions y_test dataset: \", y_test.shape)\n",
    "\n",
    "classification=LazyClassifier(verbose=0,predictions=True)\n",
    "models_c,predictions_c=classification.fit(X_train, X_test, y_train, y_test)\n",
    "models_c"
   ]
  },
  {
   "cell_type": "code",
   "execution_count": 37,
   "metadata": {},
   "outputs": [],
   "source": [
    "# THE LAZYPREDICT CLASSIFIER HAS GIVEN THE LIST OF ALGORITHMS PREDICTED USING IMBALANCED DATASET."
   ]
  },
  {
   "cell_type": "code",
   "execution_count": 38,
   "metadata": {},
   "outputs": [],
   "source": [
    "#INORDER TO HANDLE THE IMBALANCED DATASET, WE WILL CHOOSE OVERSAMPLING METHODS : SMOTE, ADASYN, RANDOM OVER SAMPLING ALONG WITH \n",
    "# SUPERVISED LEARING ALGORITHMS LOGISTIC REGRESSION,SVM AND COMPARE THEIR PERFORMANCES."
   ]
  },
  {
   "cell_type": "markdown",
   "metadata": {},
   "source": [
    "# SMOTE - LOGISTIC REGRESSION, SVM"
   ]
  },
  {
   "cell_type": "code",
   "execution_count": 39,
   "metadata": {},
   "outputs": [
    {
     "name": "stdout",
     "output_type": "stream",
     "text": [
      "After OverSampling, the shape of X_train_res: (2046, 62)\n",
      "After OverSampling, the shape of y_train_res: (2046,) \n",
      "\n",
      "After OverSampling, counts of label '-1': 1023\n",
      "After OverSampling, counts of label '1': 1023\n"
     ]
    }
   ],
   "source": [
    "# import SMOTE module from imblearn library\n",
    "\n",
    "from imblearn.over_sampling import SMOTE\n",
    "sm = SMOTE(random_state = 2)\n",
    "X_train_res, y_train_res = sm.fit_resample(X_train, y_train.ravel())\n",
    "\n",
    "print('After OverSampling, the shape of X_train_res: {}'.format(X_train_res.shape))\n",
    "print('After OverSampling, the shape of y_train_res: {} \\n'.format(y_train_res.shape))\n",
    "\n",
    "print(\"After OverSampling, counts of label '-1': {}\".format(sum(y_train_res == -1)))\n",
    "print(\"After OverSampling, counts of label '1': {}\".format(sum(y_train_res == 1)))"
   ]
  },
  {
   "cell_type": "markdown",
   "metadata": {},
   "source": [
    "#### LOGISTIC REGRESSION"
   ]
  },
  {
   "cell_type": "code",
   "execution_count": 40,
   "metadata": {},
   "outputs": [
    {
     "name": "stdout",
     "output_type": "stream",
     "text": [
      "              precision    recall  f1-score   support\n",
      "\n",
      "          -1       0.95      0.84      0.89       440\n",
      "           1       0.15      0.42      0.22        31\n",
      "\n",
      "    accuracy                           0.81       471\n",
      "   macro avg       0.55      0.63      0.56       471\n",
      "weighted avg       0.90      0.81      0.85       471\n",
      "\n",
      "[[368  72]\n",
      " [ 18  13]]\n"
     ]
    }
   ],
   "source": [
    "lr1 = LogisticRegression()\n",
    "lr1.fit(X_train_res, y_train_res.ravel())\n",
    "predictions = lr1.predict(X_test)\n",
    "\n",
    "# print classification report\n",
    "print(classification_report(y_test, predictions))\n",
    "print(confusion_matrix(y_test, predictions))"
   ]
  },
  {
   "cell_type": "markdown",
   "metadata": {},
   "source": [
    "#### It can be seen that  368 has been identified correctly and 72 has been wrongly identified as 1\n",
    "#### It can be seen that  18 has been identified correctly and 13 has been wrongly identified as -1"
   ]
  },
  {
   "cell_type": "code",
   "execution_count": 41,
   "metadata": {},
   "outputs": [
    {
     "data": {
      "image/png": "[encoded data removed]",
      "text/plain": [
       "<Figure size 576x432 with 2 Axes>"
      ]
     },
     "metadata": {
      "needs_background": "light"
     },
     "output_type": "display_data"
    }
   ],
   "source": [
    "#visualization of confusion matrix in the form of a heatmap\n",
    "cm= confusion_matrix(y_test, predictions)\n",
    "plt.figure(figsize = (8, 6))\n",
    "sns.heatmap(cm, annot = True, cmap = 'RdYlGn', fmt = 'd')\n",
    "plt.xlabel('Actual Classes', fontsize = 15)\n",
    "plt.ylabel('Predicted Classes', fontsize = 15)\n",
    "plt.title('Confusion Matrix for SVM', fontsize = 15);"
   ]
  },
  {
   "cell_type": "code",
   "execution_count": 42,
   "metadata": {},
   "outputs": [],
   "source": [
    "# The accuracy is 81%, where the recall is great."
   ]
  },
  {
   "cell_type": "markdown",
   "metadata": {},
   "source": [
    "#### SVM"
   ]
  },
  {
   "cell_type": "code",
   "execution_count": 43,
   "metadata": {},
   "outputs": [
    {
     "name": "stdout",
     "output_type": "stream",
     "text": [
      "              precision    recall  f1-score   support\n",
      "\n",
      "          -1       0.94      0.95      0.94       440\n",
      "           1       0.12      0.10      0.11        31\n",
      "\n",
      "    accuracy                           0.89       471\n",
      "   macro avg       0.53      0.52      0.52       471\n",
      "weighted avg       0.88      0.89      0.89       471\n",
      "\n",
      "[[417  23]\n",
      " [ 28   3]]\n"
     ]
    }
   ],
   "source": [
    "from sklearn import svm\n",
    "clf = svm.SVC()\n",
    "clf.fit(X_train_res, y_train_res.ravel())\n",
    "predictions = clf.predict(X_test)\n",
    "\n",
    "# print classification report\n",
    "print(classification_report(y_test, predictions))\n",
    "print(confusion_matrix(y_test, predictions))"
   ]
  },
  {
   "cell_type": "code",
   "execution_count": 44,
   "metadata": {},
   "outputs": [],
   "source": [
    "# The accuracy is 89%, where the recall is great."
   ]
  },
  {
   "cell_type": "markdown",
   "metadata": {},
   "source": [
    "#### It can be seen that  417 has been identified correctly and 23 has been wrongly identified as 1\n",
    "#### It can be seen that  28 has been identified correctly and 3 has been wrongly identified as -1"
   ]
  },
  {
   "cell_type": "code",
   "execution_count": 45,
   "metadata": {},
   "outputs": [
    {
     "data": {
      "image/png": "[encoded data removed]",
      "text/plain": [
       "<Figure size 576x432 with 2 Axes>"
      ]
     },
     "metadata": {
      "needs_background": "light"
     },
     "output_type": "display_data"
    }
   ],
   "source": [
    "#visualization of confusion matrix in the form of a heatmap\n",
    "cm= confusion_matrix(y_test, predictions)\n",
    "plt.figure(figsize = (8, 6))\n",
    "sns.heatmap(cm, annot = True, cmap = 'RdYlGn', fmt = 'd')\n",
    "plt.xlabel('Actual Classes', fontsize = 15)\n",
    "plt.ylabel('Predicted Classes', fontsize = 15)\n",
    "plt.title('Confusion Matrix for SVM', fontsize = 15);"
   ]
  },
  {
   "cell_type": "code",
   "execution_count": 46,
   "metadata": {},
   "outputs": [],
   "source": [
    "# On comparing, Logistic Regression and SVM, we can see that SVm has performed better."
   ]
  },
  {
   "cell_type": "markdown",
   "metadata": {},
   "source": [
    "# ADASYN - LOGISTIC REGRESSION, SVM"
   ]
  },
  {
   "cell_type": "code",
   "execution_count": 47,
   "metadata": {},
   "outputs": [],
   "source": [
    "from imblearn.over_sampling import ADASYN \n",
    "ada = ADASYN(random_state=42)\n",
    "X_res, y_res = ada.fit_resample(X_train, y_train.ravel())"
   ]
  },
  {
   "cell_type": "code",
   "execution_count": 48,
   "metadata": {},
   "outputs": [
    {
     "name": "stdout",
     "output_type": "stream",
     "text": [
      "              precision    recall  f1-score   support\n",
      "\n",
      "          -1       0.96      0.82      0.88       440\n",
      "           1       0.17      0.52      0.25        31\n",
      "\n",
      "    accuracy                           0.80       471\n",
      "   macro avg       0.56      0.67      0.57       471\n",
      "weighted avg       0.91      0.80      0.84       471\n",
      "\n",
      "[[361  79]\n",
      " [ 15  16]]\n"
     ]
    }
   ],
   "source": [
    "lrAD= LogisticRegression()\n",
    "lrAD.fit(X_res, y_res.ravel())\n",
    "predictions = lrAD.predict(X_test)\n",
    "\n",
    "# print classification report\n",
    "print(classification_report(y_test, predictions))\n",
    "print(confusion_matrix(y_test, predictions))"
   ]
  },
  {
   "cell_type": "code",
   "execution_count": 49,
   "metadata": {},
   "outputs": [],
   "source": [
    "#### It can be seen that  361 has been identified correctly and 79 has been wrongly identified as 1\n",
    "#### It can be seen that  15 has been identified correctly and 16 has been wrongly identified as -1"
   ]
  },
  {
   "cell_type": "code",
   "execution_count": 50,
   "metadata": {},
   "outputs": [
    {
     "name": "stdout",
     "output_type": "stream",
     "text": [
      "              precision    recall  f1-score   support\n",
      "\n",
      "          -1       0.94      0.95      0.95       440\n",
      "           1       0.13      0.10      0.11        31\n",
      "\n",
      "    accuracy                           0.90       471\n",
      "   macro avg       0.53      0.53      0.53       471\n",
      "weighted avg       0.88      0.90      0.89       471\n",
      "\n",
      "[[420  20]\n",
      " [ 28   3]]\n"
     ]
    }
   ],
   "source": [
    "#SVM\n",
    "from sklearn import svm\n",
    "clfRS = svm.SVC()\n",
    "clfRS.fit(X_res, y_res.ravel())\n",
    "predictions = clfRS.predict(X_test)\n",
    "\n",
    "# print classification report\n",
    "print(classification_report(y_test, predictions))\n",
    "print(confusion_matrix(y_test, predictions))"
   ]
  },
  {
   "cell_type": "code",
   "execution_count": 51,
   "metadata": {},
   "outputs": [],
   "source": [
    "#### It can be seen that  420 has been identified correctly and 20 has been wrongly identified as 1\n",
    "#### It can be seen that  28 has been identified correctly and 3 has been wrongly identified as -1"
   ]
  },
  {
   "cell_type": "markdown",
   "metadata": {},
   "source": [
    "# RANDOM OVER SAMPLING - LOGISTIC REGRESSION, SVM"
   ]
  },
  {
   "cell_type": "code",
   "execution_count": 52,
   "metadata": {},
   "outputs": [
    {
     "data": {
      "text/plain": [
       "((2046, 62), (2046,))"
      ]
     },
     "execution_count": 52,
     "metadata": {},
     "output_type": "execute_result"
    }
   ],
   "source": [
    "from imblearn.over_sampling import RandomOverSampler\n",
    "os =  RandomOverSampler()\n",
    "\n",
    "X_train_res, y_tr_res = os.fit_resample(X_train, y_train.ravel())\n",
    "X_train_res.shape,y_tr_res.shape"
   ]
  },
  {
   "cell_type": "code",
   "execution_count": 53,
   "metadata": {},
   "outputs": [
    {
     "name": "stdout",
     "output_type": "stream",
     "text": [
      "              precision    recall  f1-score   support\n",
      "\n",
      "          -1       0.96      0.82      0.88       440\n",
      "           1       0.15      0.45      0.23        31\n",
      "\n",
      "    accuracy                           0.80       471\n",
      "   macro avg       0.55      0.64      0.56       471\n",
      "weighted avg       0.90      0.80      0.84       471\n",
      "\n",
      "[[362  78]\n",
      " [ 17  14]]\n"
     ]
    }
   ],
   "source": [
    "#lOGISTIC REGRESSION\n",
    "lrRS = LogisticRegression()\n",
    "lrRS.fit(X_train_res, y_tr_res.ravel())\n",
    "predictions = lrRS.predict(X_test)\n",
    "\n",
    "# print classification report\n",
    "print(classification_report(y_test, predictions))\n",
    "print(confusion_matrix(y_test, predictions))"
   ]
  },
  {
   "cell_type": "code",
   "execution_count": 54,
   "metadata": {},
   "outputs": [],
   "source": [
    "#### It can be seen that  367 has been identified correctly and 73 has been wrongly identified as 1\n",
    "#### It can be seen that  17 has been identified correctly and 14 has been wrongly identified as 1"
   ]
  },
  {
   "cell_type": "code",
   "execution_count": 55,
   "metadata": {},
   "outputs": [
    {
     "name": "stdout",
     "output_type": "stream",
     "text": [
      "              precision    recall  f1-score   support\n",
      "\n",
      "          -1       0.94      0.94      0.94       440\n",
      "           1       0.18      0.19      0.19        31\n",
      "\n",
      "    accuracy                           0.89       471\n",
      "   macro avg       0.56      0.57      0.56       471\n",
      "weighted avg       0.89      0.89      0.89       471\n",
      "\n",
      "[[413  27]\n",
      " [ 25   6]]\n"
     ]
    }
   ],
   "source": [
    "#SVM\n",
    "from sklearn import svm\n",
    "clfRS = svm.SVC()\n",
    "clfRS.fit(X_train_res, y_train_res.ravel())\n",
    "predictions = clfRS.predict(X_test)\n",
    "\n",
    "# print classification report\n",
    "print(classification_report(y_test, predictions))\n",
    "print(confusion_matrix(y_test, predictions))"
   ]
  },
  {
   "cell_type": "code",
   "execution_count": 56,
   "metadata": {},
   "outputs": [],
   "source": [
    "#### It can be seen that  410 has been identified correctly and 30 has been wrongly identified as 1\n",
    "#### It can be seen that  25 has been identified correctly and 6 has been wrongly identified as -1"
   ]
  },
  {
   "cell_type": "code",
   "execution_count": 57,
   "metadata": {},
   "outputs": [],
   "source": [
    "#ADASYN-SVM HAS PERFORMED BETTER WITH ACCURACY 90%"
   ]
  },
  {
   "cell_type": "markdown",
   "metadata": {},
   "source": [
    "# CROSS VALIDATION - K-FOLD,STRATIFIED-KFOLD"
   ]
  },
  {
   "cell_type": "markdown",
   "metadata": {},
   "source": [
    "# K-FOLD"
   ]
  },
  {
   "cell_type": "code",
   "execution_count": 58,
   "metadata": {},
   "outputs": [],
   "source": [
    "from sklearn.model_selection import train_test_split\n",
    "from sklearn.model_selection import KFold\n",
    "from sklearn.model_selection import cross_val_score\n",
    "from statistics import mean, stdev"
   ]
  },
  {
   "cell_type": "code",
   "execution_count": 59,
   "metadata": {},
   "outputs": [],
   "source": [
    "X_train, X_test, Y_train, Y_test = train_test_split(X_std, y, test_size=0.30, random_state=1)\n",
    "kfolds = KFold(n_splits=10, random_state=7)\n",
    "lrfold = LogisticRegression()\n",
    "clfSVM = svm.SVC()"
   ]
  },
  {
   "cell_type": "code",
   "execution_count": 60,
   "metadata": {},
   "outputs": [
    {
     "name": "stdout",
     "output_type": "stream",
     "text": [
      "List of possible accuracy: [0.802547770700637, 0.7961783439490446, 0.89171974522293, 0.9617834394904459, 0.9872611464968153, 0.9426751592356688, 0.9872611464968153, 0.9358974358974359, 0.9230769230769231, 0.9807692307692307]\n",
      "\n",
      "Maximum Accuracy is: 98.72611464968153 %\n",
      "\n",
      "Overall Accuracy: 92.09170341335945 %\n",
      "List of possible accuracy-SVM: [0.8726114649681529, 0.8471337579617835, 0.910828025477707, 0.9554140127388535, 0.9872611464968153, 0.9426751592356688, 0.9872611464968153, 0.9358974358974359, 0.9166666666666666, 0.9807692307692307]\n",
      "\n",
      "Maximum Accuracy is-SVM: 98.72611464968153 %\n",
      "\n",
      "Overall Accuracy:-SVM 93.36518046709129 %\n"
     ]
    }
   ],
   "source": [
    "lst_accu_kfold =[]\n",
    "for train_index, test_index in kfolds.split(X_std, y):\n",
    "    x_train_fold, x_test_fold = X_std.iloc[train_index], X_std.iloc[test_index]\n",
    "    y_train_fold, y_test_fold = y.iloc[train_index], y.iloc[test_index]\n",
    "    lrfold.fit(x_train_fold, y_train_fold)\n",
    "    lst_accu_kfold.append(lrfold.score(x_test_fold, y_test_fold))\n",
    "    \n",
    "lst_accu_kfold_SVM =[]\n",
    "for train_index, test_index in kfolds.split(X_std, y):\n",
    "    x_train_fold, x_test_fold = X_std.iloc[train_index], X_std.iloc[test_index]\n",
    "    y_train_fold, y_test_fold = y.iloc[train_index], y.iloc[test_index]\n",
    "    clfSVM.fit(x_train_fold, y_train_fold)\n",
    "    lst_accu_kfold_SVM.append(clfSVM.score(x_test_fold, y_test_fold))\n",
    "    \n",
    "print('List of possible accuracy:', lst_accu_kfold)\n",
    "print('\\nMaximum Accuracy is:',max(lst_accu_kfold)*100, '%')\n",
    "print('\\nOverall Accuracy:', mean(lst_accu_kfold)*100, '%')\n",
    "\n",
    "print('List of possible accuracy-SVM:', lst_accu_kfold_SVM)\n",
    "print('\\nMaximum Accuracy is-SVM:',max(lst_accu_kfold_SVM)*100, '%')\n",
    "print('\\nOverall Accuracy:-SVM', mean(lst_accu_kfold_SVM)*100, '%')"
   ]
  },
  {
   "cell_type": "markdown",
   "metadata": {},
   "source": [
    "# STRATIFIED-KFOLD"
   ]
  },
  {
   "cell_type": "code",
   "execution_count": 61,
   "metadata": {},
   "outputs": [],
   "source": [
    "from sklearn.model_selection import train_test_split\n",
    "from sklearn.model_selection import StratifiedKFold\n",
    "from sklearn.model_selection import cross_val_score\n",
    "from statistics import mean, stdev"
   ]
  },
  {
   "cell_type": "code",
   "execution_count": 62,
   "metadata": {},
   "outputs": [],
   "source": [
    "X_train, X_test, Y_train, Y_test = train_test_split(X_std, y, test_size=0.30, random_state=1)\n",
    "Skfolds = StratifiedKFold(n_splits=10, random_state=7)\n",
    "lrfold = LogisticRegression()\n",
    "clfSVM = svm.SVC()"
   ]
  },
  {
   "cell_type": "code",
   "execution_count": 63,
   "metadata": {},
   "outputs": [
    {
     "name": "stdout",
     "output_type": "stream",
     "text": [
      "List of possible accuracy: [0.5987261146496815, 0.8343949044585988, 0.910828025477707, 0.9299363057324841, 0.9235668789808917, 0.9363057324840764, 0.9363057324840764, 0.9358974358974359, 0.9358974358974359, 0.9423076923076923]\n",
      "\n",
      "Maximum Accuracy is: 94.23076923076923 %\n",
      "\n",
      "Overall Accuracy: 88.8416625837008 %\n",
      "List of possible accuracy-SVM: [0.9363057324840764, 0.9363057324840764, 0.9363057324840764, 0.9299363057324841, 0.9299363057324841, 0.9299363057324841, 0.9299363057324841, 0.9358974358974359, 0.9358974358974359, 0.9358974358974359]\n",
      "\n",
      "Maximum Accuracy is-SVM: 93.63057324840764 %\n",
      "\n",
      "Overall Accuracy:-SVM 93.36354728074473 %\n"
     ]
    }
   ],
   "source": [
    "lst_accu_Skfold =[]\n",
    "for train_index, test_index in Skfolds.split(X_std, y):\n",
    "    x_train_fold, x_test_fold = X_std.iloc[train_index], X_std.iloc[test_index]\n",
    "    y_train_fold, y_test_fold = y.iloc[train_index], y.iloc[test_index]\n",
    "    lrfold.fit(x_train_fold, y_train_fold)\n",
    "    lst_accu_Skfold.append(lrfold.score(x_test_fold, y_test_fold))\n",
    "    \n",
    "lst_accu_Skfold_SVM =[]\n",
    "for train_index, test_index in Skfolds.split(X_std, y):\n",
    "    x_train_fold, x_test_fold = X_std.iloc[train_index], X_std.iloc[test_index]\n",
    "    y_train_fold, y_test_fold = y.iloc[train_index], y.iloc[test_index]\n",
    "    clfSVM.fit(x_train_fold, y_train_fold)\n",
    "    lst_accu_Skfold_SVM.append(clfSVM.score(x_test_fold, y_test_fold))\n",
    "    \n",
    "print('List of possible accuracy:', lst_accu_Skfold)\n",
    "print('\\nMaximum Accuracy is:',max(lst_accu_Skfold)*100, '%')\n",
    "print('\\nOverall Accuracy:', mean(lst_accu_Skfold)*100, '%')\n",
    "\n",
    "print('List of possible accuracy-SVM:', lst_accu_Skfold_SVM)\n",
    "print('\\nMaximum Accuracy is-SVM:',max(lst_accu_Skfold_SVM)*100, '%')\n",
    "print('\\nOverall Accuracy:-SVM', mean(lst_accu_Skfold_SVM)*100, '%')"
   ]
  },
  {
   "cell_type": "markdown",
   "metadata": {},
   "source": [
    "# HYPER PARAMETER TUNING"
   ]
  },
  {
   "cell_type": "markdown",
   "metadata": {},
   "source": [
    "# GRIDSEARCH CV"
   ]
  },
  {
   "cell_type": "code",
   "execution_count": 64,
   "metadata": {},
   "outputs": [],
   "source": [
    "from sklearn.model_selection import GridSearchCV"
   ]
  },
  {
   "cell_type": "code",
   "execution_count": 65,
   "metadata": {},
   "outputs": [],
   "source": [
    "X_grid, X_test_grid, y_train_grid, y_test_grid = train_test_split(X_std, y, test_size = 0.4, random_state = 42)"
   ]
  },
  {
   "cell_type": "code",
   "execution_count": 66,
   "metadata": {},
   "outputs": [
    {
     "name": "stdout",
     "output_type": "stream",
     "text": [
      "{'C': 0.1}\n",
      "0.9287234042553191\n"
     ]
    }
   ],
   "source": [
    "parameters = {'C':[0.1, 1, 10, 100, 1000]}\n",
    "clf = GridSearchCV(LogisticRegression(), parameters)\n",
    "clf.fit(X_grid, y_train_grid)\n",
    "print(clf.best_params_)\n",
    "\n",
    "print(clf.best_score_)"
   ]
  },
  {
   "cell_type": "code",
   "execution_count": 67,
   "metadata": {},
   "outputs": [
    {
     "name": "stdout",
     "output_type": "stream",
     "text": [
      "              precision    recall  f1-score   support\n",
      "\n",
      "          -1       0.94      0.99      0.96       586\n",
      "           1       0.40      0.10      0.16        41\n",
      "\n",
      "    accuracy                           0.93       627\n",
      "   macro avg       0.67      0.54      0.56       627\n",
      "weighted avg       0.90      0.93      0.91       627\n",
      "\n"
     ]
    }
   ],
   "source": [
    "grid_predictions = clf.predict(X_test_grid)\n",
    "# print classification report\n",
    "print(classification_report(y_test_grid, grid_predictions))"
   ]
  },
  {
   "cell_type": "code",
   "execution_count": 68,
   "metadata": {},
   "outputs": [
    {
     "name": "stdout",
     "output_type": "stream",
     "text": [
      "{'C': 0.1}\n",
      "0.9329787234042554\n"
     ]
    }
   ],
   "source": [
    "parameters = {'C':[0.1, 1, 10, 100, 1000]}\n",
    "clf = GridSearchCV(SVC(), parameters)\n",
    "clf.fit(X_grid, y_train_grid)\n",
    "print(clf.best_params_)\n",
    "print(clf.best_score_)"
   ]
  },
  {
   "cell_type": "code",
   "execution_count": 69,
   "metadata": {},
   "outputs": [
    {
     "name": "stdout",
     "output_type": "stream",
     "text": [
      "              precision    recall  f1-score   support\n",
      "\n",
      "          -1       0.93      1.00      0.97       586\n",
      "           1       0.00      0.00      0.00        41\n",
      "\n",
      "    accuracy                           0.93       627\n",
      "   macro avg       0.47      0.50      0.48       627\n",
      "weighted avg       0.87      0.93      0.90       627\n",
      "\n"
     ]
    }
   ],
   "source": [
    "grid_predictions = clf.predict(X_test_grid)\n",
    "# print classification report\n",
    "print(classification_report(y_test_grid, grid_predictions))"
   ]
  },
  {
   "cell_type": "code",
   "execution_count": null,
   "metadata": {},
   "outputs": [],
   "source": []
  },
  {
   "cell_type": "markdown",
   "metadata": {},
   "source": [
    "# PCA"
   ]
  },
  {
   "cell_type": "code",
   "execution_count": 70,
   "metadata": {},
   "outputs": [
    {
     "data": {
      "text/html": [
       "<div>\n",
       "<style scoped>\n",
       "    .dataframe tbody tr th:only-of-type {\n",
       "        vertical-align: middle;\n",
       "    }\n",
       "\n",
       "    .dataframe tbody tr th {\n",
       "        vertical-align: top;\n",
       "    }\n",
       "\n",
       "    .dataframe thead th {\n",
       "        text-align: right;\n",
       "    }\n",
       "</style>\n",
       "<table border=\"1\" class=\"dataframe\">\n",
       "  <thead>\n",
       "    <tr style=\"text-align: right;\">\n",
       "      <th></th>\n",
       "      <th>14</th>\n",
       "      <th>21</th>\n",
       "      <th>22</th>\n",
       "      <th>26</th>\n",
       "      <th>28</th>\n",
       "      <th>32</th>\n",
       "      <th>33</th>\n",
       "      <th>38</th>\n",
       "      <th>40</th>\n",
       "      <th>56</th>\n",
       "      <th>...</th>\n",
       "      <th>460</th>\n",
       "      <th>468</th>\n",
       "      <th>471</th>\n",
       "      <th>510</th>\n",
       "      <th>511</th>\n",
       "      <th>542</th>\n",
       "      <th>543</th>\n",
       "      <th>551</th>\n",
       "      <th>573</th>\n",
       "      <th>589</th>\n",
       "    </tr>\n",
       "  </thead>\n",
       "  <tbody>\n",
       "    <tr>\n",
       "      <th>0</th>\n",
       "      <td>-0.38</td>\n",
       "      <td>0.32</td>\n",
       "      <td>0.74</td>\n",
       "      <td>-0.87</td>\n",
       "      <td>-1.52</td>\n",
       "      <td>-0.96</td>\n",
       "      <td>0.41</td>\n",
       "      <td>0.27</td>\n",
       "      <td>-0.28</td>\n",
       "      <td>0.42</td>\n",
       "      <td>...</td>\n",
       "      <td>0.06</td>\n",
       "      <td>0.38</td>\n",
       "      <td>0.01</td>\n",
       "      <td>0.24</td>\n",
       "      <td>-0.84</td>\n",
       "      <td>-0.59</td>\n",
       "      <td>-0.44</td>\n",
       "      <td>-0.36</td>\n",
       "      <td>-0.12</td>\n",
       "      <td>-0.00</td>\n",
       "    </tr>\n",
       "    <tr>\n",
       "      <th>1</th>\n",
       "      <td>0.41</td>\n",
       "      <td>0.28</td>\n",
       "      <td>-0.32</td>\n",
       "      <td>0.40</td>\n",
       "      <td>-0.31</td>\n",
       "      <td>-0.21</td>\n",
       "      <td>0.62</td>\n",
       "      <td>1.54</td>\n",
       "      <td>0.43</td>\n",
       "      <td>0.52</td>\n",
       "      <td>...</td>\n",
       "      <td>0.84</td>\n",
       "      <td>1.04</td>\n",
       "      <td>0.06</td>\n",
       "      <td>2.28</td>\n",
       "      <td>-0.84</td>\n",
       "      <td>-0.59</td>\n",
       "      <td>-0.44</td>\n",
       "      <td>0.08</td>\n",
       "      <td>-0.32</td>\n",
       "      <td>1.16</td>\n",
       "    </tr>\n",
       "    <tr>\n",
       "      <th>2</th>\n",
       "      <td>0.18</td>\n",
       "      <td>0.27</td>\n",
       "      <td>0.01</td>\n",
       "      <td>0.48</td>\n",
       "      <td>-0.68</td>\n",
       "      <td>-0.29</td>\n",
       "      <td>-0.22</td>\n",
       "      <td>-4.71</td>\n",
       "      <td>-2.24</td>\n",
       "      <td>-2.20</td>\n",
       "      <td>...</td>\n",
       "      <td>0.24</td>\n",
       "      <td>-0.88</td>\n",
       "      <td>-0.12</td>\n",
       "      <td>4.91</td>\n",
       "      <td>-0.10</td>\n",
       "      <td>-0.59</td>\n",
       "      <td>-0.44</td>\n",
       "      <td>-0.31</td>\n",
       "      <td>-0.63</td>\n",
       "      <td>-0.18</td>\n",
       "    </tr>\n",
       "    <tr>\n",
       "      <th>3</th>\n",
       "      <td>0.21</td>\n",
       "      <td>0.24</td>\n",
       "      <td>-0.17</td>\n",
       "      <td>0.35</td>\n",
       "      <td>-1.90</td>\n",
       "      <td>-0.21</td>\n",
       "      <td>-0.21</td>\n",
       "      <td>-0.34</td>\n",
       "      <td>0.38</td>\n",
       "      <td>-2.20</td>\n",
       "      <td>...</td>\n",
       "      <td>-0.11</td>\n",
       "      <td>-0.87</td>\n",
       "      <td>-0.05</td>\n",
       "      <td>1.53</td>\n",
       "      <td>-0.84</td>\n",
       "      <td>-0.59</td>\n",
       "      <td>-0.44</td>\n",
       "      <td>30.66</td>\n",
       "      <td>-0.69</td>\n",
       "      <td>-0.28</td>\n",
       "    </tr>\n",
       "    <tr>\n",
       "      <th>4</th>\n",
       "      <td>0.56</td>\n",
       "      <td>0.23</td>\n",
       "      <td>-0.22</td>\n",
       "      <td>0.28</td>\n",
       "      <td>-1.93</td>\n",
       "      <td>0.49</td>\n",
       "      <td>-0.14</td>\n",
       "      <td>-1.54</td>\n",
       "      <td>0.36</td>\n",
       "      <td>0.14</td>\n",
       "      <td>...</td>\n",
       "      <td>0.13</td>\n",
       "      <td>-0.78</td>\n",
       "      <td>-0.22</td>\n",
       "      <td>2.45</td>\n",
       "      <td>-0.84</td>\n",
       "      <td>-0.59</td>\n",
       "      <td>-0.44</td>\n",
       "      <td>0.60</td>\n",
       "      <td>-0.50</td>\n",
       "      <td>-0.28</td>\n",
       "    </tr>\n",
       "  </tbody>\n",
       "</table>\n",
       "<p>5 rows × 62 columns</p>\n",
       "</div>"
      ],
      "text/plain": [
       "     14   21    22    26    28    32    33    38    40    56  ...   460   468  \\\n",
       "0 -0.38 0.32  0.74 -0.87 -1.52 -0.96  0.41  0.27 -0.28  0.42  ...  0.06  0.38   \n",
       "1  0.41 0.28 -0.32  0.40 -0.31 -0.21  0.62  1.54  0.43  0.52  ...  0.84  1.04   \n",
       "2  0.18 0.27  0.01  0.48 -0.68 -0.29 -0.22 -4.71 -2.24 -2.20  ...  0.24 -0.88   \n",
       "3  0.21 0.24 -0.17  0.35 -1.90 -0.21 -0.21 -0.34  0.38 -2.20  ... -0.11 -0.87   \n",
       "4  0.56 0.23 -0.22  0.28 -1.93  0.49 -0.14 -1.54  0.36  0.14  ...  0.13 -0.78   \n",
       "\n",
       "    471  510   511   542   543   551   573   589  \n",
       "0  0.01 0.24 -0.84 -0.59 -0.44 -0.36 -0.12 -0.00  \n",
       "1  0.06 2.28 -0.84 -0.59 -0.44  0.08 -0.32  1.16  \n",
       "2 -0.12 4.91 -0.10 -0.59 -0.44 -0.31 -0.63 -0.18  \n",
       "3 -0.05 1.53 -0.84 -0.59 -0.44 30.66 -0.69 -0.28  \n",
       "4 -0.22 2.45 -0.84 -0.59 -0.44  0.60 -0.50 -0.28  \n",
       "\n",
       "[5 rows x 62 columns]"
      ]
     },
     "execution_count": 70,
     "metadata": {},
     "output_type": "execute_result"
    }
   ],
   "source": [
    "#Applying Z score to perform scaling.\n",
    "XScaled=X_std.apply(zscore)\n",
    "XScaled.head()"
   ]
  },
  {
   "cell_type": "code",
   "execution_count": 71,
   "metadata": {},
   "outputs": [
    {
     "name": "stdout",
     "output_type": "stream",
     "text": [
      "The shape of the covariance_matrix is:  (62, 62)\n"
     ]
    }
   ],
   "source": [
    "# Let us now calculate the covariance matrix:\n",
    "covariance_matrix = np.cov(XScaled.T)\n",
    "print(\"The shape of the covariance_matrix is: \",covariance_matrix.shape)"
   ]
  },
  {
   "cell_type": "code",
   "execution_count": 72,
   "metadata": {},
   "outputs": [
    {
     "name": "stdout",
     "output_type": "stream",
     "text": [
      "Covariance_matrix [[ 1.00063857 -0.03474152 -0.01391218 ... -0.01834097  0.01407817\n",
      "   0.06820433]\n",
      " [-0.03474152  1.00063857 -0.72638438 ... -0.00540535  0.03122268\n",
      "  -0.03078071]\n",
      " [-0.01391218 -0.72638438  1.00063857 ...  0.00922541 -0.00666637\n",
      "   0.00442182]\n",
      " ...\n",
      " [-0.01834097 -0.00540535  0.00922541 ...  1.00063857 -0.0238507\n",
      "  -0.00443116]\n",
      " [ 0.01407817  0.03122268 -0.00666637 ... -0.0238507   1.00063857\n",
      "  -0.02717037]\n",
      " [ 0.06820433 -0.03078071  0.00442182 ... -0.00443116 -0.02717037\n",
      "   1.00063857]]\n"
     ]
    }
   ],
   "source": [
    "print(\"Covariance_matrix\",covariance_matrix)"
   ]
  },
  {
   "cell_type": "code",
   "execution_count": 73,
   "metadata": {},
   "outputs": [
    {
     "name": "stdout",
     "output_type": "stream",
     "text": [
      "Eigen Vectors \n",
      "%s [[ 6.91760339e-03 -1.53285939e-02  5.09423895e-02 ... -1.21716950e-02\n",
      "  -5.56535458e-03 -4.95357736e-03]\n",
      " [-2.34839320e-01  2.57546905e-02  1.44014561e-01 ...  2.83272325e-01\n",
      "   3.52816383e-02  3.83800202e-01]\n",
      " [ 2.06299099e-01 -3.04849440e-02 -1.86049061e-01 ...  3.46285489e-01\n",
      "   6.02595838e-02  5.45971743e-01]\n",
      " ...\n",
      " [-2.84378897e-03 -9.44956371e-03 -3.16186999e-02 ...  2.16896613e-03\n",
      "   5.22521996e-03  9.03475713e-04]\n",
      " [ 3.78824541e-04 -2.55768799e-02  4.87300746e-02 ... -2.96312051e-03\n",
      "  -1.23040294e-02  5.19071738e-03]\n",
      " [-1.74059589e-02 -3.10467427e-02  2.19133899e-02 ...  1.45189168e-03\n",
      "  -1.77366494e-02 -9.65085330e-03]]\n",
      "\n",
      " Eigen Values \n",
      "%s [7.72199039e+00 6.17526768e+00 4.51572543e+00 3.13526723e+00\n",
      " 2.98960619e+00 2.28496645e+00 2.12849872e+00 1.77835975e+00\n",
      " 1.69084510e+00 1.59576131e+00 1.44330017e+00 1.35520765e+00\n",
      " 1.15420133e+00 1.12007959e+00 1.08693012e+00 1.05037913e+00\n",
      " 1.02591546e+00 1.01249745e+00 1.00796436e+00 9.70911481e-01\n",
      " 9.46731766e-01 9.28670941e-01 9.19848877e-01 9.05427866e-01\n",
      " 8.71692352e-01 8.47215382e-01 8.08379357e-01 7.75724891e-01\n",
      " 7.35449813e-01 7.10187585e-01 6.91104727e-01 6.73285331e-01\n",
      " 5.95864138e-01 5.62248758e-01 5.25322077e-01 5.32556007e-01\n",
      " 4.66911355e-01 4.78177781e-01 4.33697010e-01 3.54221586e-01\n",
      " 3.21891711e-01 3.03491930e-01 2.86249292e-01 2.71096181e-01\n",
      " 5.71807571e-03 1.55124152e-03 1.00461151e-03 3.72369488e-02\n",
      " 3.19566308e-02 4.81492113e-02 5.99791907e-02 2.37885182e-01\n",
      " 2.09289255e-01 2.01400705e-01 1.74850579e-01 1.63638695e-01\n",
      " 9.66640261e-02 1.07554584e-01 1.09277437e-01 1.26786058e-01\n",
      " 1.20508991e-01 1.17018193e-01]\n",
      "Cumulative Variance Explained [ 12.44687501  22.40062801  29.67940812  34.73306365  39.55193193\n",
      "  43.23500979  46.66588138  49.53237311  52.25780224  54.8299683\n",
      "  57.15638623  59.34081012  61.20123715  63.00666424  64.75865856\n",
      "  66.4517373   68.10538368  69.73740192  71.36211339  72.9271003\n",
      "  74.45311255  75.95001303  77.43269346  78.89212904  80.29718721\n",
      "  81.6627916   82.96579722  84.21616795  85.40162033  86.54635318\n",
      "  87.66032688  88.74557795  89.70603583  90.61230994  91.47072309\n",
      "  92.31747605  93.08823835  93.84084059  94.5399055   95.11086604\n",
      "  95.62971489  96.11890563  96.5803034   97.01727626  97.40071719\n",
      "  97.73806508  98.06269763  98.34453472  98.60829966  98.81266281\n",
      "  99.00690811  99.19552668  99.37166814  99.54503257  99.70084279\n",
      "  99.79752168  99.87513214  99.93515341  99.98666347  99.99588029\n",
      "  99.99838069 100.        ]\n"
     ]
    }
   ],
   "source": [
    "# Step 2- Get eigen values and eigen vector\n",
    "eig_vals, eig_vecs = np.linalg.eig(covariance_matrix)\n",
    "print('Eigen Vectors \\n%s', eig_vecs)\n",
    "print('\\n Eigen Values \\n%s', eig_vals)\n",
    "\n",
    "tot = sum(eig_vals)\n",
    "var_exp = [( i /tot ) * 100 for i in sorted(eig_vals, reverse=True)]\n",
    "cum_var_exp = np.cumsum(var_exp)\n",
    "print(\"Cumulative Variance Explained\", cum_var_exp)"
   ]
  },
  {
   "cell_type": "code",
   "execution_count": 74,
   "metadata": {},
   "outputs": [
    {
     "data": {
      "text/plain": [
       "[<matplotlib.lines.Line2D at 0x16972a07f08>]"
      ]
     },
     "execution_count": 74,
     "metadata": {},
     "output_type": "execute_result"
    },
    {
     "data": {
      "image/png": "[encoded data removed]",
      "text/plain": [
       "<Figure size 432x288 with 1 Axes>"
      ]
     },
     "metadata": {
      "needs_background": "light"
     },
     "output_type": "display_data"
    }
   ],
   "source": [
    "plt.plot(var_exp)"
   ]
  },
  {
   "cell_type": "code",
   "execution_count": 75,
   "metadata": {},
   "outputs": [
    {
     "data": {
      "image/png": "[encoded data removed]",
      "text/plain": [
       "<Figure size 720x360 with 1 Axes>"
      ]
     },
     "metadata": {
      "needs_background": "light"
     },
     "output_type": "display_data"
    }
   ],
   "source": [
    "# Ploting we see that PCA is not giving us much benefit\n",
    "plt.figure(figsize=(10 , 5))\n",
    "plt.bar(range(1, eig_vals.size + 1), var_exp, alpha = 0.5, align = 'center', label = 'Individual explained variance')\n",
    "plt.step(range(1, eig_vals.size + 1), cum_var_exp, where='mid', label = 'Cumulative explained variance')\n",
    "plt.ylabel('Explained Variance Ratio')\n",
    "plt.xlabel('Principal Components')\n",
    "plt.legend(loc = 'best')\n",
    "plt.tight_layout()\n",
    "plt.show()"
   ]
  },
  {
   "cell_type": "code",
   "execution_count": 76,
   "metadata": {},
   "outputs": [
    {
     "name": "stdout",
     "output_type": "stream",
     "text": [
      "[[-0.00691759  0.23483961 -0.20629912 ...  0.00284374 -0.0003788\n",
      "   0.017406  ]\n",
      " [ 0.01532866 -0.02575387  0.03048486 ...  0.00944941  0.02557689\n",
      "   0.03104678]\n",
      " [ 0.05094243  0.14401394 -0.18604913 ... -0.0316189   0.04872985\n",
      "   0.02191294]\n",
      " ...\n",
      " [ 0.0725798   0.12489598 -0.14379649 ...  0.07745584 -0.13063259\n",
      "   0.16555424]\n",
      " [ 0.05078313 -0.03564429  0.16938605 ...  0.00667406 -0.16153881\n",
      "  -0.08161272]\n",
      " [ 0.29835954 -0.06653541  0.1317706  ...  0.10476035 -0.26052265\n",
      "  -0.22711025]]\n",
      "[0.12446875 0.09953753 0.0727878  0.05053655 0.04818868 0.03683077\n",
      " 0.03430871 0.0286649  0.02725428 0.02572162 0.02326372 0.02184407\n",
      " 0.01860258 0.0180531  0.0175145  0.01692894 0.01653593 0.01631765\n",
      " 0.01624579 0.01564804 0.01524998 0.01496391 0.01482389 0.01459242\n",
      " 0.01404495 0.01362014 0.01302083 0.01242883]\n"
     ]
    }
   ],
   "source": [
    "#Using 28 components and printing the eigen vectors\n",
    "pca3 = PCA(n_components=28)\n",
    "pca3.fit(XScaled)\n",
    "print(pca3.components_)\n",
    "print(pca3.explained_variance_ratio_)\n",
    "Xpca3 = pca3.transform(XScaled)"
   ]
  },
  {
   "cell_type": "code",
   "execution_count": 77,
   "metadata": {},
   "outputs": [
    {
     "name": "stdout",
     "output_type": "stream",
     "text": [
      "Original number of features: 442\n",
      "Reduced number of features: 28\n"
     ]
    }
   ],
   "source": [
    "#printing the original features and the reduced features\n",
    "pca_8 = PCA(n_components = 28)\n",
    "X_pca = pca_8.fit_transform(XScaled)\n",
    "print('Original number of features:', X.shape[1])\n",
    "print('Reduced number of features:', X_pca.shape[1])"
   ]
  },
  {
   "cell_type": "code",
   "execution_count": 78,
   "metadata": {},
   "outputs": [
    {
     "data": {
      "text/html": [
       "<div>\n",
       "<style scoped>\n",
       "    .dataframe tbody tr th:only-of-type {\n",
       "        vertical-align: middle;\n",
       "    }\n",
       "\n",
       "    .dataframe tbody tr th {\n",
       "        vertical-align: top;\n",
       "    }\n",
       "\n",
       "    .dataframe thead th {\n",
       "        text-align: right;\n",
       "    }\n",
       "</style>\n",
       "<table border=\"1\" class=\"dataframe\">\n",
       "  <thead>\n",
       "    <tr style=\"text-align: right;\">\n",
       "      <th></th>\n",
       "      <th>0</th>\n",
       "      <th>1</th>\n",
       "      <th>2</th>\n",
       "      <th>3</th>\n",
       "      <th>4</th>\n",
       "      <th>5</th>\n",
       "      <th>6</th>\n",
       "      <th>7</th>\n",
       "      <th>8</th>\n",
       "      <th>9</th>\n",
       "      <th>...</th>\n",
       "      <th>18</th>\n",
       "      <th>19</th>\n",
       "      <th>20</th>\n",
       "      <th>21</th>\n",
       "      <th>22</th>\n",
       "      <th>23</th>\n",
       "      <th>24</th>\n",
       "      <th>25</th>\n",
       "      <th>26</th>\n",
       "      <th>27</th>\n",
       "    </tr>\n",
       "  </thead>\n",
       "  <tbody>\n",
       "    <tr>\n",
       "      <th>0</th>\n",
       "      <td>1.08</td>\n",
       "      <td>-0.42</td>\n",
       "      <td>-2.31</td>\n",
       "      <td>-0.58</td>\n",
       "      <td>1.09</td>\n",
       "      <td>-1.83</td>\n",
       "      <td>-0.08</td>\n",
       "      <td>-0.56</td>\n",
       "      <td>-0.45</td>\n",
       "      <td>0.97</td>\n",
       "      <td>...</td>\n",
       "      <td>-0.16</td>\n",
       "      <td>-0.49</td>\n",
       "      <td>0.87</td>\n",
       "      <td>0.32</td>\n",
       "      <td>0.55</td>\n",
       "      <td>-0.53</td>\n",
       "      <td>0.24</td>\n",
       "      <td>-1.80</td>\n",
       "      <td>-0.07</td>\n",
       "      <td>-0.72</td>\n",
       "    </tr>\n",
       "    <tr>\n",
       "      <th>1</th>\n",
       "      <td>0.02</td>\n",
       "      <td>-0.86</td>\n",
       "      <td>-1.58</td>\n",
       "      <td>-0.44</td>\n",
       "      <td>1.39</td>\n",
       "      <td>-1.25</td>\n",
       "      <td>-1.14</td>\n",
       "      <td>-0.74</td>\n",
       "      <td>0.10</td>\n",
       "      <td>0.93</td>\n",
       "      <td>...</td>\n",
       "      <td>-0.44</td>\n",
       "      <td>-1.82</td>\n",
       "      <td>0.73</td>\n",
       "      <td>-0.22</td>\n",
       "      <td>-1.00</td>\n",
       "      <td>0.13</td>\n",
       "      <td>0.47</td>\n",
       "      <td>-0.48</td>\n",
       "      <td>1.06</td>\n",
       "      <td>-0.10</td>\n",
       "    </tr>\n",
       "    <tr>\n",
       "      <th>2</th>\n",
       "      <td>0.62</td>\n",
       "      <td>0.49</td>\n",
       "      <td>-2.75</td>\n",
       "      <td>-1.83</td>\n",
       "      <td>2.02</td>\n",
       "      <td>0.12</td>\n",
       "      <td>-1.47</td>\n",
       "      <td>-4.61</td>\n",
       "      <td>-0.66</td>\n",
       "      <td>3.17</td>\n",
       "      <td>...</td>\n",
       "      <td>-0.26</td>\n",
       "      <td>1.26</td>\n",
       "      <td>0.36</td>\n",
       "      <td>0.96</td>\n",
       "      <td>0.59</td>\n",
       "      <td>-0.44</td>\n",
       "      <td>0.37</td>\n",
       "      <td>0.46</td>\n",
       "      <td>0.03</td>\n",
       "      <td>-0.89</td>\n",
       "    </tr>\n",
       "    <tr>\n",
       "      <th>3</th>\n",
       "      <td>0.58</td>\n",
       "      <td>0.47</td>\n",
       "      <td>-0.70</td>\n",
       "      <td>4.71</td>\n",
       "      <td>7.51</td>\n",
       "      <td>5.00</td>\n",
       "      <td>0.57</td>\n",
       "      <td>-2.70</td>\n",
       "      <td>0.15</td>\n",
       "      <td>0.53</td>\n",
       "      <td>...</td>\n",
       "      <td>0.89</td>\n",
       "      <td>14.15</td>\n",
       "      <td>14.13</td>\n",
       "      <td>-2.74</td>\n",
       "      <td>-1.36</td>\n",
       "      <td>3.90</td>\n",
       "      <td>6.10</td>\n",
       "      <td>1.61</td>\n",
       "      <td>1.12</td>\n",
       "      <td>2.47</td>\n",
       "    </tr>\n",
       "    <tr>\n",
       "      <th>4</th>\n",
       "      <td>0.38</td>\n",
       "      <td>0.76</td>\n",
       "      <td>-0.25</td>\n",
       "      <td>1.36</td>\n",
       "      <td>2.12</td>\n",
       "      <td>-3.45</td>\n",
       "      <td>0.49</td>\n",
       "      <td>-1.94</td>\n",
       "      <td>0.05</td>\n",
       "      <td>0.24</td>\n",
       "      <td>...</td>\n",
       "      <td>-0.23</td>\n",
       "      <td>-0.57</td>\n",
       "      <td>0.89</td>\n",
       "      <td>-0.06</td>\n",
       "      <td>-0.87</td>\n",
       "      <td>-0.80</td>\n",
       "      <td>0.49</td>\n",
       "      <td>3.09</td>\n",
       "      <td>0.48</td>\n",
       "      <td>-0.80</td>\n",
       "    </tr>\n",
       "  </tbody>\n",
       "</table>\n",
       "<p>5 rows × 28 columns</p>\n",
       "</div>"
      ],
      "text/plain": [
       "    0     1     2     3    4     5     6     7     8    9   ...    18    19  \\\n",
       "0 1.08 -0.42 -2.31 -0.58 1.09 -1.83 -0.08 -0.56 -0.45 0.97  ... -0.16 -0.49   \n",
       "1 0.02 -0.86 -1.58 -0.44 1.39 -1.25 -1.14 -0.74  0.10 0.93  ... -0.44 -1.82   \n",
       "2 0.62  0.49 -2.75 -1.83 2.02  0.12 -1.47 -4.61 -0.66 3.17  ... -0.26  1.26   \n",
       "3 0.58  0.47 -0.70  4.71 7.51  5.00  0.57 -2.70  0.15 0.53  ...  0.89 14.15   \n",
       "4 0.38  0.76 -0.25  1.36 2.12 -3.45  0.49 -1.94  0.05 0.24  ... -0.23 -0.57   \n",
       "\n",
       "     20    21    22    23   24    25    26    27  \n",
       "0  0.87  0.32  0.55 -0.53 0.24 -1.80 -0.07 -0.72  \n",
       "1  0.73 -0.22 -1.00  0.13 0.47 -0.48  1.06 -0.10  \n",
       "2  0.36  0.96  0.59 -0.44 0.37  0.46  0.03 -0.89  \n",
       "3 14.13 -2.74 -1.36  3.90 6.10  1.61  1.12  2.47  \n",
       "4  0.89 -0.06 -0.87 -0.80 0.49  3.09  0.48 -0.80  \n",
       "\n",
       "[5 rows x 28 columns]"
      ]
     },
     "execution_count": 78,
     "metadata": {},
     "output_type": "execute_result"
    }
   ],
   "source": [
    "#viewing the first 5 observations of the pca components\n",
    "pca_df = pd.DataFrame(data = X_pca)\n",
    "pca_df.head()"
   ]
  },
  {
   "cell_type": "code",
   "execution_count": 79,
   "metadata": {},
   "outputs": [],
   "source": [
    "X_tr, X_te, y_tr, y_te = train_test_split(X_pca, y, test_size = 0.3, random_state = 10)"
   ]
  },
  {
   "cell_type": "code",
   "execution_count": 80,
   "metadata": {},
   "outputs": [],
   "source": [
    "# Initialize the logistic regression model\n",
    "from sklearn.linear_model import LogisticRegression\n",
    "lrpca = LogisticRegression()"
   ]
  },
  {
   "cell_type": "code",
   "execution_count": 81,
   "metadata": {},
   "outputs": [
    {
     "data": {
      "text/plain": [
       "LogisticRegression()"
      ]
     },
     "execution_count": 81,
     "metadata": {},
     "output_type": "execute_result"
    }
   ],
   "source": [
    "lrpca.fit(X_tr, y_tr)"
   ]
  },
  {
   "cell_type": "code",
   "execution_count": 82,
   "metadata": {},
   "outputs": [],
   "source": [
    "# Make predictions\n",
    "y_pred = lrpca.predict(X_te) # Predictions\n",
    "y_true = y_test # True values"
   ]
  },
  {
   "cell_type": "code",
   "execution_count": 91,
   "metadata": {},
   "outputs": [
    {
     "name": "stdout",
     "output_type": "stream",
     "text": [
      "Train accuracy: 0.93\n",
      "Test accuracy: 0.92\n",
      "              precision    recall  f1-score   support\n",
      "\n",
      "          -1       0.94      0.98      0.96       440\n",
      "           1       0.11      0.03      0.05        31\n",
      "\n",
      "    accuracy                           0.92       471\n",
      "   macro avg       0.52      0.51      0.50       471\n",
      "weighted avg       0.88      0.92      0.90       471\n",
      "\n",
      "\n",
      "Test confusion_matrix [[432   8]\n",
      " [ 30   1]]\n"
     ]
    },
    {
     "data": {
      "text/plain": [
       "Text(30.5, 0.5, 'True')"
      ]
     },
     "execution_count": 91,
     "metadata": {},
     "output_type": "execute_result"
    },
    {
     "data": {
      "image/png": "[encoded data removed]",
      "text/plain": [
       "<Figure size 432x288 with 2 Axes>"
      ]
     },
     "metadata": {
      "needs_background": "light"
     },
     "output_type": "display_data"
    }
   ],
   "source": [
    "# Measure accuracy\n",
    "from sklearn.metrics import accuracy_score\n",
    "import numpy as np\n",
    "print(\"Train accuracy:\", np.round(accuracy_score(y_train, \n",
    "                                                 lrpca.predict(X_tr)), 2))\n",
    "print(\"Test accuracy:\", np.round(accuracy_score(y_true, y_pred), 2))\n",
    "\n",
    "print(classification_report(y_test, y_pred))\n",
    "\n",
    "# Make the confusion matrix\n",
    "from sklearn.metrics import confusion_matrix\n",
    "cf_matrix = confusion_matrix(y_true, y_pred)\n",
    "print(\"\\nTest confusion_matrix\",cf_matrix)\n",
    "sns.heatmap(cf_matrix, annot=True, cmap='Blues')\n",
    "plt.xlabel('Predicted', fontsize=12)\n",
    "plt.ylabel('True', fontsize=12)"
   ]
  },
  {
   "cell_type": "code",
   "execution_count": 92,
   "metadata": {},
   "outputs": [],
   "source": [
    "#PCA IS THE BEST MODEL AS COMPARED TO OTHERS.\n",
    "#OUT OF 62 REDUCED FEATURES, 28 COMPONENTS ARE SELECTED AND ACCURACY IS 93%. \n",
    "# LOGISTIC REGRESSION HAS BEEN APPLIED FOR THE PCA AND MODEL HAS GOT US 93% ACCURACY."
   ]
  },
  {
   "cell_type": "code",
   "execution_count": 84,
   "metadata": {},
   "outputs": [],
   "source": [
    "import pickle"
   ]
  },
  {
   "cell_type": "code",
   "execution_count": 85,
   "metadata": {},
   "outputs": [],
   "source": [
    "# save the model to disk\n",
    "filename = 'final_model.sav'\n",
    "saved_model =pickle.dump(clfRS, open(filename, 'wb'))"
   ]
  },
  {
   "cell_type": "code",
   "execution_count": 86,
   "metadata": {},
   "outputs": [
    {
     "data": {
      "text/html": [
       "<div>\n",
       "<style scoped>\n",
       "    .dataframe tbody tr th:only-of-type {\n",
       "        vertical-align: middle;\n",
       "    }\n",
       "\n",
       "    .dataframe tbody tr th {\n",
       "        vertical-align: top;\n",
       "    }\n",
       "\n",
       "    .dataframe thead th {\n",
       "        text-align: right;\n",
       "    }\n",
       "</style>\n",
       "<table border=\"1\" class=\"dataframe\">\n",
       "  <thead>\n",
       "    <tr style=\"text-align: right;\">\n",
       "      <th></th>\n",
       "      <th>Time</th>\n",
       "      <th>0</th>\n",
       "      <th>1</th>\n",
       "      <th>2</th>\n",
       "      <th>3</th>\n",
       "      <th>4</th>\n",
       "      <th>5</th>\n",
       "      <th>6</th>\n",
       "      <th>7</th>\n",
       "      <th>8</th>\n",
       "      <th>...</th>\n",
       "      <th>580</th>\n",
       "      <th>581</th>\n",
       "      <th>582</th>\n",
       "      <th>583</th>\n",
       "      <th>584</th>\n",
       "      <th>585</th>\n",
       "      <th>586</th>\n",
       "      <th>587</th>\n",
       "      <th>588</th>\n",
       "      <th>589</th>\n",
       "    </tr>\n",
       "  </thead>\n",
       "  <tbody>\n",
       "    <tr>\n",
       "      <th>0</th>\n",
       "      <td>2008-07-19 11:55:00</td>\n",
       "      <td>3030.93</td>\n",
       "      <td>2564.00</td>\n",
       "      <td>2187.73</td>\n",
       "      <td>1411.13</td>\n",
       "      <td>1.36</td>\n",
       "      <td>100</td>\n",
       "      <td>97.61</td>\n",
       "      <td>0.12</td>\n",
       "      <td>1.50</td>\n",
       "      <td>...</td>\n",
       "      <td>nan</td>\n",
       "      <td>nan</td>\n",
       "      <td>0.50</td>\n",
       "      <td>0.01</td>\n",
       "      <td>0.00</td>\n",
       "      <td>2.36</td>\n",
       "      <td>nan</td>\n",
       "      <td>nan</td>\n",
       "      <td>nan</td>\n",
       "      <td>nan</td>\n",
       "    </tr>\n",
       "    <tr>\n",
       "      <th>1</th>\n",
       "      <td>2008-07-19 12:32:00</td>\n",
       "      <td>3095.78</td>\n",
       "      <td>2465.14</td>\n",
       "      <td>2230.42</td>\n",
       "      <td>1463.66</td>\n",
       "      <td>0.83</td>\n",
       "      <td>100</td>\n",
       "      <td>102.34</td>\n",
       "      <td>0.12</td>\n",
       "      <td>1.50</td>\n",
       "      <td>...</td>\n",
       "      <td>0.01</td>\n",
       "      <td>208.20</td>\n",
       "      <td>0.50</td>\n",
       "      <td>0.02</td>\n",
       "      <td>0.01</td>\n",
       "      <td>4.44</td>\n",
       "      <td>0.01</td>\n",
       "      <td>0.02</td>\n",
       "      <td>0.01</td>\n",
       "      <td>208.20</td>\n",
       "    </tr>\n",
       "    <tr>\n",
       "      <th>2</th>\n",
       "      <td>2008-07-19 13:17:00</td>\n",
       "      <td>2932.61</td>\n",
       "      <td>2559.94</td>\n",
       "      <td>2186.41</td>\n",
       "      <td>1698.02</td>\n",
       "      <td>1.51</td>\n",
       "      <td>100</td>\n",
       "      <td>95.49</td>\n",
       "      <td>0.12</td>\n",
       "      <td>1.44</td>\n",
       "      <td>...</td>\n",
       "      <td>0.01</td>\n",
       "      <td>82.86</td>\n",
       "      <td>0.50</td>\n",
       "      <td>0.02</td>\n",
       "      <td>0.00</td>\n",
       "      <td>3.17</td>\n",
       "      <td>0.06</td>\n",
       "      <td>0.05</td>\n",
       "      <td>0.01</td>\n",
       "      <td>82.86</td>\n",
       "    </tr>\n",
       "    <tr>\n",
       "      <th>3</th>\n",
       "      <td>2008-07-19 14:43:00</td>\n",
       "      <td>2988.72</td>\n",
       "      <td>2479.90</td>\n",
       "      <td>2199.03</td>\n",
       "      <td>909.79</td>\n",
       "      <td>1.32</td>\n",
       "      <td>100</td>\n",
       "      <td>104.24</td>\n",
       "      <td>0.12</td>\n",
       "      <td>1.49</td>\n",
       "      <td>...</td>\n",
       "      <td>0.00</td>\n",
       "      <td>73.84</td>\n",
       "      <td>0.50</td>\n",
       "      <td>0.01</td>\n",
       "      <td>0.00</td>\n",
       "      <td>2.05</td>\n",
       "      <td>0.02</td>\n",
       "      <td>0.01</td>\n",
       "      <td>0.00</td>\n",
       "      <td>73.84</td>\n",
       "    </tr>\n",
       "    <tr>\n",
       "      <th>4</th>\n",
       "      <td>2008-07-19 15:22:00</td>\n",
       "      <td>3032.24</td>\n",
       "      <td>2502.87</td>\n",
       "      <td>2233.37</td>\n",
       "      <td>1326.52</td>\n",
       "      <td>1.53</td>\n",
       "      <td>100</td>\n",
       "      <td>100.40</td>\n",
       "      <td>0.12</td>\n",
       "      <td>1.50</td>\n",
       "      <td>...</td>\n",
       "      <td>nan</td>\n",
       "      <td>nan</td>\n",
       "      <td>0.48</td>\n",
       "      <td>0.48</td>\n",
       "      <td>0.10</td>\n",
       "      <td>99.30</td>\n",
       "      <td>0.02</td>\n",
       "      <td>0.01</td>\n",
       "      <td>0.00</td>\n",
       "      <td>73.84</td>\n",
       "    </tr>\n",
       "  </tbody>\n",
       "</table>\n",
       "<p>5 rows × 591 columns</p>\n",
       "</div>"
      ],
      "text/plain": [
       "                 Time       0       1       2       3    4    5      6    7  \\\n",
       "0 2008-07-19 11:55:00 3030.93 2564.00 2187.73 1411.13 1.36  100  97.61 0.12   \n",
       "1 2008-07-19 12:32:00 3095.78 2465.14 2230.42 1463.66 0.83  100 102.34 0.12   \n",
       "2 2008-07-19 13:17:00 2932.61 2559.94 2186.41 1698.02 1.51  100  95.49 0.12   \n",
       "3 2008-07-19 14:43:00 2988.72 2479.90 2199.03  909.79 1.32  100 104.24 0.12   \n",
       "4 2008-07-19 15:22:00 3032.24 2502.87 2233.37 1326.52 1.53  100 100.40 0.12   \n",
       "\n",
       "     8  ...  580    581  582  583  584   585  586  587  588    589  \n",
       "0 1.50  ...  nan    nan 0.50 0.01 0.00  2.36  nan  nan  nan    nan  \n",
       "1 1.50  ... 0.01 208.20 0.50 0.02 0.01  4.44 0.01 0.02 0.01 208.20  \n",
       "2 1.44  ... 0.01  82.86 0.50 0.02 0.00  3.17 0.06 0.05 0.01  82.86  \n",
       "3 1.49  ... 0.00  73.84 0.50 0.01 0.00  2.05 0.02 0.01 0.00  73.84  \n",
       "4 1.50  ...  nan    nan 0.48 0.48 0.10 99.30 0.02 0.01 0.00  73.84  \n",
       "\n",
       "[5 rows x 591 columns]"
      ]
     },
     "execution_count": 86,
     "metadata": {},
     "output_type": "execute_result"
    }
   ],
   "source": [
    "data_2= pd.read_excel('Future_predictions.xlsx')\n",
    "data_2.head()"
   ]
  },
  {
   "cell_type": "code",
   "execution_count": 87,
   "metadata": {},
   "outputs": [
    {
     "data": {
      "text/plain": [
       "(18, 591)"
      ]
     },
     "execution_count": 87,
     "metadata": {},
     "output_type": "execute_result"
    }
   ],
   "source": [
    "data1=data_2.fillna(data_2.mean())\n",
    "data1.isnull().any().any()\n",
    "data1.shape"
   ]
  },
  {
   "cell_type": "code",
   "execution_count": 88,
   "metadata": {},
   "outputs": [
    {
     "data": {
      "text/html": [
       "<div>\n",
       "<style scoped>\n",
       "    .dataframe tbody tr th:only-of-type {\n",
       "        vertical-align: middle;\n",
       "    }\n",
       "\n",
       "    .dataframe tbody tr th {\n",
       "        vertical-align: top;\n",
       "    }\n",
       "\n",
       "    .dataframe thead th {\n",
       "        text-align: right;\n",
       "    }\n",
       "</style>\n",
       "<table border=\"1\" class=\"dataframe\">\n",
       "  <thead>\n",
       "    <tr style=\"text-align: right;\">\n",
       "      <th></th>\n",
       "      <th>Time</th>\n",
       "      <th>0</th>\n",
       "      <th>1</th>\n",
       "      <th>2</th>\n",
       "      <th>3</th>\n",
       "      <th>5</th>\n",
       "      <th>6</th>\n",
       "      <th>7</th>\n",
       "      <th>8</th>\n",
       "      <th>9</th>\n",
       "      <th>...</th>\n",
       "      <th>580</th>\n",
       "      <th>581</th>\n",
       "      <th>582</th>\n",
       "      <th>583</th>\n",
       "      <th>584</th>\n",
       "      <th>585</th>\n",
       "      <th>586</th>\n",
       "      <th>587</th>\n",
       "      <th>588</th>\n",
       "      <th>589</th>\n",
       "    </tr>\n",
       "  </thead>\n",
       "  <tbody>\n",
       "    <tr>\n",
       "      <th>0</th>\n",
       "      <td>2008-07-19 11:55:00</td>\n",
       "      <td>3030.93</td>\n",
       "      <td>2564.00</td>\n",
       "      <td>2187.73</td>\n",
       "      <td>1411.13</td>\n",
       "      <td>100</td>\n",
       "      <td>97.61</td>\n",
       "      <td>0.12</td>\n",
       "      <td>1.50</td>\n",
       "      <td>0.02</td>\n",
       "      <td>...</td>\n",
       "      <td>0.01</td>\n",
       "      <td>93.59</td>\n",
       "      <td>0.50</td>\n",
       "      <td>0.01</td>\n",
       "      <td>0.00</td>\n",
       "      <td>2.36</td>\n",
       "      <td>0.02</td>\n",
       "      <td>0.02</td>\n",
       "      <td>0.01</td>\n",
       "      <td>86.40</td>\n",
       "    </tr>\n",
       "    <tr>\n",
       "      <th>1</th>\n",
       "      <td>2008-07-19 12:32:00</td>\n",
       "      <td>3095.78</td>\n",
       "      <td>2465.14</td>\n",
       "      <td>2230.42</td>\n",
       "      <td>1463.66</td>\n",
       "      <td>100</td>\n",
       "      <td>102.34</td>\n",
       "      <td>0.12</td>\n",
       "      <td>1.50</td>\n",
       "      <td>-0.00</td>\n",
       "      <td>...</td>\n",
       "      <td>0.01</td>\n",
       "      <td>208.20</td>\n",
       "      <td>0.50</td>\n",
       "      <td>0.02</td>\n",
       "      <td>0.01</td>\n",
       "      <td>4.44</td>\n",
       "      <td>0.01</td>\n",
       "      <td>0.02</td>\n",
       "      <td>0.01</td>\n",
       "      <td>208.20</td>\n",
       "    </tr>\n",
       "  </tbody>\n",
       "</table>\n",
       "<p>2 rows × 475 columns</p>\n",
       "</div>"
      ],
      "text/plain": [
       "                 Time       0       1       2       3    5      6    7    8  \\\n",
       "0 2008-07-19 11:55:00 3030.93 2564.00 2187.73 1411.13  100  97.61 0.12 1.50   \n",
       "1 2008-07-19 12:32:00 3095.78 2465.14 2230.42 1463.66  100 102.34 0.12 1.50   \n",
       "\n",
       "      9  ...  580    581  582  583  584  585  586  587  588    589  \n",
       "0  0.02  ... 0.01  93.59 0.50 0.01 0.00 2.36 0.02 0.02 0.01  86.40  \n",
       "1 -0.00  ... 0.01 208.20 0.50 0.02 0.01 4.44 0.01 0.02 0.01 208.20  \n",
       "\n",
       "[2 rows x 475 columns]"
      ]
     },
     "execution_count": 88,
     "metadata": {},
     "output_type": "execute_result"
    }
   ],
   "source": [
    "#We will now remove same values displayed throughout the column.\n",
    "data1 = data1.drop(data1.columns[[5,13,42,49,52,69,97,141, 149,178,179,186,189, 190,191,192,\n",
    "             193,194,226,229,230,231,232,233,\n",
    "             234,235,236,237,240,241,242,243,\n",
    "             256,257,258,259,260,261,262,263,\n",
    "             264,265,266,276,284,313,314,315,\n",
    "             322,325,326,327,328,329,330,364,\n",
    "             369,370,371,372,373,374,375,378,\n",
    "             379,380,381,394,395,396,397,398,\n",
    "             399,400,401,402,403,404,414,422,\n",
    "             449,450,451,458,461,462,463,464,\n",
    "             465,466,481,498,501,502,503,504,\n",
    "             505,506,507,508,509,512,513,514,\n",
    "             515,528,529,530,531,532,533,534,\n",
    "             535,536,537,538]], axis=1)\n",
    "data1.head(2)"
   ]
  },
  {
   "cell_type": "code",
   "execution_count": 89,
   "metadata": {},
   "outputs": [
    {
     "data": {
      "text/plain": [
       "False"
      ]
     },
     "execution_count": 89,
     "metadata": {},
     "output_type": "execute_result"
    }
   ],
   "source": [
    "# data=data_1.fillna(data_1.mean())\n",
    "data = data_1.fillna(0)\n",
    "data.isnull().any().any()\n",
    "# data_1.head(2)"
   ]
  },
  {
   "cell_type": "code",
   "execution_count": 90,
   "metadata": {},
   "outputs": [],
   "source": [
    "X_train, X_test  = train_test_split(X, test_size = 0.4, random_state = 42)"
   ]
  },
  {
   "cell_type": "code",
   "execution_count": 93,
   "metadata": {},
   "outputs": [],
   "source": [
    "#CONCLUSION\n",
    "#WE TRIED IMPLEMENTING LAZYPREDICT FOR IMBALANCED CLASSES.\n",
    "#WE HAVE TRIED LOGISTIC REGRESSION, SVM  USING RANDOM OVER SAMPLING, ADASYN, SMOTE.\n",
    "#ADASYN PERFORMED BETTER WITH SVM ALOGORITHM. \n",
    "#WE PERFORMED Z SCORE SCALING ON BOTH THE DATASETS AND TOOK PCA WITH N_COMPONENTS AS 28\n",
    "#WE DID K-FOLD CROSS VALIDATION AND STRATIFIED K-FOLD CROSS VALIDATION WHICH HELPED IMPROVE THE RESULTS A FAIR BIT TO ABOUT OVERALL\n",
    "# 93% ACCURACY\n",
    "#WE USED GRID SEARCH FOR HYPER PARAMETER TUNING AND RESULTS WITH 93% ACCURACY"
   ]
  },
  {
   "cell_type": "code",
   "execution_count": null,
   "metadata": {},
   "outputs": [],
   "source": []
  }
 ],
 "metadata": {
  "kernelspec": {
   "display_name": "Python 3",
   "language": "python",
   "name": "python3"
  },
  "language_info": {
   "codemirror_mode": {
    "name": "ipython",
    "version": 3
   },
   "file_extension": ".py",
   "mimetype": "text/x-python",
   "name": "python",
   "nbconvert_exporter": "python",
   "pygments_lexer": "ipython3",
   "version": "3.7.4"
  }
 },
 "nbformat": 4,
 "nbformat_minor": 2
}
